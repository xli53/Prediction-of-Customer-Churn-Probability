{
  "nbformat": 4,
  "nbformat_minor": 0,
  "metadata": {
    "colab": {
      "name": "Project 1_Customer Churn.ipynb",
      "provenance": [],
      "collapsed_sections": []
    },
    "kernelspec": {
      "display_name": "Python 3",
      "language": "python",
      "name": "python3"
    }
  },
  "cells": [
    {
      "cell_type": "markdown",
      "metadata": {
        "id": "R88Ms0MTi0Ma",
        "colab_type": "text"
      },
      "source": [
        "# Prediction of Customer Churn Probability for Telecommunications Service Vendors\n",
        "\n",
        "In this project, I trained supervised learning models to identify customers who are likely to stop using service in the future. Furthermore, I analyzed top factors that influence user retention."
      ]
    },
    {
      "cell_type": "markdown",
      "metadata": {
        "id": "bO94-bXZi0Md",
        "colab_type": "text"
      },
      "source": [
        "## Contents"
      ]
    },
    {
      "cell_type": "markdown",
      "metadata": {
        "id": "SIvRSRqAi0Md",
        "colab_type": "text"
      },
      "source": [
        "\n",
        "Part 0: Set Up Google Drive Environment\n",
        "\n",
        "Part 1: Data Exploration\n",
        "*   Part 1.1: Data Overview\n",
        "*   Part 1.2: Data Cleaning\n",
        "*   Part 1.3: Understand the Feature\n",
        "\n",
        "Part 2: Feature Preprocessing\n",
        "\n",
        "Part 3: Model Training and Results Evaluation\n",
        "*   Part 3.1: Split DatasetList Item\n",
        "*   Part 3.2: Model Training and Selection (Logistic Regression, KNN, Random Forest, SVM)\n",
        "*   Part 3.3: Use Grid Search to Find Optimal Hyperparameters\n",
        "*   Part 3.4: Model Evaluation (Confusion Matrix, ROC & AUC)\n",
        "\n",
        "Part 4: Feature Selection\n"
      ]
    },
    {
      "cell_type": "markdown",
      "metadata": {
        "id": "TUoI2S7Bi6iR",
        "colab_type": "text"
      },
      "source": [
        "# Part 0: Setup Google Drive Environment"
      ]
    },
    {
      "cell_type": "code",
      "metadata": {
        "id": "neechzbWi7rV",
        "colab_type": "code",
        "colab": {}
      },
      "source": [
        "!pip install -U -q PyDrive\n",
        "\n",
        "from pydrive.auth import GoogleAuth\n",
        "from pydrive.drive import GoogleDrive\n",
        "from google.colab import auth\n",
        "from oauth2client.client import GoogleCredentials\n",
        "\n",
        "auth.authenticate_user()\n",
        "gauth = GoogleAuth()\n",
        "gauth.credentials = GoogleCredentials.get_application_default()\n",
        "drive = GoogleDrive(gauth)"
      ],
      "execution_count": 0,
      "outputs": []
    },
    {
      "cell_type": "code",
      "metadata": {
        "id": "UScKyL2TjARW",
        "colab_type": "code",
        "colab": {}
      },
      "source": [
        "# https://drive.google.com/open?id=1ixskieqR9FQZZyIMKgCAeZcG93ogBHh7\n",
        "file = drive.CreateFile({'id': '1ixskieqR9FQZZyIMKgCAeZcG93ogBHh7'}) # replace the id with id of file you want to access\n",
        "file.GetContentFile('churn.all')\n",
        "#print(file)"
      ],
      "execution_count": 0,
      "outputs": []
    },
    {
      "cell_type": "markdown",
      "metadata": {
        "id": "ikYHWOnYfKPM",
        "colab_type": "text"
      },
      "source": [
        "Load dataset"
      ]
    },
    {
      "cell_type": "code",
      "metadata": {
        "id": "1iLCfrlpe-pV",
        "colab_type": "code",
        "outputId": "d1d985c6-07af-4574-b776-9a4788342174",
        "colab": {
          "base_uri": "https://localhost:8080/",
          "height": 224
        }
      },
      "source": [
        "# Read data from Google Drive (recommend)\n",
        "import pandas as pd\n",
        "file_id='1UCLezrjIMSIRnKdcUgGA7bIRfzz-kU2C'\n",
        "link='https://drive.google.com/uc?export=download&id={FILE_ID}'\n",
        "csv_url=link.format(FILE_ID=file_id)\n",
        "file = pd.read_csv(csv_url)\n",
        "\n",
        "file.head()"
      ],
      "execution_count": 0,
      "outputs": [
        {
          "output_type": "execute_result",
          "data": {
            "text/html": [
              "<div>\n",
              "<style scoped>\n",
              "    .dataframe tbody tr th:only-of-type {\n",
              "        vertical-align: middle;\n",
              "    }\n",
              "\n",
              "    .dataframe tbody tr th {\n",
              "        vertical-align: top;\n",
              "    }\n",
              "\n",
              "    .dataframe thead th {\n",
              "        text-align: right;\n",
              "    }\n",
              "</style>\n",
              "<table border=\"1\" class=\"dataframe\">\n",
              "  <thead>\n",
              "    <tr style=\"text-align: right;\">\n",
              "      <th></th>\n",
              "      <th>state</th>\n",
              "      <th>account_length</th>\n",
              "      <th>area_code</th>\n",
              "      <th>phone_number</th>\n",
              "      <th>intl_plan</th>\n",
              "      <th>voice_mail_plan</th>\n",
              "      <th>number_vmail_messages</th>\n",
              "      <th>total_day_minutes</th>\n",
              "      <th>total_day_calls</th>\n",
              "      <th>total_day_charge</th>\n",
              "      <th>total_eve_minutes</th>\n",
              "      <th>total_eve_calls</th>\n",
              "      <th>total_eve_charge</th>\n",
              "      <th>total_night_minutes</th>\n",
              "      <th>total_night_calls</th>\n",
              "      <th>total_night_charge</th>\n",
              "      <th>total_intl_minutes</th>\n",
              "      <th>total_intl_calls</th>\n",
              "      <th>total_intl_charge</th>\n",
              "      <th>number_customer_service_calls</th>\n",
              "      <th>churned</th>\n",
              "    </tr>\n",
              "  </thead>\n",
              "  <tbody>\n",
              "    <tr>\n",
              "      <th>0</th>\n",
              "      <td>KS</td>\n",
              "      <td>128</td>\n",
              "      <td>415</td>\n",
              "      <td>382-4657</td>\n",
              "      <td>no</td>\n",
              "      <td>yes</td>\n",
              "      <td>25</td>\n",
              "      <td>265.1</td>\n",
              "      <td>110</td>\n",
              "      <td>45.07</td>\n",
              "      <td>197.4</td>\n",
              "      <td>99</td>\n",
              "      <td>16.78</td>\n",
              "      <td>244.7</td>\n",
              "      <td>91</td>\n",
              "      <td>11.01</td>\n",
              "      <td>10.0</td>\n",
              "      <td>3</td>\n",
              "      <td>2.70</td>\n",
              "      <td>1</td>\n",
              "      <td>False.</td>\n",
              "    </tr>\n",
              "    <tr>\n",
              "      <th>1</th>\n",
              "      <td>OH</td>\n",
              "      <td>107</td>\n",
              "      <td>415</td>\n",
              "      <td>371-7191</td>\n",
              "      <td>no</td>\n",
              "      <td>yes</td>\n",
              "      <td>26</td>\n",
              "      <td>161.6</td>\n",
              "      <td>123</td>\n",
              "      <td>27.47</td>\n",
              "      <td>195.5</td>\n",
              "      <td>103</td>\n",
              "      <td>16.62</td>\n",
              "      <td>254.4</td>\n",
              "      <td>103</td>\n",
              "      <td>11.45</td>\n",
              "      <td>13.7</td>\n",
              "      <td>3</td>\n",
              "      <td>3.70</td>\n",
              "      <td>1</td>\n",
              "      <td>False.</td>\n",
              "    </tr>\n",
              "    <tr>\n",
              "      <th>2</th>\n",
              "      <td>NJ</td>\n",
              "      <td>137</td>\n",
              "      <td>415</td>\n",
              "      <td>358-1921</td>\n",
              "      <td>no</td>\n",
              "      <td>no</td>\n",
              "      <td>0</td>\n",
              "      <td>243.4</td>\n",
              "      <td>114</td>\n",
              "      <td>41.38</td>\n",
              "      <td>121.2</td>\n",
              "      <td>110</td>\n",
              "      <td>10.30</td>\n",
              "      <td>162.6</td>\n",
              "      <td>104</td>\n",
              "      <td>7.32</td>\n",
              "      <td>12.2</td>\n",
              "      <td>5</td>\n",
              "      <td>3.29</td>\n",
              "      <td>0</td>\n",
              "      <td>False.</td>\n",
              "    </tr>\n",
              "    <tr>\n",
              "      <th>3</th>\n",
              "      <td>OH</td>\n",
              "      <td>84</td>\n",
              "      <td>408</td>\n",
              "      <td>375-9999</td>\n",
              "      <td>yes</td>\n",
              "      <td>no</td>\n",
              "      <td>0</td>\n",
              "      <td>299.4</td>\n",
              "      <td>71</td>\n",
              "      <td>50.90</td>\n",
              "      <td>61.9</td>\n",
              "      <td>88</td>\n",
              "      <td>5.26</td>\n",
              "      <td>196.9</td>\n",
              "      <td>89</td>\n",
              "      <td>8.86</td>\n",
              "      <td>6.6</td>\n",
              "      <td>7</td>\n",
              "      <td>1.78</td>\n",
              "      <td>2</td>\n",
              "      <td>False.</td>\n",
              "    </tr>\n",
              "    <tr>\n",
              "      <th>4</th>\n",
              "      <td>OK</td>\n",
              "      <td>75</td>\n",
              "      <td>415</td>\n",
              "      <td>330-6626</td>\n",
              "      <td>yes</td>\n",
              "      <td>no</td>\n",
              "      <td>0</td>\n",
              "      <td>166.7</td>\n",
              "      <td>113</td>\n",
              "      <td>28.34</td>\n",
              "      <td>148.3</td>\n",
              "      <td>122</td>\n",
              "      <td>12.61</td>\n",
              "      <td>186.9</td>\n",
              "      <td>121</td>\n",
              "      <td>8.41</td>\n",
              "      <td>10.1</td>\n",
              "      <td>3</td>\n",
              "      <td>2.73</td>\n",
              "      <td>3</td>\n",
              "      <td>False.</td>\n",
              "    </tr>\n",
              "  </tbody>\n",
              "</table>\n",
              "</div>"
            ],
            "text/plain": [
              "  state  account_length  ...  number_customer_service_calls  churned\n",
              "0    KS             128  ...                              1   False.\n",
              "1    OH             107  ...                              1   False.\n",
              "2    NJ             137  ...                              0   False.\n",
              "3    OH              84  ...                              2   False.\n",
              "4    OK              75  ...                              3   False.\n",
              "\n",
              "[5 rows x 21 columns]"
            ]
          },
          "metadata": {
            "tags": []
          },
          "execution_count": 4
        }
      ]
    },
    {
      "cell_type": "markdown",
      "metadata": {
        "id": "a6bG_gAPi0Me",
        "colab_type": "text"
      },
      "source": [
        "# Part 1: Data Exploration"
      ]
    },
    {
      "cell_type": "markdown",
      "metadata": {
        "id": "bspx2K6fi0Me",
        "colab_type": "text"
      },
      "source": [
        "### Part 1.1: Data Overview"
      ]
    },
    {
      "cell_type": "code",
      "metadata": {
        "id": "kuTHKjk-i0Mf",
        "colab_type": "code",
        "colab": {}
      },
      "source": [
        "import warnings\n",
        "warnings.filterwarnings('ignore')\n",
        "\n",
        "import pandas as pd\n",
        "import numpy as np\n",
        "# will show all the columns\n",
        "pd.set_option('display.max_columns', None)\n",
        "\n",
        "churn_df = pd.read_csv('churn.all')\n",
        "#print(churn_df)"
      ],
      "execution_count": 0,
      "outputs": []
    },
    {
      "cell_type": "code",
      "metadata": {
        "id": "HfwrhmJxWl_e",
        "colab_type": "code",
        "outputId": "4b27cddc-520c-4d3f-9550-3aeadd4a85f5",
        "colab": {
          "base_uri": "https://localhost:8080/",
          "height": 224
        }
      },
      "source": [
        "churn_df.head()"
      ],
      "execution_count": 0,
      "outputs": [
        {
          "output_type": "execute_result",
          "data": {
            "text/html": [
              "<div>\n",
              "<style scoped>\n",
              "    .dataframe tbody tr th:only-of-type {\n",
              "        vertical-align: middle;\n",
              "    }\n",
              "\n",
              "    .dataframe tbody tr th {\n",
              "        vertical-align: top;\n",
              "    }\n",
              "\n",
              "    .dataframe thead th {\n",
              "        text-align: right;\n",
              "    }\n",
              "</style>\n",
              "<table border=\"1\" class=\"dataframe\">\n",
              "  <thead>\n",
              "    <tr style=\"text-align: right;\">\n",
              "      <th></th>\n",
              "      <th>state</th>\n",
              "      <th>account_length</th>\n",
              "      <th>area_code</th>\n",
              "      <th>phone_number</th>\n",
              "      <th>intl_plan</th>\n",
              "      <th>voice_mail_plan</th>\n",
              "      <th>number_vmail_messages</th>\n",
              "      <th>total_day_minutes</th>\n",
              "      <th>total_day_calls</th>\n",
              "      <th>total_day_charge</th>\n",
              "      <th>total_eve_minutes</th>\n",
              "      <th>total_eve_calls</th>\n",
              "      <th>total_eve_charge</th>\n",
              "      <th>total_night_minutes</th>\n",
              "      <th>total_night_calls</th>\n",
              "      <th>total_night_charge</th>\n",
              "      <th>total_intl_minutes</th>\n",
              "      <th>total_intl_calls</th>\n",
              "      <th>total_intl_charge</th>\n",
              "      <th>number_customer_service_calls</th>\n",
              "      <th>churned</th>\n",
              "    </tr>\n",
              "  </thead>\n",
              "  <tbody>\n",
              "    <tr>\n",
              "      <th>0</th>\n",
              "      <td>KS</td>\n",
              "      <td>128</td>\n",
              "      <td>415</td>\n",
              "      <td>382-4657</td>\n",
              "      <td>no</td>\n",
              "      <td>yes</td>\n",
              "      <td>25</td>\n",
              "      <td>265.1</td>\n",
              "      <td>110</td>\n",
              "      <td>45.07</td>\n",
              "      <td>197.4</td>\n",
              "      <td>99</td>\n",
              "      <td>16.78</td>\n",
              "      <td>244.7</td>\n",
              "      <td>91</td>\n",
              "      <td>11.01</td>\n",
              "      <td>10.0</td>\n",
              "      <td>3</td>\n",
              "      <td>2.70</td>\n",
              "      <td>1</td>\n",
              "      <td>False.</td>\n",
              "    </tr>\n",
              "    <tr>\n",
              "      <th>1</th>\n",
              "      <td>OH</td>\n",
              "      <td>107</td>\n",
              "      <td>415</td>\n",
              "      <td>371-7191</td>\n",
              "      <td>no</td>\n",
              "      <td>yes</td>\n",
              "      <td>26</td>\n",
              "      <td>161.6</td>\n",
              "      <td>123</td>\n",
              "      <td>27.47</td>\n",
              "      <td>195.5</td>\n",
              "      <td>103</td>\n",
              "      <td>16.62</td>\n",
              "      <td>254.4</td>\n",
              "      <td>103</td>\n",
              "      <td>11.45</td>\n",
              "      <td>13.7</td>\n",
              "      <td>3</td>\n",
              "      <td>3.70</td>\n",
              "      <td>1</td>\n",
              "      <td>False.</td>\n",
              "    </tr>\n",
              "    <tr>\n",
              "      <th>2</th>\n",
              "      <td>NJ</td>\n",
              "      <td>137</td>\n",
              "      <td>415</td>\n",
              "      <td>358-1921</td>\n",
              "      <td>no</td>\n",
              "      <td>no</td>\n",
              "      <td>0</td>\n",
              "      <td>243.4</td>\n",
              "      <td>114</td>\n",
              "      <td>41.38</td>\n",
              "      <td>121.2</td>\n",
              "      <td>110</td>\n",
              "      <td>10.30</td>\n",
              "      <td>162.6</td>\n",
              "      <td>104</td>\n",
              "      <td>7.32</td>\n",
              "      <td>12.2</td>\n",
              "      <td>5</td>\n",
              "      <td>3.29</td>\n",
              "      <td>0</td>\n",
              "      <td>False.</td>\n",
              "    </tr>\n",
              "    <tr>\n",
              "      <th>3</th>\n",
              "      <td>OH</td>\n",
              "      <td>84</td>\n",
              "      <td>408</td>\n",
              "      <td>375-9999</td>\n",
              "      <td>yes</td>\n",
              "      <td>no</td>\n",
              "      <td>0</td>\n",
              "      <td>299.4</td>\n",
              "      <td>71</td>\n",
              "      <td>50.90</td>\n",
              "      <td>61.9</td>\n",
              "      <td>88</td>\n",
              "      <td>5.26</td>\n",
              "      <td>196.9</td>\n",
              "      <td>89</td>\n",
              "      <td>8.86</td>\n",
              "      <td>6.6</td>\n",
              "      <td>7</td>\n",
              "      <td>1.78</td>\n",
              "      <td>2</td>\n",
              "      <td>False.</td>\n",
              "    </tr>\n",
              "    <tr>\n",
              "      <th>4</th>\n",
              "      <td>OK</td>\n",
              "      <td>75</td>\n",
              "      <td>415</td>\n",
              "      <td>330-6626</td>\n",
              "      <td>yes</td>\n",
              "      <td>no</td>\n",
              "      <td>0</td>\n",
              "      <td>166.7</td>\n",
              "      <td>113</td>\n",
              "      <td>28.34</td>\n",
              "      <td>148.3</td>\n",
              "      <td>122</td>\n",
              "      <td>12.61</td>\n",
              "      <td>186.9</td>\n",
              "      <td>121</td>\n",
              "      <td>8.41</td>\n",
              "      <td>10.1</td>\n",
              "      <td>3</td>\n",
              "      <td>2.73</td>\n",
              "      <td>3</td>\n",
              "      <td>False.</td>\n",
              "    </tr>\n",
              "  </tbody>\n",
              "</table>\n",
              "</div>"
            ],
            "text/plain": [
              "  state  account_length  area_code phone_number intl_plan voice_mail_plan  \\\n",
              "0    KS             128        415     382-4657        no             yes   \n",
              "1    OH             107        415     371-7191        no             yes   \n",
              "2    NJ             137        415     358-1921        no              no   \n",
              "3    OH              84        408     375-9999       yes              no   \n",
              "4    OK              75        415     330-6626       yes              no   \n",
              "\n",
              "   number_vmail_messages  total_day_minutes  total_day_calls  \\\n",
              "0                     25              265.1              110   \n",
              "1                     26              161.6              123   \n",
              "2                      0              243.4              114   \n",
              "3                      0              299.4               71   \n",
              "4                      0              166.7              113   \n",
              "\n",
              "   total_day_charge  total_eve_minutes  total_eve_calls  total_eve_charge  \\\n",
              "0             45.07              197.4               99             16.78   \n",
              "1             27.47              195.5              103             16.62   \n",
              "2             41.38              121.2              110             10.30   \n",
              "3             50.90               61.9               88              5.26   \n",
              "4             28.34              148.3              122             12.61   \n",
              "\n",
              "   total_night_minutes  total_night_calls  total_night_charge  \\\n",
              "0                244.7                 91               11.01   \n",
              "1                254.4                103               11.45   \n",
              "2                162.6                104                7.32   \n",
              "3                196.9                 89                8.86   \n",
              "4                186.9                121                8.41   \n",
              "\n",
              "   total_intl_minutes  total_intl_calls  total_intl_charge  \\\n",
              "0                10.0                 3               2.70   \n",
              "1                13.7                 3               3.70   \n",
              "2                12.2                 5               3.29   \n",
              "3                 6.6                 7               1.78   \n",
              "4                10.1                 3               2.73   \n",
              "\n",
              "   number_customer_service_calls  churned  \n",
              "0                              1   False.  \n",
              "1                              1   False.  \n",
              "2                              0   False.  \n",
              "3                              2   False.  \n",
              "4                              3   False.  "
            ]
          },
          "metadata": {
            "tags": []
          },
          "execution_count": 198
        }
      ]
    },
    {
      "cell_type": "code",
      "metadata": {
        "id": "zsS5LoaWXmao",
        "colab_type": "code",
        "outputId": "7fdcf6e3-d90a-4c00-d9e8-4faa2e2be40d",
        "colab": {
          "base_uri": "https://localhost:8080/",
          "height": 459
        }
      },
      "source": [
        "churn_df.info()"
      ],
      "execution_count": 0,
      "outputs": [
        {
          "output_type": "stream",
          "text": [
            "<class 'pandas.core.frame.DataFrame'>\n",
            "RangeIndex: 5000 entries, 0 to 4999\n",
            "Data columns (total 21 columns):\n",
            "state                            5000 non-null object\n",
            "account_length                   5000 non-null int64\n",
            "area_code                        5000 non-null int64\n",
            "phone_number                     5000 non-null object\n",
            "intl_plan                        5000 non-null object\n",
            "voice_mail_plan                  5000 non-null object\n",
            "number_vmail_messages            5000 non-null int64\n",
            "total_day_minutes                5000 non-null float64\n",
            "total_day_calls                  5000 non-null int64\n",
            "total_day_charge                 5000 non-null float64\n",
            "total_eve_minutes                5000 non-null float64\n",
            "total_eve_calls                  5000 non-null int64\n",
            "total_eve_charge                 5000 non-null float64\n",
            "total_night_minutes              5000 non-null float64\n",
            "total_night_calls                5000 non-null int64\n",
            "total_night_charge               5000 non-null float64\n",
            "total_intl_minutes               5000 non-null float64\n",
            "total_intl_calls                 5000 non-null int64\n",
            "total_intl_charge                5000 non-null float64\n",
            "number_customer_service_calls    5000 non-null int64\n",
            "churned                          5000 non-null object\n",
            "dtypes: float64(8), int64(8), object(5)\n",
            "memory usage: 820.4+ KB\n"
          ],
          "name": "stdout"
        }
      ]
    },
    {
      "cell_type": "code",
      "metadata": {
        "id": "CtUqK6j1fhDN",
        "colab_type": "code",
        "cellView": "both",
        "outputId": "c7844184-b143-477d-9b7a-f8327ca666ee",
        "colab": {
          "base_uri": "https://localhost:8080/",
          "height": 153
        }
      },
    {
      "cell_type": "code",
      "metadata": {
        "id": "C99Z9b7ai0Mm",
        "colab_type": "code",
        "outputId": "1bdd79a0-56d8-4e03-8d1a-85cd9dffe066",
        "colab": {
          "base_uri": "https://localhost:8080/",
          "height": 51
        }
      },
      "source": [
        "print (\"Num of rows: \" + str(churn_df.shape[0])) # row count\n",
        "print (\"Num of columns: \" + str(churn_df.shape[1])) # col count"
      ],
      "execution_count": 0,
      "outputs": [
        {
          "output_type": "stream",
          "text": [
            "Num of rows: 5000\n",
            "Num of columns: 21\n"
          ],
          "name": "stdout"
        }
      ]
    },
    {
      "cell_type": "markdown",
      "metadata": {
        "id": "OCglmJ9Oi0Mo",
        "colab_type": "text"
      },
      "source": [
        "### Part 1.2: Data cleaning"
      ]
    },
    {
      "cell_type": "markdown",
      "metadata": {
        "id": "JxlrXRG3i0Mp",
        "colab_type": "text"
      },
      "source": [
        "Remove Extra Whitespace"
      ]
    },
    {
      "cell_type": "code",
      "metadata": {
        "scrolled": true,
        "id": "2Vf8iYmWi0Mq",
        "colab_type": "code",
        "outputId": "916a4206-aab5-443f-c482-7f0d385ecc32",
        "colab": {
          "base_uri": "https://localhost:8080/",
          "height": 34
        }
      },
      "source": [
        "churn_df['voice_mail_plan'][0]"
      ],
      "execution_count": 0,
      "outputs": [
        {
          "output_type": "execute_result",
          "data": {
            "text/plain": [
              "' yes'"
            ]
          },
          "metadata": {
            "tags": []
          },
          "execution_count": 202
        }
      ]
    },
    {
      "cell_type": "code",
      "metadata": {
        "id": "3lpwxvQfi0Mt",
        "colab_type": "code",
        "outputId": "20add613-195c-4514-946e-0919021e03c0",
        "colab": {
          "base_uri": "https://localhost:8080/",
          "height": 34
        }
      },
      "source": [
        "churn_df['voice_mail_plan'] = churn_df['voice_mail_plan'].map(lambda x: x.strip())\n",
        "churn_df['intl_plan'] = churn_df['intl_plan'].map(lambda x: x.strip())\n",
        "churn_df['churned'] = churn_df['churned'].map(lambda x: x.strip())\n",
        "print(churn_df['voice_mail_plan'][0])"
      ],
      "execution_count": 0,
      "outputs": [
        {
          "output_type": "stream",
          "text": [
            "yes\n"
          ],
          "name": "stdout"
        }
      ]
    },
    {
      "cell_type": "code",
      "metadata": {
        "id": "kcyHhHKHZN2p",
        "colab_type": "code",
        "outputId": "74dc3f16-dbac-4cb6-87b7-420ca2ae2e27",
        "colab": {
          "base_uri": "https://localhost:8080/",
          "height": 34
        }
      },
      "source": [
        "churn_df['voice_mail_plan'][0]"
      ],
      "execution_count": 0,
      "outputs": [
        {
          "output_type": "execute_result",
          "data": {
            "text/plain": [
              "'yes'"
            ]
          },
          "metadata": {
            "tags": []
          },
          "execution_count": 204
        }
      ]
    },
    {
      "cell_type": "markdown",
      "metadata": {
        "id": "SsAbAjhvi0Mx",
        "colab_type": "text"
      },
      "source": [
        "### Part 1.3:  Understand the features"
      ]
    },
    {
      "cell_type": "markdown",
      "metadata": {
        "id": "fB_7ZQ44kx8w",
        "colab_type": "text"
      },
      "source": [
        "Plot Data"
      ]
    },
    {
      "cell_type": "code",
      "metadata": {
        "scrolled": false,
        "id": "rJ0AdxwLi0Mz",
        "colab_type": "code",
        "outputId": "d05fd252-7125-4f22-9feb-992e6b57a248",
        "colab": {
          "base_uri": "https://localhost:8080/",
          "height": 296
        }
      },
      "source": [
        "%matplotlib inline\n",
        "import matplotlib.pyplot as plt\n",
        "import seaborn as sns\n",
        "\n",
        "ax = sns.distplot(churn_df['total_day_charge'], kde=True)\n",
        "ax = sns.distplot(churn_df['total_night_charge'], kde=True)\n",
        "ax = sns.distplot(churn_df['total_intl_charge'], kde=True)\n",
        "ax.set(xlabel='Charge', ylabel='Probability')\n",
        "ax.legend(labels=['Total day charge', 'Total night charge', 'Total intl charge'])"
      ],
      "execution_count": 0,
      "outputs": [
        {
          "output_type": "execute_result",
          "data": {
            "text/plain": [
              "<matplotlib.legend.Legend at 0x7fdae171ae48>"
            ]
          },
          "metadata": {
            "tags": []
          },
          "execution_count": 314
        },
        {
          "output_type": "display_data",
          "data": {
            "image/png": "iVBORw0KGgoAAAANSUhEUgAAAYIAAAEGCAYAAABo25JHAAAABHNCSVQICAgIfAhkiAAAAAlwSFlz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\nicAYY/q4/w+b8+DEJaSOPQAAAABJRU5ErkJggg==\n",
            "text/plain": [
              "<Figure size 432x288 with 1 Axes>"
            ]
          },
          "metadata": {
            "tags": []
          }
        }
      ]
    },
    {
      "cell_type": "code",
      "metadata": {
        "id": "FZxa8lgvmYOC",
        "colab_type": "code",
        "outputId": "8f8d01a8-ad3d-4373-d507-b6a5fbd89029",
        "colab": {
          "base_uri": "https://localhost:8080/",
          "height": 296
        }
      },
      "source": [
        "total_charge = churn_df['total_day_charge']+churn_df['total_night_charge']+churn_df['total_intl_charge']\n",
        "ax = sns.scatterplot(x=churn_df['total_day_charge'], y=total_charge)\n",
        "ax = sns.scatterplot(x=churn_df['total_night_charge'], y=total_charge)\n",
        "ax = sns.scatterplot(x=churn_df['total_intl_charge'], y=total_charge)\n",
        "ax.set(xlabel='Charge', ylabel='Total Charge')\n",
        "ax.legend(labels=['Total day charge', 'Total night charge', 'Total intl charge'])"
      ],
      "execution_count": 0,
      "outputs": [
        {
          "output_type": "execute_result",
          "data": {
            "text/plain": [
              "<matplotlib.legend.Legend at 0x7fdaf75a9588>"
            ]
          },
          "metadata": {
            "tags": []
          },
          "execution_count": 206
        },
        {
          "output_type": "display_data",
          "data": {
            "image/png": "iVBORw0KGgoAAAANSUhEUgAAAX4AAAEGCAYAAABiq/5QAAAABHNCSVQICAgIfAhkiAAAAAlwSFlz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\nrkJggg==\n",
            "text/plain": [
              "<Figure size 432x288 with 1 Axes>"
            ]
          },
          "metadata": {
            "tags": []
          }
        }
      ]
    },
    {
      "cell_type": "code",
      "metadata": {
        "id": "CUnmJ5IKvc7x",
        "colab_type": "code",
        "outputId": "2009dd71-919c-4d40-ddbb-69cb98d6efd5",
        "colab": {
          "base_uri": "https://localhost:8080/",
          "height": 299
        }
      },
      "source": [
        "mean_charge = total_charge.mean()\n",
        "below_churn = above_churn = below_Nchurn = above_Nchurn = 0\n",
        "for i in range(len(total_charge)-1):\n",
        "  if total_charge[i] < mean_charge:\n",
        "    if churn_df['churned'][i] == 'True.':\n",
        "      below_churn += 1\n",
        "    else:\n",
        "      below_Nchurn += 1\n",
        "  if total_charge[i] > mean_charge:\n",
        "    if churn_df['churned'][i] == 'True.':\n",
        "      above_churn += 1\n",
        "    else:\n",
        "      above_Nchurn += 1\n",
        "above = above_churn + above_Nchurn\n",
        "below = below_churn + below_Nchurn\n",
        "print(below_churn, above_churn, below_Nchurn, above_Nchurn)\n",
        "ax = sns.barplot(x=['Below Average','Above Average'], y=[below_churn/below, above_churn/above])\n",
        "ax.set(ylabel='Churn Probability')\n",
        "#ax.set_title('xxx')"
      ],
      "execution_count": 0,
      "outputs": [
        {
          "output_type": "stream",
          "text": [
            "267 440 2222 2070\n"
          ],
          "name": "stdout"
        },
        {
          "output_type": "execute_result",
          "data": {
            "text/plain": [
              "[Text(0, 0.5, 'Churn Probability')]"
            ]
          },
          "metadata": {
            "tags": []
          },
          "execution_count": 207
        },
        {
          "output_type": "display_data",
          "data": {
            "image/png": "iVBORw0KGgoAAAANSUhEUgAAAY4AAAD4CAYAAAD7CAEUAAAABHNCSVQICAgIfAhkiAAAAAlwSFlz\nAAALEgAACxIB0t1+/AAAADh0RVh0U29mdHdhcmUAbWF0cGxvdGxpYiB2ZXJzaW9uMy4xLjEsIGh0\ndHA6Ly9tYXRwbG90bGliLm9yZy8QZhcZAAAbUklEQVR4nO3de5QdZZnv8e+PhASO3AxpFXMhYcgM\nBpEgTUSEjMACwxklzCKQZKLAGY4ZRhjH5cAY1niiZnCEhQpHzTgECbcRAgOLZSvxZBguGUAu6YRA\nLhhpwiWJqOFiuMjFhOf8Ue+Gys7u7qqkq3t38vustdeueuutt5+drvSz632r3lJEYGZmVtQufR2A\nmZn1L04cZmZWihOHmZmV4sRhZmalOHGYmVkpA/s6gN4wdOjQGDVqVF+HYWbWryxZsuT5iGipL98p\nEseoUaNob2/v6zDMzPoVSc80KndXlZmZleLEYWZmpThxmJlZKU4cZmZWihOHmZmV4sRhZmalVJo4\nJE2UtFpSh6SZDbZPkLRU0iZJk3Plx0palnu9IemUtO0aSU/lto2r8jOYmdmWKruPQ9IAYA5wArAO\nWCypLSJW5ao9C5wFnJ/fNyLuBsaldoYAHcB/5qpcEBG3VBW7mZl1rsobAMcDHRGxBkDSfGAS8E7i\niIin07a3u2hnMvDziPhDdaGamVlRVSaOYcDa3Po64GPb0M5U4Lt1Zd+UNAu4E5gZEW/W7yRpBjAD\nYOTIkdvwY836h2dnH9LXIVgTGjlreWVtN/XguKT9gEOAhbniC4GDgCOAIcBXGu0bEXMjojUiWlta\ntppqxczMtlGViWM9MCK3PjyVlXE6cFtE/LFWEBHPReZN4GqyLjEzM+slVSaOxcAYSaMlDSLrcmor\n2cY04MZ8QToLQZKAU4AVPRCrmZkVVFniiIhNwHlk3UyPAzdHxEpJsyWdDCDpCEnrgNOAKyStrO0v\naRTZGcuiuqZ/LGk5sBwYClxU1WcwM7OtVTqtekQsABbUlc3KLS8m68JqtO/TZAPs9eXH9WyUZmZW\nRlMPjpuZWfNx4jAzs1KcOMzMrBQnDjMzK8WJw8zMSnHiMDOzUpw4zMysFCcOMzMrxYnDzMxKceIw\nM7NSnDjMzKwUJw4zMyvFicPMzEpx4jAzs1KcOMzMrBQnDjMzK8WJw8zMSnHiMDOzUpw4zMysFCcO\nMzMrpdLEIWmipNWSOiTNbLB9gqSlkjZJmly3bbOkZenVlisfLemh1OZNkgZV+RnMzGxLlSUOSQOA\nOcBJwFhgmqSxddWeBc4CbmjQxOsRMS69Ts6VXwJcFhEHAi8BZ/d48GZm1qkqzzjGAx0RsSYi3gLm\nA5PyFSLi6Yh4DHi7SIOSBBwH3JKKrgVO6bmQzcysO1UmjmHA2tz6ulRW1G6S2iU9KKmWHPYFfh8R\nm7axTTMz204D+zqALuwfEeslHQDcJWk5sLHozpJmADMARo4cWVGIZmY7nyrPONYDI3Lrw1NZIRGx\nPr2vAe4BDgNeAPaRVEt4nbYZEXMjojUiWltaWspHb2ZmDVWZOBYDY9JVUIOAqUBbN/sAIOm9kgan\n5aHAJ4BVERHA3UDtCqwzgZ/0eORmZtapyhJHGoc4D1gIPA7cHBErJc2WdDKApCMkrQNOA66QtDLt\n/iGgXdKjZIni4ohYlbZ9BfiypA6yMY+rqvoMZma2tUrHOCJiAbCgrmxWbnkxWXdT/X6/AA7ppM01\nZFdsmZlZH/Cd42ZmVooTh5mZleLEYWZmpThxmJlZKU4cZmZWihOHmZmV4sRhZmalOHGYmVkpThxm\nZlaKE4eZmZXixGFmZqU4cZiZWSlOHGZmVooTh5mZleLEYWZmpThxmJlZKU4cZmZWihOHmZmV4sRh\nZmalOHGYmVkpThxmZlZKt4lD0oBtbVzSREmrJXVImtlg+wRJSyVtkjQ5Vz5O0gOSVkp6TNKU3LZr\nJD0laVl6jdvW+MzMrLwiZxxPSLpU0tgyDaeEMwc4CRgLTGvQxrPAWcANdeV/AM6IiIOBicDlkvbJ\nbb8gIsal17IycZmZ2fYpkjgOBX4F/EjSg5JmSNqrwH7jgY6IWBMRbwHzgUn5ChHxdEQ8BrxdV/6r\niHgiLf8a+B3QUuBnmplZxbpNHBHxSkRcGRFHAV8BvgY8J+laSQd2seswYG1ufV0qK0XSeGAQ8GSu\n+JupC+sySYM72W+GpHZJ7Rs2bCj7Y83MrBOFxjgknSzpNuBy4DvAAcBPgQVVBidpP+B64H9FRO2s\n5ELgIOAIYAhZMttKRMyNiNaIaG1p8cmKmVlPGVigzhPA3cClEfGLXPktkiZ0sd96YERufXgqKyR1\nh90O/FNEPFgrj4jn0uKbkq4Gzi/appmZbb8iYxxnRMTZ+aQh6RMAEfHFLvZbDIyRNFrSIGAq0FYk\nqFT/NuC6iLilbtt+6V3AKcCKIm2amVnPKJI4vteg7Pvd7RQRm4DzgIXA48DNEbFS0mxJJwNIOkLS\nOuA04ApJK9PupwMTgLMaXHb7Y0nLgeXAUOCiAp/BzMx6SKddVZI+DhwFtEj6cm7TXkChezsiYgF1\n4yARMSu3vJisC6t+v38H/r2TNo8r8rPNzKwaXY1xDAL2SHX2zJW/DExuuIeZme3wOk0cEbEIWCTp\nmoh4phdjMjOzJtZVV9XlEfEl4AeSon57RJxcaWRmZtaUuuqquj69f7s3AjEzs/6hq66qJel9Ue+F\nY2Zmza6rrqrlwFZdVDUR8ZFKIjIzs6bWVVfVp3stCjMz6ze66qrylVRmZraVTu8cl3Rfen9F0sv1\n770XopmZNZOuzjiOTu97dlbHzMx2PkVmx0XSR4GjyQbL74uIRyqNyszMmlaR53HMAq4F9iWbVPAa\nSV+tOjAzM2tORc44pgOHRsQbAJIuBpbhWWnNzHZKRaZV/zWwW259MCUeyGRmZjuWrm4A/D7ZmMZG\nYKWkO9L6CcDDvROemZk1m666qtrT+xKyp/HV3FNZNE3s8Auu6+sQrMksufSMvg7BrE90dTnutb0Z\niJmZ9Q/dDo5LGgN8CxhLbqwjIg6oMC4zM2tSRQbHrwZ+CGwCjgWuo5PHupqZ2Y6vSOLYPSLuBBQR\nz0TE14G/qDYsMzNrVkXu43hT0i7AE5LOI7sUd49qwzIzs2ZV5Izj74H/AXwROBz4HHBmkcYlTZS0\nWlKHpJkNtk+QtFTSJkmT67adKemJ9DozV364pOWpze9JUpFYzMysZ3R7xhERiwHSWccXI+KVIg1L\nGgDMIbvvYx2wWFJbRKzKVXsWOAs4v27fIcDXgFaye0eWpH1fIhtv+TzwELAAmAj8vEhMZma2/YrM\nVdWangb4GLBc0qOSDi/Q9nigIyLWRMRbwHxgUr5CRDwdEY8Bb9ft+yngjoh4MSWLO4CJkvYD9oqI\nByMiyAbqTykQi5mZ9ZAiXVXzgC9ExKiIGAWcS3alVXeGAWtz6+tSWRGd7TssLXfbpqQZktoltW/Y\nsKHgjzUzs+4USRybI+Le2kpE3Ed2aW5Ti4i5EdEaEa0tLS19HY6Z2Q6jq7mqPpoWF0m6AriRbLxh\nCsWmHVkPjMitD6f45IjrgU/W7XtPKh++jW2amVkP6Gpw/Dt161/LLUeBthcDYySNJvvjPhX4q4Jx\nLQT+RdJ70/qJwIUR8WJ6fO2RZIPjZwDfL9immZn1gK7mqjp2exqOiE3pvo+FwABgXkSslDQbaI+I\nNklHkE2g+F7gM5K+EREHpwTxz2TJB2B2RLyYlr8AXAPsTnY1la+oMjPrRUXmqtqb7GxjQipaRPaH\nfGN3+0bEArJLZvNls3LLi9my6ylfbx7ZwHx9eTvw4e5+tpmZVaPoVVWvAKen18sUu6rKzMx2QEWm\nHPmTiDg1t/4NScuqCsjMzJpbkTOO1yUdXVuR9Ang9epCMjOzZlbkjOMc4Lo01gHwEgXnqjIzsx1P\nl4kjzU/1ZxFxqKS9ACLi5V6JzMzMmlKXXVUR8Tbwj2n5ZScNMzMrMsbxX5LOlzRC0pDaq/LIzMys\nKRUZ45iS3s/NlQXgZ46bme2EijyPY3RvBGJmZv1Dp11VksZI+omkFZJulFR0SnQzM9uBdTXGMQ/4\nGXAqsBRPJmhmZnTdVbVnRFyZli+VtLQ3AjIzs+bWVeLYTdJhgNL67vn1iHAiMTPbCXWVOJ4Dvptb\n/01uPYDjqgrKzMyaV2XP4zAzsx1TkRsAzczM3uHEYWZmpThxmJlZKUWmHCHd/Ld/vn5E/HdVQZmZ\nWfMq8szxS8jmq1oFbE7FAThxmJnthIqccZxC9kyON8s2Lmki8H+BAcCPIuLiuu2DgeuAw4EXgCkR\n8bSk6cAFuaofAT4aEcsk3QPsx7tPITwxIn5XNjYzM9s2RcY41gC7lm1Y0gBgDnASMBaYJmlsXbWz\ngZci4kDgMuASgIj4cUSMi4hxwOeApyIi/5zz6bXtThpmZr2ryBnHH4Blku4E3jnriIgvdrPfeKAj\nItYASJoPTCLr8qqZBHw9Ld8C/ECSIiJydaYB8wvEaWZmvaBI4mhLr7KGAWtz6+uAj3VWJyI2SdoI\n7As8n6szhSzB5F0taTNwK3BRXaIBQNIMYAbAyJEjtyF8MzNrpLtnjg8gG0OY3kvx1P/8jwF/iIgV\nueLpEbFe0p5kieNzZOMkW4iIucBcgNbW1q0Si5mZbZvunjm+Gdhf0qBtaHs9MCK3PjyVNawjaSCw\nN9kgec1U4Ma6mNan91eAG8i6xMzMrJcU6apaA9wvqQ14rVYYEd/tfBcAFgNjJI0mSxBTgb+qq9MG\nnAk8AEwG7qp1O0naBTgdOKZWOSWXfSLieUm7Ap8G/qvAZzAzsx5SJHE8mV67AHsWbTiNWZwHLCS7\nHHdeRKyUNBtoj4g24CrgekkdwItkyaVmArC2NrieDAYWpqQxgCxpXImZmfWaIs8c/8a2Nh4RC4AF\ndWWzcstvAKd1su89wJF1Za+R3fNhZmZ9pMid43eT3Sm+hYjw8zjMzHZCRbqqzs8t70b2DPJN1YRj\nZmbNrkhX1ZK6ovslPVxRPGZm1uSKdFUNya3uQjbGsHdlEZmZWVMr0lW1hGyMQ2RdVE+RzTFlZmY7\noSJdVaN7IxAzM+sfij7I6ShgFFs+yGmraT7MzGzHV2SM43rgT4BlbPkgJycOM7OdUJEzjlZgbKMZ\naM3MbOdT5EFOK4APVB2ImZn1D52ecUj6KVmX1J7AqnTvRv5BTidXH56ZmTWbrrqqvt1rUZiZWb/R\nVeJYD7w/Iu7PF0o6Gniu0qjMzKxpdTXGcTnwcoPyjWmbmZnthLpKHO+PiOX1halsVGURmZlZU+sq\ncezTxbbdezoQMzPrH7pKHO2SPl9fKOl/k81fZWZmO6GuBse/BNwmaTrvJopWYBDwl1UHZmZmzanT\nxBERvwWOknQs8OFUfHtE3NUrkZmZWVMqMjvu3cDdvRCLmZn1A0WmHDEzM3tHpYlD0kRJqyV1SJrZ\nYPtgSTel7Q9JGpXKR0l6XdKy9Pq33D6HS1qe9vmeJFX5GczMbEuVJQ5JA4A5wEnAWGCapLF11c4G\nXoqIA4HLgEty256MiHHpdU6u/IfA54Ex6TWxqs9gZmZbq/KMYzzQERFrIuItYD4wqa7OJODatHwL\ncHxXZxCS9gP2iogH0zTv1wGn9HzoZmbWmSoTxzBgbW59XSprWCciNpFNZ7Jv2jZa0iOSFkk6Jld/\nXTdtAiBphqR2Se0bNmzYvk9iZmbvaNbB8eeAkRFxGPBl4AZJe5VpICLmRkRrRLS2tLRUEqSZ2c6o\nysSxHhiRWx+eyhrWkTQQ2Bt4ISLejIgXACJiCfAk8Kep/vBu2jQzswpVmTgWA2MkjZY0CJgKtNXV\naQPOTMuTgbsiIiS1pMF1JB1ANgi+JiKeA16WdGQaCzkD+EmFn8HMzOoUeeb4NomITZLOAxYCA4B5\nEbFS0mygPSLagKuA6yV1AC+SJReACcBsSX8E3gbOiYgX07YvANeQTbT48/QyM7NeUlniAIiIBcCC\nurJZueU3gNMa7HcrcGsnbbbz7hQoZmbWy5p1cNzMzJqUE4eZmZXixGFmZqU4cZiZWSlOHGZmVooT\nh5mZleLEYWZmpThxmJlZKU4cZmZWihOHmZmV4sRhZmalOHGYmVkpThxmZlaKE4eZmZXixGFmZqU4\ncZiZWSlOHGZmVooTh5mZleLEYWZmpThxmJlZKZUmDkkTJa2W1CFpZoPtgyXdlLY/JGlUKj9B0hJJ\ny9P7cbl97kltLkuv91X5GczMbEsDq2pY0gBgDnACsA5YLKktIlblqp0NvBQRB0qaClwCTAGeBz4T\nEb+W9GFgITAst9/0iGivKnYzM+tclWcc44GOiFgTEW8B84FJdXUmAdem5VuA4yUpIh6JiF+n8pXA\n7pIGVxirmZkVVGXiGAasza2vY8uzhi3qRMQmYCOwb12dU4GlEfFmruzq1E31fySp0Q+XNENSu6T2\nDRs2bM/nMDOznKYeHJd0MFn31d/kiqdHxCHAMen1uUb7RsTciGiNiNaWlpbqgzUz20lUmTjWAyNy\n68NTWcM6kgYCewMvpPXhwG3AGRHxZG2HiFif3l8BbiDrEjMzs15SZeJYDIyRNFrSIGAq0FZXpw04\nMy1PBu6KiJC0D3A7MDMi7q9VljRQ0tC0vCvwaWBFhZ/BzMzqVJY40pjFeWRXRD0O3BwRKyXNlnRy\nqnYVsK+kDuDLQO2S3fOAA4FZdZfdDgYWSnoMWEZ2xnJlVZ/BzMy2VtnluAARsQBYUFc2K7f8BnBa\ng/0uAi7qpNnDezJGMzMrp6kHx83MrPk4cZiZWSlOHGZmVooTh5mZleLEYWZmpThxmJlZKU4cZmZW\nihOHmZmV4sRhZmalOHGYmVkpThxmZlaKE4eZmZXixGFmZqU4cZiZWSlOHGZmVooTh5mZleLEYWZm\npThxmJlZKU4cZmZWihOHmZmV4sRhZmalVJo4JE2UtFpSh6SZDbYPlnRT2v6QpFG5bRem8tWSPlW0\nTTMzq1ZliUPSAGAOcBIwFpgmaWxdtbOBlyLiQOAy4JK071hgKnAwMBH4V0kDCrZpZmYVqvKMYzzQ\nERFrIuItYD4wqa7OJODatHwLcLwkpfL5EfFmRDwFdKT2irRpZmYVGlhh28OAtbn1dcDHOqsTEZsk\nbQT2TeUP1u07LC131yYAkmYAM9Lqq5JWb8NnsMaGAs/3dRB9Td8+s69DsK352Kz5mnqilf0bFVaZ\nOPpURMwF5vZ1HDsiSe0R0drXcZjV87HZO6rsqloPjMitD09lDetIGgjsDbzQxb5F2jQzswpVmTgW\nA2MkjZY0iGywu62uThtQO9+fDNwVEZHKp6arrkYDY4CHC7ZpZmYVqqyrKo1ZnAcsBAYA8yJipaTZ\nQHtEtAFXAddL6gBeJEsEpHo3A6uATcC5EbEZoFGbVX0G65S7AK1Z+djsBcq+4JuZmRXjO8fNzKwU\nJw4zMyvFiaPJSdosaZmkRyUtlXRUgX1erSCOcZJC0sSebtv6L0mnpOPioFzZJyX9rJfjGCrpj5LO\n6c2fu7Ny4mh+r0fEuIg4FLgQ+FYfxTENuC+9bzdlfPz1fz16XGyH08huGu6xONIUR9aA/+P2L3sB\nL9VWJF0gabGkxyR9o75y+uN8qaQVkpZLmpLK50g6OS3fJmleWv5rSd9s1A7Zf8yzgBMk7ZbKL5Z0\nbq7e1yWd31lskkalCSqvA1YAIyT9UFK7pJX5zyDpf0r6paQlkr5X+wYr6T2S5kl6WNIjkjzlTB+R\ntAdwNNmcc1PrNu8l6fb0+/632pcESdPSsbhCUm1uunMkXZpr9yxJP0jLn02/62WSrujij/k04B+A\nYZKGb2u7kl6V9B1JjwIflzQrHccrJM1N/xeQdEQ6tpfV/o+l8gFpvXbs/832/Ss3qYjwq4lfwGZg\nGfBLYCNweCo/kezSQ5F9AfgZMCFtezW9nwrcQXbp8vuBZ4H9yP6TX5rqPAw8mJavBj7VIIZPAHem\n5RuAU9PyYcCiXL1VZDdoNowNGAW8DRyZ22dIeh8A3AN8BNiNbGqZ0WnbjcDP0vK/AJ9Ny/sAvwLe\n09e/p53xBUwHrkrLv8gdm58E3gAOSL/XO8ju0/pgOgZbyG4FuAs4Ja135Nr9OVlC+hDwU2DXVP6v\nwBkN4hgBPJE7Pv4hLZduFwjg9PrjMy1fD3wmLa8APp6WLwZWpOUZwFfT8mCgvXYc70gvn3E0v1pX\n1UFkMwVfl771nJhejwBLgYPIbpTMOxq4MSI2R8RvgUXAEcC9wDHKZhZeBfxW0n7Ax8n+ANSbRjah\nJOl9GkBEPAK8T9IHJR1KNtPx2m5ieyYi8vOQnS5paap7MNmsxwcBayKb4BKyxFFzIjBT0jKyRLMb\nMLKrf0CrTMPjInk4sslIN5P9/o4mO/buiYgNEbEJ+DHZl50NwBpJR0ral+z3fz9wPHA4sDj9vo8n\nS0b1pgA318exje1uBm7NtX2sskc+LAeOAw6WtA+wZ0Q8kOrckKt/InBGavchsrn36v9f9ns77FxV\nO6KIeEDSULJvUgK+FRFXbEM769PBPxH4b2AIcDrZmcor+brpFP5UYJKkf0o/d19Je6a6/0H2bfID\nwE213RrFpux5K6/l1kcD5wNHRMRLkq4hSwRdEdkZjyet7EOShpD9IT1EUpCdWYSkC1KV+hvEurth\nbD7ZMfhL4LaIiPQF6dqIuLCbfacBH5A0Pa1/UNKYiHhiG9p9I9692Xg3srOR1ohYK+nrFDs+/y4i\nFnZTr1/zGUc/ouzKlQFk83ktBP469TMjaZik99Xtci8wJfW7tpB1Fz2ctj0IfIkscdxL9gf83gY/\n9njgsYgYERGjImJ/sm9kf5m230TW9TWZLIlQMDbIxmxeAzZKej/Zc1YAVgMH6N0He03J7bMQ+Ltc\nX/NhDdq16k0Gro+I/dNxMQJ4CjgmbR+vbGqgXch+f/eRHXt/ruwKqAFkf/AXpfq3kT0iIX8Wcycw\nuXbsSBoiaYvZWiX9KbBHRAxLcYwiu4Bk2va0m9SSxPPpWJ4MEBG/B16RVJuZOz++sxD4W0m71uKT\n9J4u/h37JZ9xNL/d02kvZN9mzkzfiP5T0oeAB9Lf0FeBzwK/y+17G1n306Nk3/j+MSJ+k7bdC5wY\nER2SniE762iUOKaldvJuBf4WuC6y6WH2BNZHxHMAEdFZbJvzjUTEo5IeIfs2uJasG4GIeF3SF4D/\nJ+k1sjnKav4ZuBx4LP1Regr4dOf/fFaRaaQHr+XcmspvIvud/QA4ELib7Nv+28qe2nk32bF8e0T8\nBCCdcT4OjI2Ih1PZKklfJTvWdwH+CJwLPFMXR6Pj8yZg9na0S0T8XtKVZOMZv2HL4/Bs4EpJb5Ml\nv42p/EdkY3lL05ebDWTjODsUTzliTUnSHhHxavrPN4ds8POyvo7LDN49PtPyTGC/iPj7Pg6r17ir\nyprV59OZ1kqy6fZLj+WYVegv0qW4K8i65y7q64B6k884zMysFJ9xmJlZKU4cZmZWihOHmZmV4sRh\nZmalOHGYmVkp/x/koM4BLHZflQAAAABJRU5ErkJggg==\n",
            "text/plain": [
              "<Figure size 432x288 with 1 Axes>"
            ]
          },
          "metadata": {
            "tags": []
          }
        }
      ]
    },
    {
      "cell_type": "code",
      "metadata": {
        "id": "EzZIy28-fgi3",
        "colab_type": "code",
        "outputId": "cc126309-808e-4ce7-a90f-584ebdb00a24",
        "colab": {
          "base_uri": "https://localhost:8080/",
          "height": 282
        }
      },
      "source": [
        "ax = sns.distplot(churn_df['total_day_charge'] / total_charge, kde=True)\n",
        "ax = sns.distplot(churn_df['total_night_charge'] / total_charge, kde=True)\n",
        "ax = sns.distplot(churn_df['total_intl_charge'] / total_charge, kde=True)\n",
        "ax.legend(labels=['Total day charge', 'Total night charge', 'Total intl charge'])"
      ],
      "execution_count": 0,
      "outputs": [
        {
          "output_type": "execute_result",
          "data": {
            "text/plain": [
              "<matplotlib.legend.Legend at 0x7fdae3fdce10>"
            ]
          },
          "metadata": {
            "tags": []
          },
          "execution_count": 321
        },
        {
          "output_type": "display_data",
          "data": {
            "image/png": "iVBORw0KGgoAAAANSUhEUgAAAXoAAAD4CAYAAADiry33AAAABHNCSVQICAgIfAhkiAAAAAlwSFlz\nAAALEgAACxIB0t1+/AAAADh0RVh0U29mdHdhcmUAbWF0cGxvdGxpYiB2ZXJzaW9uMy4xLjEsIGh0\ndHA6Ly9tYXRwbG90bGliLm9yZy8QZhcZAAAgAElEQVR4nO3deXxU9bn48c8zS/YFAiEsYV9lF0JA\nASuKa1HclbpXi1ttta1eb21rr/56r/X3a3tbtaJVUVp3K+KuoKggu+yL7FvYAiF7Jsks398fZxID\nZJnMmuV5v+CVmXPOnPOcTPLkO9/zPc9XjDEopZRqu2yxDkAppVRkaaJXSqk2ThO9Ukq1cZrolVKq\njdNEr5RSbZwj1gHUp3PnzqZPnz6xDkMppVqNb7/99pgxJrO+dS0y0ffp04dVq1bFOgyllGo1RGRv\nQ+ua7LoRkZ4islBENovIJhH5uX95hojMF5Ht/q8dG3j9zf5ttovIzcGfhlJKqWAE0kfvAX5pjBkK\nTADuEZGhwEPA58aYgcDn/ucnEJEM4BFgPJALPNLQHwSllFKR0WSiN8YcMsas9j8uBbYAPYDpwMv+\nzV4GLqvn5RcA840xx40xhcB84MJwBK6UUiowzeqjF5E+wOnAciDLGHPIv+owkFXPS3oA++s8z/Mv\nU0qFyO12k5eXR2VlZaxDUVGUkJBAdnY2Tqcz4NcEnOhFJAX4N3CfMaZERGrXGWOMiIRUNEdEZgIz\nAXr16hXKrpRqF/Ly8khNTaVPnz7U/X1UbZcxhoKCAvLy8ujbt2/ArwtoHL2IOLGS/CvGmHf8i4+I\nSDf/+m5Afj0vPQD0rPM827/sFMaY54wxOcaYnMzMekcIKaXqqKyspFOnTprk2xERoVOnTs3+FBfI\nqBsBXgC2GGP+XGfVe0DNKJqbgXn1vPxT4HwR6ei/CHu+f5lSKgw0ybc/wbzngbToJwI3AueIyFr/\n/4uBx4HzRGQ7MNX/HBHJEZHnAYwxx4HHgJX+/4/6lymllIqSJvvojTGLgYb+hJxbz/argNvrPH8R\neDHYAJVSgXl1+b6w7u9H4xu/VlZQUMC551op4PDhw9jtdmq6XVesWEFcXNwJ2x8/fpw333yTO++8\ns9H9ejweOnfuTFFRUaPb/eY3v6Fz587cd999TZ1Ks+3YsYOrrrqKtWvXhn3fsdAi74xtjd7a9hYA\nVw+6OsaRKBUdnTp1qk2Ev//970lJSeFXv/pVg9sfP36cWbNmNZno2wKPx4PD0XLSqxY1U0qF3RNP\nPMHw4cMZPnw4Tz75JAAPPfQQW7duZfTo0Tz00EOUlJRwzjnnMGbMGEaOHMkHH3zQ5H4fffRRBg0a\nxKRJk9i+fXvt8lmzZjFu3DhGjRrF1Vdfjcvlori4mH79+uHxeAAoLCw84XmNw4cPM336dEaOHMmo\nUaNYvnw5YCXr2267jWHDhnHRRRfVXgCt71gAN9xwA3fddRe5ubn8+te/Jj8/n3PPPZdhw4Zxxx13\n0KNHj9pPKS+//DK5ubmMHj2au+++G5/PF+J3vHGa6JVSYbV8+XJeeeUVVq5cydKlS/n73//Ohg0b\nePzxxxk8eDBr167l8ccfJzExkXfffZfVq1ezYMEC7r///kb3u2LFCv7973+zbt06PvzwQ1asWFG7\n7uqrr2blypWsW7eO/v3789JLL5Gens7EiRP55JNPAHjttde4+uqrT2lp33PPPZx33nmsX7+eb7/9\nltNOOw2ArVu3ct9997Fp06baWBs6Vo1Dhw6xbNkynnjiCX73u99x4YUXsmnTJi655BIOHjwIwMaN\nG5k7dy5Llixh7dq1eDweXn/99ZC/743RRK+UCqvFixdz5ZVXkpiYSGpqKpdddhmLFi06ZTtjDA89\n9BAjR47k/PPPZ//+/Rw7dqzB/X799de1+01PT+eSSy6pXbd+/XomT57MiBEjeP3119m0aRMAt99+\nO7NnzwZg9uzZ3Hrrrafs98svv+SOO+4AwOFwkJaWBsCAAQMYMWIEAGPHjmXPnj2NHgusPwI2m632\n+3DdddcBMG3aNFJTUwFYsGABK1euJCcnh9GjR/PVV1+xc+fOAL6zwWs5nUhKqXZlzpw5FBcXs3r1\nahwOB9nZ2UHf5XvTTTfx8ccfM3z4cJ5//nmWLVsGwA9+8AN++tOfsnDhQpxOJ0OGDKn39fUNWYyP\nj699bLfba7t8GjoWQHJycpOxGmP48Y9/zGOPPdascwyFtuiVUmE1efJk5s6di8vloqysjHnz5jF5\n8mRSU1MpLS2t3a64uJguXbrgcDiYP38+Bw7Uey9lrbPOOou5c+dSWVlJSUnJCX365eXldO3aFbfb\nzauvvnrC62644Qauv/76elvzAFOmTGHWrFkAeL1eSkpKGo2jsWPVNXHiRN58800APvroo9pznzp1\nKm+++Wbtp5eCggL27QvviKmTaYteqTaiqeGQ0ZKbm8uMGTMYN24cAHfdddcJXSAjRozghz/8Ib/4\nxS+45JJLGDFiBLm5uQwcOLDJ/V5++eWMHDmSrKwscnNza9c9+uijjBs3jszMTHJzc0/4ZHD99dfz\n6KOPcu2119a736eeeoqf/OQnPPvsszgcDp599lkyMjIajKOxY9X1X//1X/zoRz9i9uzZTJo0iS5d\nupCcnMyIESN45JFHmDp1Kj6fD6fTyaxZsyJa+kWMCalETUTk5OSY1jbxiA6vVNG2ZcuW2guHqmGv\nv/46n376aW1ffbRUVlbicDhwOBwsXryY++67L2wTKtX33ovIt8aYnPq21xa9UqrNuuuuu1iwYEHt\nyJto2rNnDzNmzMDr9RIfH8+zzz4b9RhqaKJXSrVZzzzzTMyOPWTIENasWROz49elF2OVUqqN0xZ9\nmLi9brzGG+swlFLqFNqiD5N5O+fxwoYXaIkXt5VS7Zsm+jAocBXw3fHvKKgsYE1+y+iTU0qpGtp1\nEwaf7PkEn/FhFzsf7f6IMVljYh2Sao9WhXn4YE79NxjViHWZ4roefvhhpk6dypQpUxrcpqGyxoHG\nVdcNN9zAVVddxWWXXRbwa2JJW/RhsOrwKjrGd6R7Snd2F++OdThKRUVNmeK1a9dy5513cv/999c+\nPznJw/dliiPhD3/4Q6NJvjGRjKs+xpiIV6s8mSb6EBljWJO/hp6pPUmNSyW/or6pc5VqXyJRpnjH\njh0MHz683tLBN9xwQ211yffee4/BgwczduxY7r333hNa3Rs2bOAHP/gB/fr14+mnn643rpPNnj27\ntoRx3TIKCxcu5Mwzz6Rfv37MnTsXoMFz2rFjB0OHDuX6669n2LBhHDp0iGeffZZBgwYxfvx4br/9\n9tpPGkeOHOGKK64gJyeH3NzcE2rpBEu7bkKUV5ZHQWUB47uNp8BVwN6SvbEOSamYqlum2OPxkJub\ny9lnn83jjz/Ojh07aicrcbvdvPvuu6SlpZGfn8/EiROZNm1ao/veunUrr732GiNGjOCKK67g3Xff\nra0QCVBRUcHdd9/NN998Q69evbjmmmtOeP22bdv4/PPPKSoq4rTTTuPOO+88Ja661q1bxx//+EeW\nLFlCRkYGx49/PxNqfn4+33zzDRs2bOCaa67h8ssvry1nXN85fffdd8yZM4ecnBz279/P448/zurV\nq0lOTubss8+uLenws5/9jAcffJAJEyawZ88epk2bxsaNG4N7M/yaTPQi8iIwDcg3xgz3L3sDGOzf\npANQZIwZXc9r9wClgBfwNHR7bmu28Zj1BmSnZlPlraLcXU6Fu4IkZ1KMI1MqNuqWKQZqyxSff/75\nJ2xXU6Z48eLF2Gy22jLFHTp0aHDfDZUOrrF582YGDx5M7969AZgxYwZz5sypXT9t2jTi4uLo0qUL\nGRkZHD16tNFz+eKLL7j22mtra9/UrYFz2WWXISKMHDmytiBbQ+cE0L9/f3JyrBS4fPlyzjnnHDp2\n7AjAVVddVVvYbMGCBWzdurX2OIWFhbhcrtrvZzACadG/BDwF1H63jDG11YFE5E9AcSOvn2KMabjI\ndCu3vXA7drHTObFzbbfNUddRejt7xzgypVq2YMoUN1Q6OFChvr6hfdUMq27snAIpYVyzr/ouZoei\nyT56Y8zXwPH61olVxPka4LWwRdTK7CzaSe+03jhsDlLiUgC0n161a5EqUxyIoUOHsnXrVvbv348x\nhjfeeKPJ15wcV13nnHMOb7zxRm2XTd2um/oEek65ubksXLiQoqIi3G4377zzTu26qVOn1l4/AMIy\nQXmoffSTgSPGmO0NrDfAZyJigGeNMc81tCMRmQnMBCJarjPcdhTtYHCG1YuV6rRmkDla0fjHQaUi\noonhkNESqTLFgUhKSuKpp55i6tSppKSkkJOT0+SnhKysrBPievzxx2vXjRo1igcffJCzzjoLh8PB\n2LFjeeGFFxrc14033hjQOfXq1YsHHniAcePGkZGRweDBg0lPTwfg6aef5q677mL27Nl4PB6mTJly\nQuIPRkBlikWkD/BBTR99neXPADuMMX9q4HU9jDEHRKQLMB+41/8JoVGtpUxxpaeS3FdyuXPUnWQm\nZVLpqeSJlU/wq5xfcfOwm2MdnmrjtExx/crKykhJScEYwx133MGIESO49957Yx3WKWridLvdTJ8+\nnbvuuuuE6REb09wyxUEPrxQRB3AF0OBnI2PMAf/XfGAukNvQtq3RgbIDGAx90voAEG+Px2lzUlBZ\nENvAlGrHnnnmGUaPHs3QoUNxuVz85Cc/iXVI9frtb3/L6aefzsiRIxk8eHCTI45CEUrXzVTgO2NM\nXn0rRSQZsBljSv2PzwceDeF4Lc4xl3WNeVPBJvqk90FESI9Pp6Sq8anIlFKR88ADD/DAAw/EOowm\n/eUvf4nasZps0YvIa8BSYLCI5InIbf5V13HSRVgR6S4iH/mfZgGLRWQdsAL40BgT/er/EVST6Gsu\nwgKkxaVRUq2JXinVcjTZojfGzGhg+S31LDsIXOx/vAsYFWJ8LVptond+n+jT49M10SulWhS9MzYE\nBZUF2MVOvP378bRl7jJKy+sfqqWUUrGgtW5CUOAqIMWZgnU7gSXRnkilp/HhXEopFU3aog9BgauA\nZOeJd7slOhJxeVwxiki1Z29teyus+7t60NWNro92mWKv18vZZ5/NokWLGn39n//8Z+6++24SEhIA\nyM7OZuPGjY2WVqjRUCnj1k5b9CE45jp2woVYgARHAlXeKrw+nVZQtW3RLlNst9ubTPJgJfqmbpKK\nFK+3Zf7ea6IPQUHlqS36BIfViiit1n561X5Fokyxx+OpbZUvWLCAc889lyuuuILBgwdz0003AdaQ\nxfz8fCZPnszUqVMb3d+HH37ImDFjGDVq1AkF1+orZQxwySWXMHbsWIYNG8bzzz9/Qkz33XcfI0eO\nZMWKFQ2WSS4rK+OWW24hNzeX008/nffff7+Z39XgaddNkN7c+iYFroLa8gc1Eh1Whbni6mI6JDT9\nUVGptiaSZYrrWr16NZs2bSIrK4sJEyawbNky7r//fv70pz+xaNGiRrtqDh8+zF133cWiRYvo3bv3\nCTVs6itlbLfbefnll8nIyKCiooKcnByuvPJKUlNTKS4u5qyzzuJ///d/qaioYNCgQfWWSX700Ue5\n8MILeemllygsLGT8+PGcd955tV1MkaQt+iB5fB4MhgT7iW9STYteb5pS7VXdMsWpqam1ZYpPVlPS\nd+TIkZx//vknlPQNxIQJE+jevTt2u53Ro0efUrK4MUuXLmXKlCm15Yzrlh9uqJTxX/7yF0aNGsUZ\nZ5xBXl4eO3fuBCAuLo7LL78cOLFMsogwY8b3o9M/++wz/vCHPzB69GimTJlCZWVlbWniSNMWfZCq\nvFUAJwythO9b9DqWXqnGBVOmuK5wlhxuar8LFizg66+/ZtmyZSQmJjJp0qTaWBMTE08YedcQYwzv\nvvsu/fv3D0uczaEt+iDVJPo4+4kXnWq7bqoaK9GvVNsVyzLF0HjZ4RpnnnkmCxcuZO9ea0a4QMoP\nZ2RkkJiYyKZNm1i5cmW92zVWJvmCCy6ovV4BsGbNmkBPKWTaog9SQy36mq4cbdGraGtqOGS0xLJM\nMcDMmTOZOnUqPXv2ZMGCBfVuk5WVxTPPPMP06dMxxtC9e3c+/vjjBvf5wx/+kOeee46hQ4cyePBg\nxo8fX+92jZVJfuSRR7jvvvsYMWIEPp+PAQMGMG/evNBPOAABlSmOttZQpviJlU/wz83/5KahN9En\nvU/tcq/Pyx+W/4Gfjv4pd4y6I3YBqjZPyxS3TNEokxy1MsXtXbW3Gji1RW+32XHanNqiV6qdaoll\nkrXrJkgN9dGD1U+viV6p9qkllknWFn2QGuqjB2uIpV6MVdHQErteVWQF855rog9SY4leW/QqGhIS\nEigoKNBk344YYygoKGj2TVbadROkKm8VNrHhsJ36LUywJ2iiVxGXnZ1NXl5e7Q09qn1ISEggOzu7\nWa/RRB+kak818fb4em+USHQkcrD8YAyiUu2J0+mkb9++sQ5DtQKBTCX4oojki8jGOst+LyIHRGSt\n///FDbz2QhHZKiI7ROShcAYea1W+qnovxILVR69FzZRSLUUgffQvARfWs/wvxpjR/v8fnbxSROzA\n08BFwFBghogMDSXYlqTKU1Vv/zx8X5O+ZgimUkrFUpOJ3hjzNdD4/cH1ywV2GGN2GWOqgdeB6UHs\np0Wq8jac6GsLm2k/vVKqBQhl1M1PRWS9v2unYz3rewD76zzP8y9rE6q91Q123dQWNtMKlkqpFiDY\nRP8M0B8YDRwC/hRqICIyU0RWiciq1jCKoNpXTZyt4T56sGrSK6VUrAWV6I0xR4wxXmOMD/gHVjfN\nyQ4APes8z/Yva2ifzxljcowxOTXzTrZkbp8bp91Z77pEu7bolVItR1CJXkS61Xl6ObCxns1WAgNF\npK+IxAHXAe8Fc7yWyO11N9ii15r0SqmWpMlx9CLyGnA20FlE8oBHgLNFZDRggD3AHf5tuwPPG2Mu\nNsZ4ROSnwKeAHXjRGLMpImcRA26fu96bpaBO142WQVBKtQBNJnpjzIx6Fr/QwLYHgYvrPP8IOGXo\nZWvnMz7cPnej4+hBW/RKqZZBa90EodJjTSTgtNXfR28TG6nOVG3RK6VaBE30Qaj0Np7oAdLi07RF\nr5RqETTRB8HlcQE0OOoGIC1OE71SqmXQRB+Emq6bhkbdgNWi164bpVRLoIk+CNqiV0q1Jprog1Cb\n6Bvpo0+PT9cWvVKqRdBEH4RAEv3BsoMUVRXp7D9KqZjTRB+EQBJ9oiMRn/HVbquUUrGiiT4ItRdj\nG7hhCrQMglKq5dBEH4RAWvRaBkEp1VJoog9C7Z2xjYy60TIISqmWQhN9EALtowctVayUij1N9EFw\neVzYxY5NGv721dak1xa9UirGNNEHweVxNXohFrSPXinVcmiiD4LL42q02wYg3h6PINqiV0rFnCb6\nIASS6EWEBEeCJnqlVMxpog9Cpbeyya4bsC7IateNUirWNNEHIZAWPaAteqVUi9BkoheRF0UkX0Q2\n1ln2f0XkOxFZLyJzRaRDA6/dIyIbRGStiKwKZ+Cx5HIHlugT7dqiV0rFXiAt+peAC09aNh8YbowZ\nCWwD/rOR108xxow2xuQEF2LL4/K4Gr1ZqkaCI4HS6tIoRKSUUg1rMtEbY74Gjp+07DNjjMf/dBmQ\nHYHYWiyXx9XopCM1NNErpVqCcPTR/xj4uIF1BvhMRL4VkZmN7UREZorIKhFZdfTo0TCEFTmV3srA\nWvT2BErdpVqqWCkVUyElehF5GPAArzSwySRjzBjgIuAeETmroX0ZY54zxuQYY3IyMzNDCSvimnMx\n1uPz1E4mrpRSsRB0oheRW4BpwPWmgSarMeaA/2s+MBfIDfZ4LUVNjflAEz2g3TdKqZgKKtGLyIXA\ng8ClxpiKBrZJFpHUmsfA+cDG+rZtTQKpRV8j3h4PaKJXSsVWIMMrXwOWAoNFJE9EbgOeAlKB+f6h\nk7P823YXkY/8L80CFovIOmAF8KEx5pOInEUU1XTDBNSit2uLXikVe46mNjDGzKhn8QsNbHsQuNj/\neBcwKqToWqCaEsWBtOi1Jr1SqiXQO2ObyeVuuhZ9De2jV0q1BJrom6l20pEAh1eCJnqlVGxpom+m\nQGaXqqEteqVUS6CJvplqLsYGcmesw+YgzhaniV4pFVOa6JupwmONJg2k6wYgNS6VUrcmeqVU7Gii\nb6aai7GBtOjBn+i1Ra+UiiFN9M3UnIuxAGlxaZrolVIxpYm+mZpzMRYgJS5FE71SKqaavGFKnag5\nd8YCFFUVcaT8SCRDUkqpRmmLvplcbheJjkREJKDtE+wJWr1SKRVTmuibyeVx1d4IFYgERwKVnkqt\nSa+UihlN9M3k8lgt+kAlOBLwGi9V3qoIRqWUUg3TRN9M24u24/a5A95eyyAopWJNE30zuX3ugC/E\ngpZBUErFnib6ZnJ73QGPoYc6k4/o3bFKqRjRRN9M2qJXSrU2muibqdpbHdCkIzW0j14pFWua6JtJ\nW/RKqdYmoEQvIi+KSL6IbKyzLENE5ovIdv/Xjg289mb/NttF5OZwBR4rbp874IJm8H2LXqcTVErF\nSqAt+peAC09a9hDwuTFmIPC5//kJRCQDeAQYD+QCjzT0B6G1qPZWN+tirNPuxCEOiiqLIhiVUko1\nLKBEb4z5Gjh+0uLpwMv+xy8Dl9Xz0guA+caY48aYQmA+p/7BaDW8Pi9e421W1w1AojORoipN9Eqp\n2Ailjz7LGHPI//gwkFXPNj2A/XWe5/mXnUJEZorIKhFZdfTo0RDCipzmliiukeRIoriqOBIhKaVU\nk8JyMdZYhVxCKuZijHnOGJNjjMnJzMwMR1hhV5Pom9NHD5Do0Ba9Uip2Qkn0R0SkG4D/a3492xwA\netZ5nu1f1ipVevwlipvboncmaaJXSsVMKIn+PaBmFM3NwLx6tvkUOF9EOvovwp7vX9Yq1cwX29wW\nfZJDE71SKnYCHV75GrAUGCwieSJyG/A4cJ6IbAem+p8jIjki8jyAMeY48Biw0v//Uf+yVqmm68Zh\na958LYmOREqqS/AZXyTCUkqpRgWUsYwxMxpYdW49264Cbq/z/EXgxaCia2Fq++ibcWcsWF03PuOj\ntLqU9Pj0SISmlFIN0jtjmyGUi7EAhZWFYY9JKaWaoom+Gcrd5UAQLXpHEoD20yulYkITfTNUuP0X\nY4PougFN9Eqp2NBE3ww1o25qaswHKtmZDECBqyDsMSmlVFM00TdDTddNc0sg1Cb6Sk30Sqno00Tf\nDBWeCuJscYhIs17nsDlIi0vjmOtYhCJTSqmGaaJvhgp3RbP752vE2eNYm782zBEppVTTNNE3Q7m7\nPOhEn+xMpsxdFuaIlFKqaZrom6HCU9HsC7E1UpwptX38SikVTZrom6HcXd7sC7E1UuJStEWvlIoJ\nTfTNUOEOvkWf7Eym2ltdOxZfKaWiRRN9M1R4gr8Ym+JMAXSIpVIq+jTRN0Moo25qE73eNKWUijJN\n9M0QyqiblDhN9Eqp2NBEHyCf8dXeMBWMmrtj9aYppVS0aaIPUM00gqFcjAU4VqmJXikVXZroAxRs\nieIaNrGR7EzWrhulVNQFnehFZLCIrK3zv0RE7jtpm7NFpLjONr8LPeTYqJ0vNshED9YFWe26UUpF\nW/MmP63DGLMVGA0gInbgADC3nk0XGWOmBXucliLUFj2gLXqlVEyEq+vmXGCnMWZvmPbX4oQj0WuL\nXikVC+FK9NcBrzWw7gwRWSciH4vIsIZ2ICIzRWSViKw6evRomMIKn5r5YuNtwV2MBUiOS6agsgBj\nTLjCUkqpJoWc6EUkDrgUeKue1auB3saYUcCTwLsN7ccY85wxJscYk5OZmRlqWGEXrhZ9lbdKa94o\npaIqHC36i4DVxpgjJ68wxpQYY8r8jz8CnCLSOQzHjLpg54utq+buWO2+UUpFUzgS/Qwa6LYRka7i\nn45JRHL9x2uVVyPDcjE2Tm+aUkpFX9CjbgBEJBk4D7ijzrI7AYwxs4CrgLtExAO4gOtMK+2grh1e\nGeSdsaCFzZRSsRFSojfGlAOdTlo2q87jp4CnQjlGS1Hhtsof2G32oPehhc2UUrGgd8YGqNxdXlvG\nIFiJjkQc4tCuG6VUVGmiD1CFp4IkZ1JI+xAREp2JrDq8KkxRKaVU0zTRB6jcXR5yoger+0aHVyql\noimkPvr2ZE/JHtw+d8j7SXGmUFpdGoaImmnV7FOX5dwa/TiUUlGniT5AVd4qEuwJIe8nNS6Vg+UH\nwxBREAr3wpGNcHwnpHSFigJI6nTiNpr8lWpzNNEHyO11kx6XHvJ+UuNSKXeX4/a5cdqcYYgsAMbA\nzoWw5T0QgbQekLcc9i+DIdOg/znRiUMpFROa6ANU5a0K6WapGqlxqYA1xLJrcteQ99ckY+Dj/4At\n86DbKBh5HTgTwVUEG9+GLe9DajfoclrkY1FKxYRejA1Qtbc6LIm+Zu7YIxWnVIyIjGXPwIpnod/Z\nMOZmK8kDJHaAMTdBaldY8y9wFUYnHqVU1GmiD4AxhipvVdDTCNaVFpcGwNGKCFboXDXb+j//Efjs\nYcgaDqdNBznp7bbHwdhbwOeB9a9HLh6lVExpog9AhacCgwnbxViIQoveXQmrX4aEdBj1I6tvvj4p\nWTDoQji6FQp2RjYmpVRMaB99AGqGQ8Y7Qm/RJzmSsIktsi16gG0fW/3wE38GcU2M/+8zEXYttF5z\nwf+JbFyqTXt1+b56l/9ofK8oR6Lq0hZ9AMqqrRucwtGiFxFSnankV+SHvK8GFefB7q+h9xnQsW/T\n29vjYMC5ULDDep1Sqk3RRB+AmjtZw9FHD1b3Tb4rQone57NG08Qlw+BmTNXb60yIT4cvH49MXEqp\nmNGumwCEs+sG/Ik+Ui36DW9C4R4YNaPpLpu67E7oPwU2vwt5qyA7JzLxqXbhULGLb/cWEu+wk5bo\n4Mz+nejTObSigCp4mugDUNOiD0fXDViJfn/B/rDs6wTVFfD5o5DeE7LHNf/1vSZYN1Yt+RtcMyf8\n8ak2r7zKw/zNR1i55zh2m+D1GQzwwfpDXDuuJz8/dyBZaeH5PVKB00QfgNoWfRi7bsrcZVS4Q6+I\neYJlT0PJATjj3lOHUgbCkRSyTcgAAB79SURBVADjfgzf/BWO74KMfuGLTbV5rmovLyzeTX5pJWf0\n78S5Q7KIc9godrlZvOMYb6zYz9vf5nHZ6O6M7tkR0Iu00aJ99AGobdE7wteiB8LbfVN6BBb/r1XS\noFP/4PeTeweIHZb+PXyxqXbht/M2cqSkkpvO6MO0kd1JjLNjtwkZyXFcOqo7900dSLe0BN5clcc7\nq/Nwe32xDrnd0EQfgLLqMgQJW22aiCT6L/8bPJVw3qOh7SetG4y81rpbtlxnwlKBeXOl1VqfMqQL\ng7JS692mU0o8t0/uxw8GZbJqbyHPfb2Lw8WVUY60fQo50YvIHhHZICJrReSUGTXE8jcR2SEi60Vk\nTKjHjLaS6hISHAlIQzcdNVNtog/XyJsjm2H1HBj3k9Ba82DdUZveAzwumHdP/eWNlapjX0EFv523\nkUkDOnPOkC6Nbmu3CRcM68qNE3pztKyKS59azLr9RVGKtP0KV4t+ijFmtDGmvqEaFwED/f9nAs+E\n6ZhRU+YuC1v/PESgRT//txCfCj94MDz7S+0GXYbCnkXgrQ7PPlWb9diHm7HbhP939ShsATaGTuuW\nxp1n9SfOYeO655axaHuEbyBs56LRdTMdmGMsy4AOItItCscNm7LqsrCNuAHrom6cLY4lB5aEvrMd\nn8OOBVbRss3zwtcC7zcFqssgb2V49qfapK+2HWX+5iPce85AuqY373eka3oCN07oTXqik1tmr+TX\n72xo8M5aFZpwJHoDfCYi34rIzHrW9wDqjiXM8y87gYjMFJFVIrLq6NGW9de9tLo0bGPoa6TGpVLq\nDnGmKZ8XPvutNXlI78nhCaxGpwHWMM2dC8GjrXp1qjlL9/DLN9fRKTmO5Dh7UEk6NcHJTyb3o0eH\nRF5bsY/vDpeEP1AVlkQ/yRgzBquL5h4ROSuYnRhjnjPG5BhjcjIzM8MQVviEu+sGrERfUh3iD/Wa\nf0H+JhhyCdjDPFJWxCp2VnEMVv4jvPtWbcLSnQUcK6ti2shuOOzBp5LEODu3TuxDtw4JvLFyP9uP\nxGCqzTYu5ERvjDng/5oPzAVyT9rkANCzzvNs/7JWI9xdN+AfS18dwiThVaWw8A/Qc4I1oUgkdBkK\nmUPgyz9CWcv6lKViK7+0ki++y2dwViqDu6aFvL94h50bJ/Qhzm7jtpdXUViunyLDKaRELyLJIpJa\n8xg4H9h40mbvATf5R99MAIqNMYdCOW60lboj1HVTXYoxJrgdLJsFZUfggj80XII4VCIw7HJwl8MX\nj0XmGKpVeuKTrXi8hh+ODN/ltvREJzdM6M3hkkoe/Pf6sO1Xhd6izwIWi8g6YAXwoTHmExG5U0Tu\n9G/zEbAL2AH8A7g7xGNGlTGGcnd5RLpuvMZLUVUQQ8uqSq27YAddGPmaNClZMP5Oq7b9ts8ieyzV\nKqzZV8jb3+YxcUBnOqeE9/eiZ0YSvzxvEPM3H+HTTYfDuu/2LKSOXWPMLuCUfgNjzKw6jw1wTyjH\niaUKTwU+4wvbXbE16g6x7JjQMfAXrpptjbRxFULmadEZ537Ob2DXVzB3JtzxNXTQ29bbq2qPj9/O\n20hWWjxThkTmWtqPJ/Vl7poDPDJvExMHdCYlXiu1hErvjG1CTZ2bSPTRQxAzTXmrrUlCMgdDx95h\njalBzkS45mVrlM+bN1uzV6l26b8/2sLGAyU8On048Q57RI7htNv47ytGcKS0kj99tjUix2hvNNE3\noeaCabi7btLj0gE4XN7Mj6f7llvj2wdeENZ4mtSpP1z2dzi42rpjNthrC6rV+mjDIV5asofbJvXl\ngmFdI3acV5fv47tDpYzrk8FL3+zhrwu26/j6EGmib0LtpCNhvhibEpeCIM1L9MbA3sWQ3iu6lSVr\nJhsvPwaDf2hNbPLVE9E7voq5HfllPPj2ekb37MB/XDgkKseceloWTruNz7+L8PzK7YAm+iZEquvG\nJjbS4tM4VN6MAUj7llojbfpMDGsszTJgqjWpyZf/Ddvnxy4OFTX5JZXc/OIKEpw2nvrR6cQ5opM2\nUuKtCUvW5xVzqNgVlWO2VZromxDuWvR1pcelNy/Rr3rRqhnf/fSwxxIwEeg+xqqH8/at8M3ftPBZ\nG1Za6eaW2SsprKhm9i25ZHcM4/wJAZg8MJMEp40FWyI4x3I7oJezmxDuWvR1pcWnBd51U37MqmXT\nc4I1mXcs2Z1w+o2w+M+w/nXIuT228aiwqdsX7vH5mLNkL7sLynnh5hxGZKdHPZ7EODuTBmSyYMsR\n1u0vYlTPDlGPoS3QRN+EJQetwmORatF/d/w7vD4vdlsTIxjWvmqNuOl9ZtjjCEpad2uSk83vwqE1\nsY5GhZkxhndWH2DH0TKuHJPNwaLKmF0Qndi/E9/sOMaTX2zn+ZuDmCJTaddNUyq9lWGddKSu9Ph0\nPD4PBZUBTPCx/k3okQOpkRvt0Gx9z7IS/pb3wa19qG3JZ5uPsHZ/EecNzWJs72bc5xEB8U47Ewd0\nYsGWfDYf1KJnwdBE34QqT1VYJx2pKy3eqhHSZPdN/hY4sgFGXhP2GEIiNhh6uXXz1tKnYx2NCpON\nB4r5attRcvtkcPagllFg8Ix+1o1TT3+5I9ahtEqa6JtQ6akk0ZEYkX3XjKVv8oLshretpDrs8ojE\nEZLOA6HrSFj0ZyjVW9Zbu8KKat5Zk0d2x0QuGdU9Ig2cYCTG2bnpjN58tOEQO4+GUAywndJE3wSX\nxxWRC7Fgdd1AIy36VbNh5Yvw7WwroX73YUTiCNlpl4K3SsfWt3Ier483Vu7HGLhuXC/stpaR5Gvc\nNqkv8Q4bf1+4M9ahtDqa6Jvg8rgi1qKPt8eT7ExuvOumaA9UFED3sRGJISySO8PYW6zCZ8d3xToa\nFaT/XbCdfccruOz0HmQkx3hkVz0+3XSEsb06MndNHk9/sUPvlm0GTfRNiGSiFxG6JnVtvOvmwGqw\nOa3ukZbsrAesOBf+T6wjUUFYsuMYT3+5g7G9OzIqu+UOYZw0MBMR4SudY7ZZNNE3IZKJHqBrSiOJ\n3ueFg2sgaxg4I9N9FDapXWHCnbDhLTh88pQEqiUrKKvivjfW0q9zMpeM7B7rcBqVnuhkbK+OfLu3\nkBKXO9bhtBqa6Bvh9Xmp9EbuYiyAy+1iT/Ge+lce22YVMOsxJmLHD6uJP4eENJ2kpBUxxvDA2+sp\ncrl5csaYqJU3CMVZgzIxxrBIW/UBa/nvagzVlD+IZKLvlNiJCk8FxVXFp648uNoqeZA5NGLHD6vE\njlay3/YJ7FsW62hUAF78Zg9ffJfPwxefxtDuoU8JGA0ZyXGMyu7Aij3HKSirinU4rYIm+kYUV1vJ\nN5KJvnNiZwB2FZ90EbO6Ag6th26jwz/xdyTUVLh0JkN8Grx7l5YybuE25BXz+MdbOG9oFjedEaW5\nDcLkB4Mz8XgNL36zO9ahtApBJ3oR6SkiC0Vks4hsEpGf17PN2SJSLCJr/f9/F1q40VXTyo5Koi86\nKdFv+8Qasthaum1qOOJh4PnW6JvtOvVgSzV78W5umb2CpDgH4/tk8NqK/a1qFEuX1ASG9UhnzpK9\nFGtffZNCadF7gF8aY4YCE4B7RKS+PoZFxpjR/v+PhnC8qItGok+PT8chjlNb9OvfgPh06DQgYseO\nmF4TIDkTPn0YPNWxjkadxBjD26vzKKyo5pqcniS10qn6pgzOpLTKw5wle2IdSosXdKI3xhwyxqz2\nPy4FtgA9whVYSxCNrhub2OiU2ImdxXVuAik5aLWGs3OsO2JbG5sDhl4GBdthxXOxjkad5O9f7mTT\nwRIuHNaVvp2TYx1O0LqlJ3LukC688M1uyqs8sQ6nRQtLFhGRPsDpwPJ6Vp8hIutE5GMRGdbIPmaK\nyCoRWXX0aMu4mh6NFj1At+RubD62GVPTp732VTA+qyRxa5U1DAacB1/9Ecpaxvup4KttR/l/n21l\nZHY6Ewd0jnU4IbvnnAEUVbj517K9sQ6lRQs50YtICvBv4D5jzMml5VYDvY0xo4AngXcb2o8x5jlj\nTI4xJiczs2UUUipwFSBIxBN9dmo2hVWF7CvdBz4frPkn9JkMKS3j+xC0C/4b3BXw2cOxjkQBmw+W\ncM8rqxmclcoVp2e3mDo2oRjTqyNnDcpk1lc7KanUvvqGhJToRcSJleRfMca8c/J6Y0yJMabM//gj\nwCkiraYZccx1jGRncsR/IbJTswFYm7/WmhO2cA+MuSmix4yKvd9A/3Os6w0fPagzUcXQgSIXt760\ngtQEB7NvHdcqxssH6sELBlNY4eYfX2v5jYaEMupGgBeALcaYPzewTVf/dohIrv94ARRfbxkKKgtI\niUuJ+HEyEzOJt8fz9ra34duXrIuwp10S8eNGxYDzIaULbHgTPDrmORaOlVVx84srqKj28tKtuXRL\nj+wn1Gh6dfk+1ucVM6JHOrO+2smzX+1sVaOHoiWUP+sTgRuBc+oMn7xYRO4UkTv921wFbBSRdcDf\ngOuMaT2Dq2ta9JEmIgzoMIAdhVvxbnoXxtwIzjbyy2h3wMjrwFVkzUaloiq/pJKL/rqIvQXlXDuu\nJ9/uLWyTifC8oVl4fYaFW3Vu2foEPa7KGLMYaLRPwxjzFPBUsMeItQJXAV2TozOj06COg9hUsIkN\n8XGMnnB3VI4ZNRn9YMC5sGMBrH0NRs+IdUTtwoEiFzc8v5xil5tbzuzbqkfYNKVzSjw5fTJYsfs4\nZ/RrNb3DUdN2OurCzBhDQWVBVFr0AEOPH8JhDAu79LaGVra1/uxBF0FGf/jgfjiyKdbRtHlr9hUy\n/alvOFZaxa1n9mnTSb7GuUO64LTb+GhDExP5tEOa6BtQUl2Cx+chxRn5PnqAEfnbGVtZxZet9OaV\nJtnsMOZmSEiHf12pdesjaN7aA1z73DIS42y8c/eZ9O7U9pM8QGqCk3OGdGHrkVLtwjmJJvoGFLis\na8bRuBgbV1XGwIObON0ksMtTwt6qwogfMyYS0uDGudZF2ZcvhUId+xxOLy/Zw7XPLuXnr6+lW3oC\nN07ow8o9bfRnqQFn9O9Ep+Q4HvtgM26vL9bhtBia6BuQ77JaBNHoujlt4wc4vW4ysoYD8GVpG54q\nbf9yyPmxNWvWrEkw/5FYR9Qm7C0o59mvdrJ893EmD+jM7ZP6kdJWPx02wmGz8cMR3dh1tJzZWvCs\nlib6BuSV5gHQMaFjRI+TXHqEAdsXsjtrII6UrmQ5UnizcH1Ejxlz6dlw5r1gd8LSJ607gVXQPlx/\niGl/W0xhhZsbJ/TmohHdWtx8r9E0uGsqU0/rwl/mb2f/8YpYh9MiaKJvwL7SfThsDtLiIluje+Ta\nd/DZHGzqaVWpHJSQyf7qIo55yiN63JhL7QaTfgEd+1kljT992JpRSwWsyuPld/M2cs+rq+nfJYWf\nnjOA07q1jprykSQi/Nf04YjA7+ZtpBWN6I4YTfQNyCvNIzslG1sEi4p1O7CO7P3f8t3Qi6iMSwJg\neEIWBvikeGvEjttixCXD+DshdyYsfQpeuRoqjsc6qlZhb0E5Vz6zhDlL93L7pL68eccZdExqeRN6\nx0qPDon88vzBLNx6lA91FI4m+oasP7oehy1yfZwOt4sxK/9FcXoPvjvtwtrlmc4UujpSea9oc8SO\n3aLY7NBlKIy4FnZ9CU/lwOc6FWFj3l93kGl/W8y+ggqeu3Esv5k2tE2VNAiXW87sw4ge6TwybxPH\n2vlMVPrTUQ9jDIWVhWQkZETsGCPW/pvEiiJWjb8Zc9IMUqcndWdLZT5rKw5G7PgtTu8zrH57nwe+\n+SuseyPWEbU4FdUe/uPt9dz72ho6JDm546z+HCur5tXl+9rk3a6heHX5Pt5YuZ8pQ7pQ7HJz4/PL\neaUdV7jURF+P/Ip8qn3VEUv03Ve/xoDtX7K921COlx2GPUtOWD8qsRsJ4uD/HPw8IsdvsTr2gcm/\ngg69YO5M+Pg/wKsVCQG2HCrhkicX8+a3+zl7UCYzz+pPx2TtqmlK17QEzh/WlS2HS/l2b/saalqX\nJvp6rDu6DoAeKeGfRyWpvIBx2xdRmNyJDb3H1rtNnM3BGcm92Vp1lCVle8IeQ4sWnwoT7oYJ98Dy\nWdZ4+9IjsY4qZjxeHy8s3s30p7+hpNLDv24bz/nDurbrUTXNdWb/TvTrnMwH6w+xI78s1uHEhCb6\neqw7ug6HOMJe58bmqWbC4mcRDEsHTcHXyDWAM1J60dmexK/2f8gnxVvxtaeRAzY7dB4Ip98IeSut\nfvtt7W/+2SU7jzHxj1/w2Aeb6dspmZ9M7sfeAh0u2Fw2Ea4am43TLsz856p2WbdeE3091h5dS7eU\nbtht9vDt1Odj/JJ/0KlgFysHTKY8sfFhcA6xc32nMXR1pvJA3ofcuPs1DrtLwxdPa9BjLEy63xqd\n8+rVMO+nbXpUjjGG/ccreHHxbi766yJ+9I/lVHt8XD++Fzed0btd3gAVLh2S4vjR+N7sK6jg/tfX\n4vO1o4YTIC1xjGlOTo5ZtWpV1I731ra3ALh60NUccx1j6ltTObP7mUzpNSU8BzCG01e9yoDtC1kz\n5jp2JCQF/FKfMWxwHeLjkq1kOlJ4td8MMhyBv75N8HqgZD8seRISOsA5v7EmZrE7Yx1ZSIpdblbv\nLWTt/iLW5xWxLq+Y4+XWZOojeqRzTU42PgNOu7bHwsXr8/HbeZu4dWIffjdtaJuYZauGiHxrjMmp\nb502EU7y2Z7P8Bovwzo3OL1ts4jPw9gVc+i7awnfnXYBO4ZMPeXia2NsIoxK6k4nRzKvHF/Nz/e9\nx/N9riI+gkM/Wxy7Azr2tS7Ubvw3fPgL+OIxOPs/YcTVkBS50VHhtv1IKf/z8XdsO1LKgUIXBqvW\nd2ZqPH07JTNpQGf6dk4mKy0BgDB+plTADRN6s+tYObO/2YMx8MglbSvZN6Rdt+h3F+/mr6v/it1m\nZ0K3CVw58Equfv9qDIYZQ0KvmR5XWUru0hfodmgjm7JHs7nn6RDCD1WqPZ4H8j5kaEIW12aM5KzU\nfnR2tI/KhLWMgfzNVm37wt1gc1rTFfY9C3qOh8xBVoXMFmTPsXI+WH+Q99cdYuuRUgTolZFE/y4p\n9O2cTHaHROKdmtKjxRjDRxsO8c3OAsb1yeCV28e3ifsQtEVfD4/Pw8+++Bl7SvYAkBaXRqIjkW2F\n27h8wOWh7dwYuuetYezKfxJXXcGq/hPZnTU45JhLvVVc1WEE80u388jB+cSLnYe7nctlHYa1i1YJ\nYP2hzBpm3WTVYwxsfBu2vA/bP/1+m6TO1mQnnfpbQzY79La+duwNKV3BFtlf6mKXm40Hilm0/Rhf\nbs3nu8PWtZWc3h35r0uHUen2kprQurudWjMR4eIR3XDYbXy17SiXPf0Nf71uNAOzUmMdWsS02xb9\n+zvf59eLf80fJ/+RJ9c+ycGyg/iMj+7J3fnxiB8HV/rAGLoc2cLQDe+TeXQ7hR17seKMH1NSFN6b\nWYwxHPGUsc51iOXl+7g0fSj/2W0KKfb4sB6nVakshqK9UHYUKo5B+TEoP2otp87PuD3eGqffZQhk\nj4MeOdB9tHXBNwDGGEpcHo6WVXG0tIqDRS4OFLlqv+4pKGf/cRcANoHenZIZ0jWVET3S6aAlClqc\nzQdL+GjjIcqrPNwwoTe3TuxDdsfWeQ2ssRZ9SIleRC4E/orVlfi8Mebxk9bHA3OAsViTgl9rjNnT\n1H4jnejdPjfT351OsjOZN6a9wZzNc5i/dz5en5cL+17YvNLExpBWfJDuB9bSZ9cSUkuPUBGXxHc9\nRrIrawgmgq1HnzEsKtvN12W7SBAH/RM6ke3sQM+4DoxN7sH45F44Ilirp1XwevCUH6es9DiVJcfx\nlh/HWXmM5Io8kquPAeDDxrGk/uQlDWV34lB2OIewV3rg8hgq3T4qPV4q3T4Ky6s5WlqFt57fmZR4\nBx2SnHRMiqNbegLdOyTSKyOJBO2SafGmDu3C4x99x3vrDmKAswdlcvaQLkwe0JnenZJazafliCR6\nEbED24DzgDxgJTDDGLO5zjZ3AyONMXeKyHXA5caYa5vadyQTfZW3ir+t/htzNs/hb1P+ypTss3lr\n21sIBjBQM+zKGDAGm8+L3VOFw1OF3VNNXHU5ia4iUkrz6VCcR6fju0lyFQFwJHMQO1O6sbtTf3z+\noZkGwMj3jwFTM9WuOaGtiUGo+3ZYD6U2nLr7wEjt43xPMVuq91PkK6fYV06pz4XBkGpLpKujAx3t\nyWTZ0+niSKejPZkyXxXHPWV48NHN0ZF+cVl0t3fCLjYrhppD+B/4jMGHwWt8uIybY95ijntLceAg\n1ZZEqi0Ju9ip9FZjEztx4sApTpzGgUjtd/aEczDG4DPgxUulqabKeHCKnTjiceAAEbw+cBtw+wSP\nz/qK9Q/BajEboMwtlNb899gorhZ2F3kp8Tgo9tgp89i//57XkUEJo207GG3bwemyk1G2naTJ9+PU\nq3DixolbnHhw4rE58UocPnscPns81c40vPEdMQkdccd3oNqZTrUzHY89Hp/Nic8Wh9cWh0+c+GxO\n67HNiRF73XcSMd//ZJzwzn//Zvt/EgwYn/+rQfAhxmf95PiXi/F9v03N8jrbIILBhhE7RqyvPqnz\nnO+Xn/IVOXV5ne2bff3J+GOsPS/qnJ/11ebzYDNubD4P4v9qM16M2PCJwx+/3R+PHZ/NjjlpOQE2\ndooqqlm6q4CNB4oprLDG2qclOBjaPY3+mSn0zEiie4dEMpLi6JDkJM5hwyaC3SbYRbDZqPO4zlf/\nYxFrvU0EmxD2PyCRSvRnAL83xlzgf/6fAMaY/6mzzaf+bZaKiAM4DGSaJg4abKIf+9h8hlZv4Fnb\n49YPvf/XW7B+iIptwg97daXCZuPaklIeLihsfHbzRviMsNt0ZZPpw2LfcL72juQwnYLcW5iJG0fK\nVhwpWxBHCeIsxuYsRGzf3yhijPWdEfHVWWYDY8NKo8afaXyIBPczAmB8NX3RNfvz/3I3sk9jbHhK\nRlJ58LpmHSvOZkh1GtKcPuKpJs3hJd3hIc1pfU13eklxeEmw+Uiw+Yi3+Yi3GxJsPpxi/bwkVBeQ\n4jpAfPVxbD4vYrzYjKf2q814EZ8Hm/Hg8Fbi8Fbg8Lqw+6qD/h61FSf/IbAWWn+QrK91/vgQ/M9U\nMHFZSd/BwcxJLB7zl8a3N4aCsmp2HivjUFElh4pdFJRXU1Ed/jLaVuK3kr5NrNFXix48J6h9RSrR\nXwVcaIy53f/8RmC8MeandbbZ6N8mz/98p3+bY/XsbyYw0/90MBDNOr2dgVNiaqP0XNsmPde2K9Dz\n7W2MyaxvRYsZdWOMeQ54LhbHFpFVDf0lbGv0XNsmPde2KxznG8qVugNAzzrPs/3L6t3G33WTjnVR\nVimlVJSEkuhXAgNFpK+IxAHXAe+dtM17wM3+x1cBXzTVP6+UUiq8gu66McZ4ROSnwKdYwytfNMZs\nEpFHgVXGmPeAF4B/isgO4DjWH4OWKCZdRjGi59o26bm2XSGfb4u8YUoppVT4tPO7aZRSqu3TRK+U\nUm1cu0n0InKhiGwVkR0i8lA96+NF5A3/+uUi0if6UYZHAOf6CxHZLCLrReRzEekdizjDpanzrbPd\nlSJiRKTVDs0L5FxF5Br/+7tJRF6NdozhEsDPcS8RWSgia/w/yxfHIs5wEJEXRSTff+9RfetFRP7m\n/16sF5ExzTqAMabN/8e6WLwT6AfEAeuAoSdtczcwy//4OuCNWMcdwXOdAiT5H9/VWs810PP1b5cK\nfA0sA3JiHXcE39uBwBqgo/95l1jHHcFzfQ64y/94KLAn1nGHcL5nAWOAjQ2svxj4GOu29QnA8ubs\nv7206HOBHcaYXcaYauB1YPpJ20wHXvY/fhs4V1pLNaMTNXmuxpiFxpiaoi7LsO6BaK0CeW8BHgP+\nCFRGM7gwC+RcfwI8bYwpBDDG5Ec5xnAJ5FwNUDMnZzpwMIrxhZUx5muskYkNmQ7MMZZlQAcR6Rbo\n/ttLou8B7K/zPM+/rN5tjDEeoBhaSvGaZgnkXOu6Daul0Fo1eb7+j7k9jTEfRjOwCAjkvR0EDBKR\nb0Rkmb/CbGsUyLn+HrhBRPKAj4B7oxNaTDT39/oELaYEgoo+EbkByAF+EOtYIkVEbMCfgVtiHEq0\nOLC6b87G+qT2tYiMMMYUxTSqyJgBvGSM+ZO/yOI/RWS4McbX1Avbm/bSom9P5RoCOVdEZCrwMHCp\nMaYqSrFFQlPnmwoMB74UkT1Y/ZvvtdILsoG8t3nAe8YYtzFmN1Yp8YFRii+cAjnX24A3AYwxS4EE\nrAJgbVFAv9cNaS+Jvj2Va2jyXEXkdOBZrCTfWvtwazR6vsaYYmNMZ2NMH2NMH6xrEpcaYyI/KXH4\nBfJz/C5Wax4R6YzVlbMrmkGGSSDnug84F0BETsNK9EejGmX0vAfc5B99MwEoNsYcCvTF7aLrxrSt\ncg2NCvBc/y+QArzlv968zxhzacyCDkGA59smBHiunwLni8hmwAs8YIxpdZ9MAzzXXwL/EJH7sS7M\n3tJKG2eIyGtYf6A7+685PAI4AYwxs7CuQVwM7AAqgFubtf9W+n1RSikVoPbSdaOUUu2WJnqllGrj\nNNErpVQbp4leKaXaOE30SinVxmmiV0qpNk4TvVJKtXH/H1P4osFfddzHAAAAAElFTkSuQmCC\n",
            "text/plain": [
              "<Figure size 432x288 with 1 Axes>"
            ]
          },
          "metadata": {
            "tags": []
          }
        }
      ]
    },
    {
      "cell_type": "markdown",
      "metadata": {
        "id": "am1Pvc2_k2_n",
        "colab_type": "text"
      },
      "source": [
        "Correlation Matrix"
      ]
    },
    {
      "cell_type": "code",
      "metadata": {
        "id": "4DKTTdB6i0M2",
        "colab_type": "code",
        "outputId": "74a9ca6f-a096-4e7b-e2c7-82ea635f497b",
        "colab": {
          "base_uri": "https://localhost:8080/",
          "height": 403
        }
      },
      "source": [
        "corr = churn_df[[\"account_length\", \"number_vmail_messages\", \"total_day_minutes\",\n",
        "                    \"total_day_calls\", \"total_day_charge\", \"total_eve_minutes\",\n",
        "                    \"total_eve_calls\", \"total_eve_charge\", \"total_night_minutes\",\n",
        "                    \"total_night_calls\", \"total_intl_minutes\", \"total_intl_calls\",\n",
        "                    \"total_intl_charge\"]].corr()\n",
        "\n",
        "sns.heatmap(corr, cmap = 'seismic', vmin=-1, vmax=1) #, center = 0)"
      ],
      "execution_count": 0,
      "outputs": [
        {
          "output_type": "execute_result",
          "data": {
            "text/plain": [
              "<matplotlib.axes._subplots.AxesSubplot at 0x7fdae2640908>"
            ]
          },
          "metadata": {
            "tags": []
          },
          "execution_count": 323
        },
        {
          "output_type": "display_data",
          "data": {
            "image/png": "iVBORw0KGgoAAAANSUhEUgAAAdoAAAFxCAYAAADUP2mCAAAABHNCSVQICAgIfAhkiAAAAAlwSFlz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\nDYIgCIIO+f9eMmGL7Z27SAAAAABJRU5ErkJggg==\n",
            "text/plain": [
              "<Figure size 432x288 with 2 Axes>"
            ]
          },
          "metadata": {
            "tags": []
          }
        }
      ]
    },
    {
      "cell_type": "code",
      "metadata": {
        "id": "1qfEnNW_i0M5",
        "colab_type": "code",
        "outputId": "c3c273ee-6867-49c5-ba29-7c894d838158",
        "colab": {
          "base_uri": "https://localhost:8080/",
          "height": 472
        }
      },
      "source": [
        "corr"
      ],
      "execution_count": 0,
      "outputs": [
        {
          "output_type": "execute_result",
          "data": {
            "text/html": [
              "<div>\n",
              "<style scoped>\n",
              "    .dataframe tbody tr th:only-of-type {\n",
              "        vertical-align: middle;\n",
              "    }\n",
              "\n",
              "    .dataframe tbody tr th {\n",
              "        vertical-align: top;\n",
              "    }\n",
              "\n",
              "    .dataframe thead th {\n",
              "        text-align: right;\n",
              "    }\n",
              "</style>\n",
              "<table border=\"1\" class=\"dataframe\">\n",
              "  <thead>\n",
              "    <tr style=\"text-align: right;\">\n",
              "      <th></th>\n",
              "      <th>account_length</th>\n",
              "      <th>number_vmail_messages</th>\n",
              "      <th>total_day_minutes</th>\n",
              "      <th>total_day_calls</th>\n",
              "      <th>total_day_charge</th>\n",
              "      <th>total_eve_minutes</th>\n",
              "      <th>total_eve_calls</th>\n",
              "      <th>total_eve_charge</th>\n",
              "      <th>total_night_minutes</th>\n",
              "      <th>total_night_calls</th>\n",
              "      <th>total_intl_minutes</th>\n",
              "      <th>total_intl_calls</th>\n",
              "      <th>total_intl_charge</th>\n",
              "    </tr>\n",
              "  </thead>\n",
              "  <tbody>\n",
              "    <tr>\n",
              "      <th>account_length</th>\n",
              "      <td>1.000000</td>\n",
              "      <td>-0.014575</td>\n",
              "      <td>-0.001017</td>\n",
              "      <td>0.028240</td>\n",
              "      <td>-0.001019</td>\n",
              "      <td>-0.009591</td>\n",
              "      <td>0.009143</td>\n",
              "      <td>-0.009587</td>\n",
              "      <td>0.000668</td>\n",
              "      <td>-0.007825</td>\n",
              "      <td>0.001291</td>\n",
              "      <td>0.014277</td>\n",
              "      <td>0.001292</td>\n",
              "    </tr>\n",
              "    <tr>\n",
              "      <th>number_vmail_messages</th>\n",
              "      <td>-0.014575</td>\n",
              "      <td>1.000000</td>\n",
              "      <td>0.005381</td>\n",
              "      <td>0.000883</td>\n",
              "      <td>0.005377</td>\n",
              "      <td>0.019490</td>\n",
              "      <td>-0.003954</td>\n",
              "      <td>0.019496</td>\n",
              "      <td>0.005541</td>\n",
              "      <td>0.002676</td>\n",
              "      <td>0.002463</td>\n",
              "      <td>0.000124</td>\n",
              "      <td>0.002505</td>\n",
              "    </tr>\n",
              "    <tr>\n",
              "      <th>total_day_minutes</th>\n",
              "      <td>-0.001017</td>\n",
              "      <td>0.005381</td>\n",
              "      <td>1.000000</td>\n",
              "      <td>0.001935</td>\n",
              "      <td>1.000000</td>\n",
              "      <td>-0.010750</td>\n",
              "      <td>0.008128</td>\n",
              "      <td>-0.010760</td>\n",
              "      <td>0.011799</td>\n",
              "      <td>0.004236</td>\n",
              "      <td>-0.019486</td>\n",
              "      <td>-0.001303</td>\n",
              "      <td>-0.019415</td>\n",
              "    </tr>\n",
              "    <tr>\n",
              "      <th>total_day_calls</th>\n",
              "      <td>0.028240</td>\n",
              "      <td>0.000883</td>\n",
              "      <td>0.001935</td>\n",
              "      <td>1.000000</td>\n",
              "      <td>0.001936</td>\n",
              "      <td>-0.000699</td>\n",
              "      <td>0.003754</td>\n",
              "      <td>-0.000695</td>\n",
              "      <td>0.002804</td>\n",
              "      <td>-0.008308</td>\n",
              "      <td>0.013097</td>\n",
              "      <td>0.010893</td>\n",
              "      <td>0.013161</td>\n",
              "    </tr>\n",
              "    <tr>\n",
              "      <th>total_day_charge</th>\n",
              "      <td>-0.001019</td>\n",
              "      <td>0.005377</td>\n",
              "      <td>1.000000</td>\n",
              "      <td>0.001936</td>\n",
              "      <td>1.000000</td>\n",
              "      <td>-0.010747</td>\n",
              "      <td>0.008129</td>\n",
              "      <td>-0.010757</td>\n",
              "      <td>0.011801</td>\n",
              "      <td>0.004235</td>\n",
              "      <td>-0.019490</td>\n",
              "      <td>-0.001307</td>\n",
              "      <td>-0.019419</td>\n",
              "    </tr>\n",
              "    <tr>\n",
              "      <th>total_eve_minutes</th>\n",
              "      <td>-0.009591</td>\n",
              "      <td>0.019490</td>\n",
              "      <td>-0.010750</td>\n",
              "      <td>-0.000699</td>\n",
              "      <td>-0.010747</td>\n",
              "      <td>1.000000</td>\n",
              "      <td>0.002763</td>\n",
              "      <td>1.000000</td>\n",
              "      <td>-0.016639</td>\n",
              "      <td>0.013420</td>\n",
              "      <td>0.000137</td>\n",
              "      <td>0.008388</td>\n",
              "      <td>0.000159</td>\n",
              "    </tr>\n",
              "    <tr>\n",
              "      <th>total_eve_calls</th>\n",
              "      <td>0.009143</td>\n",
              "      <td>-0.003954</td>\n",
              "      <td>0.008128</td>\n",
              "      <td>0.003754</td>\n",
              "      <td>0.008129</td>\n",
              "      <td>0.002763</td>\n",
              "      <td>1.000000</td>\n",
              "      <td>0.002778</td>\n",
              "      <td>0.001781</td>\n",
              "      <td>-0.013682</td>\n",
              "      <td>-0.007458</td>\n",
              "      <td>0.005574</td>\n",
              "      <td>-0.007507</td>\n",
              "    </tr>\n",
              "    <tr>\n",
              "      <th>total_eve_charge</th>\n",
              "      <td>-0.009587</td>\n",
              "      <td>0.019496</td>\n",
              "      <td>-0.010760</td>\n",
              "      <td>-0.000695</td>\n",
              "      <td>-0.010757</td>\n",
              "      <td>1.000000</td>\n",
              "      <td>0.002778</td>\n",
              "      <td>1.000000</td>\n",
              "      <td>-0.016649</td>\n",
              "      <td>0.013422</td>\n",
              "      <td>0.000132</td>\n",
              "      <td>0.008393</td>\n",
              "      <td>0.000155</td>\n",
              "    </tr>\n",
              "    <tr>\n",
              "      <th>total_night_minutes</th>\n",
              "      <td>0.000668</td>\n",
              "      <td>0.005541</td>\n",
              "      <td>0.011799</td>\n",
              "      <td>0.002804</td>\n",
              "      <td>0.011801</td>\n",
              "      <td>-0.016639</td>\n",
              "      <td>0.001781</td>\n",
              "      <td>-0.016649</td>\n",
              "      <td>1.000000</td>\n",
              "      <td>0.026972</td>\n",
              "      <td>-0.006721</td>\n",
              "      <td>-0.017214</td>\n",
              "      <td>-0.006655</td>\n",
              "    </tr>\n",
              "    <tr>\n",
              "      <th>total_night_calls</th>\n",
              "      <td>-0.007825</td>\n",
              "      <td>0.002676</td>\n",
              "      <td>0.004236</td>\n",
              "      <td>-0.008308</td>\n",
              "      <td>0.004235</td>\n",
              "      <td>0.013420</td>\n",
              "      <td>-0.013682</td>\n",
              "      <td>0.013422</td>\n",
              "      <td>0.026972</td>\n",
              "      <td>1.000000</td>\n",
              "      <td>0.000391</td>\n",
              "      <td>-0.000156</td>\n",
              "      <td>0.000368</td>\n",
              "    </tr>\n",
              "    <tr>\n",
              "      <th>total_intl_minutes</th>\n",
              "      <td>0.001291</td>\n",
              "      <td>0.002463</td>\n",
              "      <td>-0.019486</td>\n",
              "      <td>0.013097</td>\n",
              "      <td>-0.019490</td>\n",
              "      <td>0.000137</td>\n",
              "      <td>-0.007458</td>\n",
              "      <td>0.000132</td>\n",
              "      <td>-0.006721</td>\n",
              "      <td>0.000391</td>\n",
              "      <td>1.000000</td>\n",
              "      <td>0.016791</td>\n",
              "      <td>0.999993</td>\n",
              "    </tr>\n",
              "    <tr>\n",
              "      <th>total_intl_calls</th>\n",
              "      <td>0.014277</td>\n",
              "      <td>0.000124</td>\n",
              "      <td>-0.001303</td>\n",
              "      <td>0.010893</td>\n",
              "      <td>-0.001307</td>\n",
              "      <td>0.008388</td>\n",
              "      <td>0.005574</td>\n",
              "      <td>0.008393</td>\n",
              "      <td>-0.017214</td>\n",
              "      <td>-0.000156</td>\n",
              "      <td>0.016791</td>\n",
              "      <td>1.000000</td>\n",
              "      <td>0.016900</td>\n",
              "    </tr>\n",
              "    <tr>\n",
              "      <th>total_intl_charge</th>\n",
              "      <td>0.001292</td>\n",
              "      <td>0.002505</td>\n",
              "      <td>-0.019415</td>\n",
              "      <td>0.013161</td>\n",
              "      <td>-0.019419</td>\n",
              "      <td>0.000159</td>\n",
              "      <td>-0.007507</td>\n",
              "      <td>0.000155</td>\n",
              "      <td>-0.006655</td>\n",
              "      <td>0.000368</td>\n",
              "      <td>0.999993</td>\n",
              "      <td>0.016900</td>\n",
              "      <td>1.000000</td>\n",
              "    </tr>\n",
              "  </tbody>\n",
              "</table>\n",
              "</div>"
            ],
            "text/plain": [
              "                       account_length  number_vmail_messages  \\\n",
              "account_length               1.000000              -0.014575   \n",
              "number_vmail_messages       -0.014575               1.000000   \n",
              "total_day_minutes           -0.001017               0.005381   \n",
              "total_day_calls              0.028240               0.000883   \n",
              "total_day_charge            -0.001019               0.005377   \n",
              "total_eve_minutes           -0.009591               0.019490   \n",
              "total_eve_calls              0.009143              -0.003954   \n",
              "total_eve_charge            -0.009587               0.019496   \n",
              "total_night_minutes          0.000668               0.005541   \n",
              "total_night_calls           -0.007825               0.002676   \n",
              "total_intl_minutes           0.001291               0.002463   \n",
              "total_intl_calls             0.014277               0.000124   \n",
              "total_intl_charge            0.001292               0.002505   \n",
              "\n",
              "                       total_day_minutes  total_day_calls  total_day_charge  \\\n",
              "account_length                 -0.001017         0.028240         -0.001019   \n",
              "number_vmail_messages           0.005381         0.000883          0.005377   \n",
              "total_day_minutes               1.000000         0.001935          1.000000   \n",
              "total_day_calls                 0.001935         1.000000          0.001936   \n",
              "total_day_charge                1.000000         0.001936          1.000000   \n",
              "total_eve_minutes              -0.010750        -0.000699         -0.010747   \n",
              "total_eve_calls                 0.008128         0.003754          0.008129   \n",
              "total_eve_charge               -0.010760        -0.000695         -0.010757   \n",
              "total_night_minutes             0.011799         0.002804          0.011801   \n",
              "total_night_calls               0.004236        -0.008308          0.004235   \n",
              "total_intl_minutes             -0.019486         0.013097         -0.019490   \n",
              "total_intl_calls               -0.001303         0.010893         -0.001307   \n",
              "total_intl_charge              -0.019415         0.013161         -0.019419   \n",
              "\n",
              "                       total_eve_minutes  total_eve_calls  total_eve_charge  \\\n",
              "account_length                 -0.009591         0.009143         -0.009587   \n",
              "number_vmail_messages           0.019490        -0.003954          0.019496   \n",
              "total_day_minutes              -0.010750         0.008128         -0.010760   \n",
              "total_day_calls                -0.000699         0.003754         -0.000695   \n",
              "total_day_charge               -0.010747         0.008129         -0.010757   \n",
              "total_eve_minutes               1.000000         0.002763          1.000000   \n",
              "total_eve_calls                 0.002763         1.000000          0.002778   \n",
              "total_eve_charge                1.000000         0.002778          1.000000   \n",
              "total_night_minutes            -0.016639         0.001781         -0.016649   \n",
              "total_night_calls               0.013420        -0.013682          0.013422   \n",
              "total_intl_minutes              0.000137        -0.007458          0.000132   \n",
              "total_intl_calls                0.008388         0.005574          0.008393   \n",
              "total_intl_charge               0.000159        -0.007507          0.000155   \n",
              "\n",
              "                       total_night_minutes  total_night_calls  \\\n",
              "account_length                    0.000668          -0.007825   \n",
              "number_vmail_messages             0.005541           0.002676   \n",
              "total_day_minutes                 0.011799           0.004236   \n",
              "total_day_calls                   0.002804          -0.008308   \n",
              "total_day_charge                  0.011801           0.004235   \n",
              "total_eve_minutes                -0.016639           0.013420   \n",
              "total_eve_calls                   0.001781          -0.013682   \n",
              "total_eve_charge                 -0.016649           0.013422   \n",
              "total_night_minutes               1.000000           0.026972   \n",
              "total_night_calls                 0.026972           1.000000   \n",
              "total_intl_minutes               -0.006721           0.000391   \n",
              "total_intl_calls                 -0.017214          -0.000156   \n",
              "total_intl_charge                -0.006655           0.000368   \n",
              "\n",
              "                       total_intl_minutes  total_intl_calls  total_intl_charge  \n",
              "account_length                   0.001291          0.014277           0.001292  \n",
              "number_vmail_messages            0.002463          0.000124           0.002505  \n",
              "total_day_minutes               -0.019486         -0.001303          -0.019415  \n",
              "total_day_calls                  0.013097          0.010893           0.013161  \n",
              "total_day_charge                -0.019490         -0.001307          -0.019419  \n",
              "total_eve_minutes                0.000137          0.008388           0.000159  \n",
              "total_eve_calls                 -0.007458          0.005574          -0.007507  \n",
              "total_eve_charge                 0.000132          0.008393           0.000155  \n",
              "total_night_minutes             -0.006721         -0.017214          -0.006655  \n",
              "total_night_calls                0.000391         -0.000156           0.000368  \n",
              "total_intl_minutes               1.000000          0.016791           0.999993  \n",
              "total_intl_calls                 0.016791          1.000000           0.016900  \n",
              "total_intl_charge                0.999993          0.016900           1.000000  "
            ]
          },
          "metadata": {
            "tags": []
          },
          "execution_count": 209
        }
      ]
    },
    {
      "cell_type": "code",
      "metadata": {
        "id": "wtjI61m6i0M8",
        "colab_type": "code",
        "outputId": "f438ed76-b330-44fd-99a0-f28b756b8115",
        "colab": {
          "base_uri": "https://localhost:8080/",
          "height": 34
        }
      },
      "source": [
        "from scipy.stats import pearsonr\n",
        "print (pearsonr(churn_df['total_day_minutes'], churn_df['number_vmail_messages'])[0])  # [0] is correlation, [1] is p-value"
      ],
      "execution_count": 0,
      "outputs": [
        {
          "output_type": "stream",
          "text": [
            "0.00538137596065452\n"
          ],
          "name": "stdout"
        }
      ]
    },
    {
      "cell_type": "markdown",
      "metadata": {
        "id": "aFa4d6t3i0NH",
        "colab_type": "text"
      },
      "source": [
        "# Part 2: Feature Preprocessing"
      ]
    },
    {
      "cell_type": "code",
      "metadata": {
        "scrolled": true,
        "id": "pxtf6XoJi0NI",
        "colab_type": "code",
        "outputId": "c2cd3c67-7d3b-4d5a-ea13-036fa2373d20",
        "colab": {
          "base_uri": "https://localhost:8080/",
          "height": 224
        }
      },
      "source": [
        "churn_df.head()"
      ],
      "execution_count": 0,
      "outputs": [
        {
          "output_type": "execute_result",
          "data": {
            "text/html": [
              "<div>\n",
              "<style scoped>\n",
              "    .dataframe tbody tr th:only-of-type {\n",
              "        vertical-align: middle;\n",
              "    }\n",
              "\n",
              "    .dataframe tbody tr th {\n",
              "        vertical-align: top;\n",
              "    }\n",
              "\n",
              "    .dataframe thead th {\n",
              "        text-align: right;\n",
              "    }\n",
              "</style>\n",
              "<table border=\"1\" class=\"dataframe\">\n",
              "  <thead>\n",
              "    <tr style=\"text-align: right;\">\n",
              "      <th></th>\n",
              "      <th>state</th>\n",
              "      <th>account_length</th>\n",
              "      <th>area_code</th>\n",
              "      <th>phone_number</th>\n",
              "      <th>intl_plan</th>\n",
              "      <th>voice_mail_plan</th>\n",
              "      <th>number_vmail_messages</th>\n",
              "      <th>total_day_minutes</th>\n",
              "      <th>total_day_calls</th>\n",
              "      <th>total_day_charge</th>\n",
              "      <th>total_eve_minutes</th>\n",
              "      <th>total_eve_calls</th>\n",
              "      <th>total_eve_charge</th>\n",
              "      <th>total_night_minutes</th>\n",
              "      <th>total_night_calls</th>\n",
              "      <th>total_night_charge</th>\n",
              "      <th>total_intl_minutes</th>\n",
              "      <th>total_intl_calls</th>\n",
              "      <th>total_intl_charge</th>\n",
              "      <th>number_customer_service_calls</th>\n",
              "      <th>churned</th>\n",
              "    </tr>\n",
              "  </thead>\n",
              "  <tbody>\n",
              "    <tr>\n",
              "      <th>0</th>\n",
              "      <td>KS</td>\n",
              "      <td>128</td>\n",
              "      <td>415</td>\n",
              "      <td>382-4657</td>\n",
              "      <td>no</td>\n",
              "      <td>yes</td>\n",
              "      <td>25</td>\n",
              "      <td>265.1</td>\n",
              "      <td>110</td>\n",
              "      <td>45.07</td>\n",
              "      <td>197.4</td>\n",
              "      <td>99</td>\n",
              "      <td>16.78</td>\n",
              "      <td>244.7</td>\n",
              "      <td>91</td>\n",
              "      <td>11.01</td>\n",
              "      <td>10.0</td>\n",
              "      <td>3</td>\n",
              "      <td>2.70</td>\n",
              "      <td>1</td>\n",
              "      <td>False.</td>\n",
              "    </tr>\n",
              "    <tr>\n",
              "      <th>1</th>\n",
              "      <td>OH</td>\n",
              "      <td>107</td>\n",
              "      <td>415</td>\n",
              "      <td>371-7191</td>\n",
              "      <td>no</td>\n",
              "      <td>yes</td>\n",
              "      <td>26</td>\n",
              "      <td>161.6</td>\n",
              "      <td>123</td>\n",
              "      <td>27.47</td>\n",
              "      <td>195.5</td>\n",
              "      <td>103</td>\n",
              "      <td>16.62</td>\n",
              "      <td>254.4</td>\n",
              "      <td>103</td>\n",
              "      <td>11.45</td>\n",
              "      <td>13.7</td>\n",
              "      <td>3</td>\n",
              "      <td>3.70</td>\n",
              "      <td>1</td>\n",
              "      <td>False.</td>\n",
              "    </tr>\n",
              "    <tr>\n",
              "      <th>2</th>\n",
              "      <td>NJ</td>\n",
              "      <td>137</td>\n",
              "      <td>415</td>\n",
              "      <td>358-1921</td>\n",
              "      <td>no</td>\n",
              "      <td>no</td>\n",
              "      <td>0</td>\n",
              "      <td>243.4</td>\n",
              "      <td>114</td>\n",
              "      <td>41.38</td>\n",
              "      <td>121.2</td>\n",
              "      <td>110</td>\n",
              "      <td>10.30</td>\n",
              "      <td>162.6</td>\n",
              "      <td>104</td>\n",
              "      <td>7.32</td>\n",
              "      <td>12.2</td>\n",
              "      <td>5</td>\n",
              "      <td>3.29</td>\n",
              "      <td>0</td>\n",
              "      <td>False.</td>\n",
              "    </tr>\n",
              "    <tr>\n",
              "      <th>3</th>\n",
              "      <td>OH</td>\n",
              "      <td>84</td>\n",
              "      <td>408</td>\n",
              "      <td>375-9999</td>\n",
              "      <td>yes</td>\n",
              "      <td>no</td>\n",
              "      <td>0</td>\n",
              "      <td>299.4</td>\n",
              "      <td>71</td>\n",
              "      <td>50.90</td>\n",
              "      <td>61.9</td>\n",
              "      <td>88</td>\n",
              "      <td>5.26</td>\n",
              "      <td>196.9</td>\n",
              "      <td>89</td>\n",
              "      <td>8.86</td>\n",
              "      <td>6.6</td>\n",
              "      <td>7</td>\n",
              "      <td>1.78</td>\n",
              "      <td>2</td>\n",
              "      <td>False.</td>\n",
              "    </tr>\n",
              "    <tr>\n",
              "      <th>4</th>\n",
              "      <td>OK</td>\n",
              "      <td>75</td>\n",
              "      <td>415</td>\n",
              "      <td>330-6626</td>\n",
              "      <td>yes</td>\n",
              "      <td>no</td>\n",
              "      <td>0</td>\n",
              "      <td>166.7</td>\n",
              "      <td>113</td>\n",
              "      <td>28.34</td>\n",
              "      <td>148.3</td>\n",
              "      <td>122</td>\n",
              "      <td>12.61</td>\n",
              "      <td>186.9</td>\n",
              "      <td>121</td>\n",
              "      <td>8.41</td>\n",
              "      <td>10.1</td>\n",
              "      <td>3</td>\n",
              "      <td>2.73</td>\n",
              "      <td>3</td>\n",
              "      <td>False.</td>\n",
              "    </tr>\n",
              "  </tbody>\n",
              "</table>\n",
              "</div>"
            ],
            "text/plain": [
              "  state  account_length  area_code phone_number intl_plan voice_mail_plan  \\\n",
              "0    KS             128        415     382-4657        no             yes   \n",
              "1    OH             107        415     371-7191        no             yes   \n",
              "2    NJ             137        415     358-1921        no              no   \n",
              "3    OH              84        408     375-9999       yes              no   \n",
              "4    OK              75        415     330-6626       yes              no   \n",
              "\n",
              "   number_vmail_messages  total_day_minutes  total_day_calls  \\\n",
              "0                     25              265.1              110   \n",
              "1                     26              161.6              123   \n",
              "2                      0              243.4              114   \n",
              "3                      0              299.4               71   \n",
              "4                      0              166.7              113   \n",
              "\n",
              "   total_day_charge  total_eve_minutes  total_eve_calls  total_eve_charge  \\\n",
              "0             45.07              197.4               99             16.78   \n",
              "1             27.47              195.5              103             16.62   \n",
              "2             41.38              121.2              110             10.30   \n",
              "3             50.90               61.9               88              5.26   \n",
              "4             28.34              148.3              122             12.61   \n",
              "\n",
              "   total_night_minutes  total_night_calls  total_night_charge  \\\n",
              "0                244.7                 91               11.01   \n",
              "1                254.4                103               11.45   \n",
              "2                162.6                104                7.32   \n",
              "3                196.9                 89                8.86   \n",
              "4                186.9                121                8.41   \n",
              "\n",
              "   total_intl_minutes  total_intl_calls  total_intl_charge  \\\n",
              "0                10.0                 3               2.70   \n",
              "1                13.7                 3               3.70   \n",
              "2                12.2                 5               3.29   \n",
              "3                 6.6                 7               1.78   \n",
              "4                10.1                 3               2.73   \n",
              "\n",
              "   number_customer_service_calls churned  \n",
              "0                              1  False.  \n",
              "1                              1  False.  \n",
              "2                              0  False.  \n",
              "3                              2  False.  \n",
              "4                              3  False.  "
            ]
          },
          "metadata": {
            "tags": []
          },
          "execution_count": 211
        }
      ]
    },
    {
      "cell_type": "code",
      "metadata": {
        "id": "4ec5r_Qdi0NL",
        "colab_type": "code",
        "colab": {}
      },
      "source": [
        "# Get ground truth data\n",
        "y = np.where(churn_df['churned'] == 'True.', 1, 0) # If it is satisfied, return 1. Otherwise, return 0.\n",
        "\n",
        "# Drop some useless columns\n",
        "to_drop = ['state', 'area_code','phone_number','churned']\n",
        "churn_feat_space = churn_df.drop(to_drop, axis=1)\n",
        "\n",
        "# yes and no have to be converted to boolean values\n",
        "yes_no_cols = [\"intl_plan\",\"voice_mail_plan\"]\n",
        "churn_feat_space[yes_no_cols] = churn_feat_space[yes_no_cols] == 'yes'\n",
        "\n",
        "X = churn_feat_space"
      ],
      "execution_count": 0,
      "outputs": []
    },
    {
      "cell_type": "code",
      "metadata": {
        "id": "7cWYAEiNJj_T",
        "colab_type": "code",
        "outputId": "98791a26-0afb-4464-86f2-f2f9ffac3057",
        "colab": {
          "base_uri": "https://localhost:8080/",
          "height": 224
        }
      },
      "source": [
        "X.head()"
      ],
      "execution_count": 0,
      "outputs": [
        {
          "output_type": "execute_result",
          "data": {
            "text/html": [
              "<div>\n",
              "<style scoped>\n",
              "    .dataframe tbody tr th:only-of-type {\n",
              "        vertical-align: middle;\n",
              "    }\n",
              "\n",
              "    .dataframe tbody tr th {\n",
              "        vertical-align: top;\n",
              "    }\n",
              "\n",
              "    .dataframe thead th {\n",
              "        text-align: right;\n",
              "    }\n",
              "</style>\n",
              "<table border=\"1\" class=\"dataframe\">\n",
              "  <thead>\n",
              "    <tr style=\"text-align: right;\">\n",
              "      <th></th>\n",
              "      <th>account_length</th>\n",
              "      <th>intl_plan</th>\n",
              "      <th>voice_mail_plan</th>\n",
              "      <th>number_vmail_messages</th>\n",
              "      <th>total_day_minutes</th>\n",
              "      <th>total_day_calls</th>\n",
              "      <th>total_day_charge</th>\n",
              "      <th>total_eve_minutes</th>\n",
              "      <th>total_eve_calls</th>\n",
              "      <th>total_eve_charge</th>\n",
              "      <th>total_night_minutes</th>\n",
              "      <th>total_night_calls</th>\n",
              "      <th>total_night_charge</th>\n",
              "      <th>total_intl_minutes</th>\n",
              "      <th>total_intl_calls</th>\n",
              "      <th>total_intl_charge</th>\n",
              "      <th>number_customer_service_calls</th>\n",
              "    </tr>\n",
              "  </thead>\n",
              "  <tbody>\n",
              "    <tr>\n",
              "      <th>0</th>\n",
              "      <td>128</td>\n",
              "      <td>False</td>\n",
              "      <td>True</td>\n",
              "      <td>25</td>\n",
              "      <td>265.1</td>\n",
              "      <td>110</td>\n",
              "      <td>45.07</td>\n",
              "      <td>197.4</td>\n",
              "      <td>99</td>\n",
              "      <td>16.78</td>\n",
              "      <td>244.7</td>\n",
              "      <td>91</td>\n",
              "      <td>11.01</td>\n",
              "      <td>10.0</td>\n",
              "      <td>3</td>\n",
              "      <td>2.70</td>\n",
              "      <td>1</td>\n",
              "    </tr>\n",
              "    <tr>\n",
              "      <th>1</th>\n",
              "      <td>107</td>\n",
              "      <td>False</td>\n",
              "      <td>True</td>\n",
              "      <td>26</td>\n",
              "      <td>161.6</td>\n",
              "      <td>123</td>\n",
              "      <td>27.47</td>\n",
              "      <td>195.5</td>\n",
              "      <td>103</td>\n",
              "      <td>16.62</td>\n",
              "      <td>254.4</td>\n",
              "      <td>103</td>\n",
              "      <td>11.45</td>\n",
              "      <td>13.7</td>\n",
              "      <td>3</td>\n",
              "      <td>3.70</td>\n",
              "      <td>1</td>\n",
              "    </tr>\n",
              "    <tr>\n",
              "      <th>2</th>\n",
              "      <td>137</td>\n",
              "      <td>False</td>\n",
              "      <td>False</td>\n",
              "      <td>0</td>\n",
              "      <td>243.4</td>\n",
              "      <td>114</td>\n",
              "      <td>41.38</td>\n",
              "      <td>121.2</td>\n",
              "      <td>110</td>\n",
              "      <td>10.30</td>\n",
              "      <td>162.6</td>\n",
              "      <td>104</td>\n",
              "      <td>7.32</td>\n",
              "      <td>12.2</td>\n",
              "      <td>5</td>\n",
              "      <td>3.29</td>\n",
              "      <td>0</td>\n",
              "    </tr>\n",
              "    <tr>\n",
              "      <th>3</th>\n",
              "      <td>84</td>\n",
              "      <td>True</td>\n",
              "      <td>False</td>\n",
              "      <td>0</td>\n",
              "      <td>299.4</td>\n",
              "      <td>71</td>\n",
              "      <td>50.90</td>\n",
              "      <td>61.9</td>\n",
              "      <td>88</td>\n",
              "      <td>5.26</td>\n",
              "      <td>196.9</td>\n",
              "      <td>89</td>\n",
              "      <td>8.86</td>\n",
              "      <td>6.6</td>\n",
              "      <td>7</td>\n",
              "      <td>1.78</td>\n",
              "      <td>2</td>\n",
              "    </tr>\n",
              "    <tr>\n",
              "      <th>4</th>\n",
              "      <td>75</td>\n",
              "      <td>True</td>\n",
              "      <td>False</td>\n",
              "      <td>0</td>\n",
              "      <td>166.7</td>\n",
              "      <td>113</td>\n",
              "      <td>28.34</td>\n",
              "      <td>148.3</td>\n",
              "      <td>122</td>\n",
              "      <td>12.61</td>\n",
              "      <td>186.9</td>\n",
              "      <td>121</td>\n",
              "      <td>8.41</td>\n",
              "      <td>10.1</td>\n",
              "      <td>3</td>\n",
              "      <td>2.73</td>\n",
              "      <td>3</td>\n",
              "    </tr>\n",
              "  </tbody>\n",
              "</table>\n",
              "</div>"
            ],
            "text/plain": [
              "   account_length  intl_plan  voice_mail_plan  number_vmail_messages  \\\n",
              "0             128      False             True                     25   \n",
              "1             107      False             True                     26   \n",
              "2             137      False            False                      0   \n",
              "3              84       True            False                      0   \n",
              "4              75       True            False                      0   \n",
              "\n",
              "   total_day_minutes  total_day_calls  total_day_charge  total_eve_minutes  \\\n",
              "0              265.1              110             45.07              197.4   \n",
              "1              161.6              123             27.47              195.5   \n",
              "2              243.4              114             41.38              121.2   \n",
              "3              299.4               71             50.90               61.9   \n",
              "4              166.7              113             28.34              148.3   \n",
              "\n",
              "   total_eve_calls  total_eve_charge  total_night_minutes  total_night_calls  \\\n",
              "0               99             16.78                244.7                 91   \n",
              "1              103             16.62                254.4                103   \n",
              "2              110             10.30                162.6                104   \n",
              "3               88              5.26                196.9                 89   \n",
              "4              122             12.61                186.9                121   \n",
              "\n",
              "   total_night_charge  total_intl_minutes  total_intl_calls  \\\n",
              "0               11.01                10.0                 3   \n",
              "1               11.45                13.7                 3   \n",
              "2                7.32                12.2                 5   \n",
              "3                8.86                 6.6                 7   \n",
              "4                8.41                10.1                 3   \n",
              "\n",
              "   total_intl_charge  number_customer_service_calls  \n",
              "0               2.70                              1  \n",
              "1               3.70                              1  \n",
              "2               3.29                              0  \n",
              "3               1.78                              2  \n",
              "4               2.73                              3  "
            ]
          },
          "metadata": {
            "tags": []
          },
          "execution_count": 213
        }
      ]
    },
    {
      "cell_type": "code",
      "metadata": {
        "id": "rzCo_GC97rGd",
        "colab_type": "code",
        "outputId": "9330521f-0d9e-4e87-c6bb-1061c862def1",
        "colab": {
          "base_uri": "https://localhost:8080/",
          "height": 34
        }
      },
      "source": [
        "# check the propotion of y = 1\n",
        "print(y.sum() / y.shape * 100) # < 10% -> imbalance\n",
        "#print(y.shape)"
      ],
      "execution_count": 0,
      "outputs": [
        {
          "output_type": "stream",
          "text": [
            "[14.14]\n"
          ],
          "name": "stdout"
        }
      ]
    },
    {
      "cell_type": "code",
      "metadata": {
        "id": "JuPhtUkJi0NW",
        "colab_type": "code",
        "outputId": "f6252fe9-4393-4075-a40b-b9ac3a172386",
        "colab": {
          "base_uri": "https://localhost:8080/",
          "height": 391
        }
      },
      "source": [
        "# Scale the data\n",
        "# If we do not scale the data, it will be very slow.\n",
        "from sklearn.preprocessing import StandardScaler # average = 0, standard derivation = 1\n",
        "scaler = StandardScaler()\n",
        "X = scaler.fit_transform(X) # It is a numpy array\n",
        "\n",
        "print (\"Feature space holds %d observations and %d features\" % X.shape)\n",
        "print (\"Unique target labels:\", np.unique(y))\n",
        "print (pd.DataFrame(X).head())"
      ],
      "execution_count": 0,
      "outputs": [
        {
          "output_type": "stream",
          "text": [
            "Feature space holds 5000 observations and 17 features\n",
            "Unique target labels: [0 1]\n",
            "          0         1         2         3         4         5         6  \\\n",
            "0  0.698941 -0.323240  1.667120  1.273145  1.573802  0.502824  1.574074   \n",
            "1  0.169849 -0.323240  1.667120  1.346973 -0.346802  1.158422 -0.347082   \n",
            "2  0.925695 -0.323240 -0.599837 -0.572549  1.171125  0.704546  1.171286   \n",
            "3 -0.409634  3.093675 -0.599837 -0.572549  2.210292 -1.463971  2.210457   \n",
            "4 -0.636388  3.093675 -0.599837 -0.572549 -0.252163  0.654116 -0.252115   \n",
            "\n",
            "          7         8         9        10        11        12        13  \\\n",
            "0 -0.064032 -0.060077 -0.063849  0.876999 -0.446928  0.876286 -0.094809   \n",
            "1 -0.101621  0.141693 -0.101089  1.068992  0.154374  1.069818  1.245227   \n",
            "2 -1.571562  0.494791 -1.572084 -0.748012  0.204483 -0.746737  0.701969   \n",
            "3 -2.744745 -0.614946 -2.745155 -0.069110 -0.547145 -0.069377 -1.326194   \n",
            "4 -1.035419  1.100103 -1.034426 -0.267041  1.056327 -0.267307 -0.058592   \n",
            "\n",
            "         14        15        16  \n",
            "0 -0.584236 -0.095509 -0.436676  \n",
            "1 -0.584236  1.245982 -0.436676  \n",
            "2  0.229917  0.695971 -1.202236  \n",
            "3  1.044069 -1.329681  0.328885  \n",
            "4 -0.584236 -0.055264  1.094445  \n"
          ],
          "name": "stdout"
        }
      ]
    },
    {
      "cell_type": "code",
      "metadata": {
        "id": "DnvxA6nO9a_n",
        "colab_type": "code",
        "outputId": "3bcd6859-d0c1-4bd1-e43f-e956fdbf5aa5",
        "colab": {
          "base_uri": "https://localhost:8080/",
          "height": 238
        }
      },
      "source": [
        "X"
      ],
      "execution_count": 0,
      "outputs": [
        {
          "output_type": "execute_result",
          "data": {
            "text/plain": [
              "array([[ 0.69894149, -0.32324017,  1.66712012, ..., -0.58423577,\n",
              "        -0.0955088 , -0.43667564],\n",
              "       [ 0.16984882, -0.32324017,  1.66712012, ..., -0.58423577,\n",
              "         1.24598231, -0.43667564],\n",
              "       [ 0.92569549, -0.32324017, -0.5998368 , ...,  0.22991664,\n",
              "         0.69597096, -1.20223603],\n",
              "       ...,\n",
              "       [-0.98911606, -0.32324017, -0.5998368 , ..., -0.17715957,\n",
              "         1.20573758, -0.43667564],\n",
              "       [ 0.2202386 , -0.32324017, -0.5998368 , ...,  0.63699285,\n",
              "        -0.63210525, -1.20223603],\n",
              "       [-0.35924384, -0.32324017,  1.66712012, ...,  4.70775494,\n",
              "        -0.35039211, -1.20223603]])"
            ]
          },
          "metadata": {
            "tags": []
          },
          "execution_count": 216
        }
      ]
    },
    {
      "cell_type": "markdown",
      "metadata": {
        "id": "zCWX2wl6_Jeu",
        "colab_type": "text"
      },
      "source": [
        "Visualize Data with PCA"
      ]
    },
    {
      "cell_type": "code",
      "metadata": {
        "id": "QZRxjflX_ISd",
        "colab_type": "code",
        "outputId": "748a43e0-942d-4f6e-e9ab-0e7a6c94076f",
        "colab": {
          "base_uri": "https://localhost:8080/",
          "height": 265
        }
      },
      "source": [
        "from sklearn.decomposition import PCA\n",
        "pca = PCA(n_components = 2)\n",
        "pca.fit(X)\n",
        "X_pca = pca.transform(X)\n",
        "x_pca = X_pca[:, 0]\n",
        "y_pca = X_pca[:, 1]\n",
        "pca.explained_variance_ratio_\n",
        "ax = sns.scatterplot(x_pca, y_pca, hue = y) # y is the column of Churned in df"
      ],
      "execution_count": 0,
      "outputs": [
        {
          "output_type": "display_data",
          "data": {
            "image/png": "iVBORw0KGgoAAAANSUhEUgAAAXIAAAD4CAYAAADxeG0DAAAABHNCSVQICAgIfAhkiAAAAAlwSFlz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\nrkJggg==\n",
            "text/plain": [
              "<Figure size 432x288 with 1 Axes>"
            ]
          },
          "metadata": {
            "tags": []
          }
        }
      ]
    },
    {
      "cell_type": "markdown",
      "metadata": {
        "id": "oNsZwmWxi0NP",
        "colab_type": "text"
      },
      "source": [
        "####Test: add catogorical features, e.g. state, into feature matrix."
      ]
    },
    {
      "cell_type": "code",
      "metadata": {
        "id": "uNquj7IgAg2w",
        "colab_type": "code",
        "colab": {}
      },
      "source": [
        "! pip install category_encoders"
      ],
      "execution_count": 0,
      "outputs": []
    },
    {
      "cell_type": "code",
      "metadata": {
        "id": "MrsjiqTwi0NQ",
        "colab_type": "code",
        "colab": {}
      },
      "source": [
        "# LabelEncoding - ordinal\n",
        "# OnehotEncoding\n",
        "import category_encoders as ce\n",
        "X['state'] = churn_df['state']\n",
        "encoder = ce.OneHotEncoder(cols=['state']).fit(X)\n",
        "new_X = encoder.transform(X)"
      ],
      "execution_count": 0,
      "outputs": []
    },
    {
      "cell_type": "code",
      "metadata": {
        "id": "zIplB6-vA1eW",
        "colab_type": "code",
        "outputId": "050340cb-27ba-4e82-db5d-b15af7638cff",
        "colab": {
          "base_uri": "https://localhost:8080/",
          "height": 224
        }
      },
      "source": [
        "new_X.head()"
      ],
      "execution_count": 0,
      "outputs": [
        {
          "output_type": "execute_result",
          "data": {
            "text/html": [
              "<div>\n",
              "<style scoped>\n",
              "    .dataframe tbody tr th:only-of-type {\n",
              "        vertical-align: middle;\n",
              "    }\n",
              "\n",
              "    .dataframe tbody tr th {\n",
              "        vertical-align: top;\n",
              "    }\n",
              "\n",
              "    .dataframe thead th {\n",
              "        text-align: right;\n",
              "    }\n",
              "</style>\n",
              "<table border=\"1\" class=\"dataframe\">\n",
              "  <thead>\n",
              "    <tr style=\"text-align: right;\">\n",
              "      <th></th>\n",
              "      <th>account_length</th>\n",
              "      <th>intl_plan</th>\n",
              "      <th>voice_mail_plan</th>\n",
              "      <th>number_vmail_messages</th>\n",
              "      <th>total_day_minutes</th>\n",
              "      <th>total_day_calls</th>\n",
              "      <th>total_day_charge</th>\n",
              "      <th>total_eve_minutes</th>\n",
              "      <th>total_eve_calls</th>\n",
              "      <th>total_eve_charge</th>\n",
              "      <th>total_night_minutes</th>\n",
              "      <th>total_night_calls</th>\n",
              "      <th>total_night_charge</th>\n",
              "      <th>total_intl_minutes</th>\n",
              "      <th>total_intl_calls</th>\n",
              "      <th>total_intl_charge</th>\n",
              "      <th>number_customer_service_calls</th>\n",
              "      <th>state_1</th>\n",
              "      <th>state_2</th>\n",
              "      <th>state_3</th>\n",
              "      <th>state_4</th>\n",
              "      <th>state_5</th>\n",
              "      <th>state_6</th>\n",
              "      <th>state_7</th>\n",
              "      <th>state_8</th>\n",
              "      <th>state_9</th>\n",
              "      <th>state_10</th>\n",
              "      <th>state_11</th>\n",
              "      <th>state_12</th>\n",
              "      <th>state_13</th>\n",
              "      <th>state_14</th>\n",
              "      <th>state_15</th>\n",
              "      <th>state_16</th>\n",
              "      <th>state_17</th>\n",
              "      <th>state_18</th>\n",
              "      <th>state_19</th>\n",
              "      <th>state_20</th>\n",
              "      <th>state_21</th>\n",
              "      <th>state_22</th>\n",
              "      <th>state_23</th>\n",
              "      <th>state_24</th>\n",
              "      <th>state_25</th>\n",
              "      <th>state_26</th>\n",
              "      <th>state_27</th>\n",
              "      <th>state_28</th>\n",
              "      <th>state_29</th>\n",
              "      <th>state_30</th>\n",
              "      <th>state_31</th>\n",
              "      <th>state_32</th>\n",
              "      <th>state_33</th>\n",
              "      <th>state_34</th>\n",
              "      <th>state_35</th>\n",
              "      <th>state_36</th>\n",
              "      <th>state_37</th>\n",
              "      <th>state_38</th>\n",
              "      <th>state_39</th>\n",
              "      <th>state_40</th>\n",
              "      <th>state_41</th>\n",
              "      <th>state_42</th>\n",
              "      <th>state_43</th>\n",
              "      <th>state_44</th>\n",
              "      <th>state_45</th>\n",
              "      <th>state_46</th>\n",
              "      <th>state_47</th>\n",
              "      <th>state_48</th>\n",
              "      <th>state_49</th>\n",
              "      <th>state_50</th>\n",
              "      <th>state_51</th>\n",
              "    </tr>\n",
              "  </thead>\n",
              "  <tbody>\n",
              "    <tr>\n",
              "      <th>0</th>\n",
              "      <td>128</td>\n",
              "      <td>False</td>\n",
              "      <td>True</td>\n",
              "      <td>25</td>\n",
              "      <td>265.1</td>\n",
              "      <td>110</td>\n",
              "      <td>45.07</td>\n",
              "      <td>197.4</td>\n",
              "      <td>99</td>\n",
              "      <td>16.78</td>\n",
              "      <td>244.7</td>\n",
              "      <td>91</td>\n",
              "      <td>11.01</td>\n",
              "      <td>10.0</td>\n",
              "      <td>3</td>\n",
              "      <td>2.70</td>\n",
              "      <td>1</td>\n",
              "      <td>1</td>\n",
              "      <td>0</td>\n",
              "      <td>0</td>\n",
              "      <td>0</td>\n",
              "      <td>0</td>\n",
              "      <td>0</td>\n",
              "      <td>0</td>\n",
              "      <td>0</td>\n",
              "      <td>0</td>\n",
              "      <td>0</td>\n",
              "      <td>0</td>\n",
              "      <td>0</td>\n",
              "      <td>0</td>\n",
              "      <td>0</td>\n",
              "      <td>0</td>\n",
              "      <td>0</td>\n",
              "      <td>0</td>\n",
              "      <td>0</td>\n",
              "      <td>0</td>\n",
              "      <td>0</td>\n",
              "      <td>0</td>\n",
              "      <td>0</td>\n",
              "      <td>0</td>\n",
              "      <td>0</td>\n",
              "      <td>0</td>\n",
              "      <td>0</td>\n",
              "      <td>0</td>\n",
              "      <td>0</td>\n",
              "      <td>0</td>\n",
              "      <td>0</td>\n",
              "      <td>0</td>\n",
              "      <td>0</td>\n",
              "      <td>0</td>\n",
              "      <td>0</td>\n",
              "      <td>0</td>\n",
              "      <td>0</td>\n",
              "      <td>0</td>\n",
              "      <td>0</td>\n",
              "      <td>0</td>\n",
              "      <td>0</td>\n",
              "      <td>0</td>\n",
              "      <td>0</td>\n",
              "      <td>0</td>\n",
              "      <td>0</td>\n",
              "      <td>0</td>\n",
              "      <td>0</td>\n",
              "      <td>0</td>\n",
              "      <td>0</td>\n",
              "      <td>0</td>\n",
              "      <td>0</td>\n",
              "      <td>0</td>\n",
              "    </tr>\n",
              "    <tr>\n",
              "      <th>1</th>\n",
              "      <td>107</td>\n",
              "      <td>False</td>\n",
              "      <td>True</td>\n",
              "      <td>26</td>\n",
              "      <td>161.6</td>\n",
              "      <td>123</td>\n",
              "      <td>27.47</td>\n",
              "      <td>195.5</td>\n",
              "      <td>103</td>\n",
              "      <td>16.62</td>\n",
              "      <td>254.4</td>\n",
              "      <td>103</td>\n",
              "      <td>11.45</td>\n",
              "      <td>13.7</td>\n",
              "      <td>3</td>\n",
              "      <td>3.70</td>\n",
              "      <td>1</td>\n",
              "      <td>0</td>\n",
              "      <td>1</td>\n",
              "      <td>0</td>\n",
              "      <td>0</td>\n",
              "      <td>0</td>\n",
              "      <td>0</td>\n",
              "      <td>0</td>\n",
              "      <td>0</td>\n",
              "      <td>0</td>\n",
              "      <td>0</td>\n",
              "      <td>0</td>\n",
              "      <td>0</td>\n",
              "      <td>0</td>\n",
              "      <td>0</td>\n",
              "      <td>0</td>\n",
              "      <td>0</td>\n",
              "      <td>0</td>\n",
              "      <td>0</td>\n",
              "      <td>0</td>\n",
              "      <td>0</td>\n",
              "      <td>0</td>\n",
              "      <td>0</td>\n",
              "      <td>0</td>\n",
              "      <td>0</td>\n",
              "      <td>0</td>\n",
              "      <td>0</td>\n",
              "      <td>0</td>\n",
              "      <td>0</td>\n",
              "      <td>0</td>\n",
              "      <td>0</td>\n",
              "      <td>0</td>\n",
              "      <td>0</td>\n",
              "      <td>0</td>\n",
              "      <td>0</td>\n",
              "      <td>0</td>\n",
              "      <td>0</td>\n",
              "      <td>0</td>\n",
              "      <td>0</td>\n",
              "      <td>0</td>\n",
              "      <td>0</td>\n",
              "      <td>0</td>\n",
              "      <td>0</td>\n",
              "      <td>0</td>\n",
              "      <td>0</td>\n",
              "      <td>0</td>\n",
              "      <td>0</td>\n",
              "      <td>0</td>\n",
              "      <td>0</td>\n",
              "      <td>0</td>\n",
              "      <td>0</td>\n",
              "      <td>0</td>\n",
              "    </tr>\n",
              "    <tr>\n",
              "      <th>2</th>\n",
              "      <td>137</td>\n",
              "      <td>False</td>\n",
              "      <td>False</td>\n",
              "      <td>0</td>\n",
              "      <td>243.4</td>\n",
              "      <td>114</td>\n",
              "      <td>41.38</td>\n",
              "      <td>121.2</td>\n",
              "      <td>110</td>\n",
              "      <td>10.30</td>\n",
              "      <td>162.6</td>\n",
              "      <td>104</td>\n",
              "      <td>7.32</td>\n",
              "      <td>12.2</td>\n",
              "      <td>5</td>\n",
              "      <td>3.29</td>\n",
              "      <td>0</td>\n",
              "      <td>0</td>\n",
              "      <td>0</td>\n",
              "      <td>1</td>\n",
              "      <td>0</td>\n",
              "      <td>0</td>\n",
              "      <td>0</td>\n",
              "      <td>0</td>\n",
              "      <td>0</td>\n",
              "      <td>0</td>\n",
              "      <td>0</td>\n",
              "      <td>0</td>\n",
              "      <td>0</td>\n",
              "      <td>0</td>\n",
              "      <td>0</td>\n",
              "      <td>0</td>\n",
              "      <td>0</td>\n",
              "      <td>0</td>\n",
              "      <td>0</td>\n",
              "      <td>0</td>\n",
              "      <td>0</td>\n",
              "      <td>0</td>\n",
              "      <td>0</td>\n",
              "      <td>0</td>\n",
              "      <td>0</td>\n",
              "      <td>0</td>\n",
              "      <td>0</td>\n",
              "      <td>0</td>\n",
              "      <td>0</td>\n",
              "      <td>0</td>\n",
              "      <td>0</td>\n",
              "      <td>0</td>\n",
              "      <td>0</td>\n",
              "      <td>0</td>\n",
              "      <td>0</td>\n",
              "      <td>0</td>\n",
              "      <td>0</td>\n",
              "      <td>0</td>\n",
              "      <td>0</td>\n",
              "      <td>0</td>\n",
              "      <td>0</td>\n",
              "      <td>0</td>\n",
              "      <td>0</td>\n",
              "      <td>0</td>\n",
              "      <td>0</td>\n",
              "      <td>0</td>\n",
              "      <td>0</td>\n",
              "      <td>0</td>\n",
              "      <td>0</td>\n",
              "      <td>0</td>\n",
              "      <td>0</td>\n",
              "      <td>0</td>\n",
              "    </tr>\n",
              "    <tr>\n",
              "      <th>3</th>\n",
              "      <td>84</td>\n",
              "      <td>True</td>\n",
              "      <td>False</td>\n",
              "      <td>0</td>\n",
              "      <td>299.4</td>\n",
              "      <td>71</td>\n",
              "      <td>50.90</td>\n",
              "      <td>61.9</td>\n",
              "      <td>88</td>\n",
              "      <td>5.26</td>\n",
              "      <td>196.9</td>\n",
              "      <td>89</td>\n",
              "      <td>8.86</td>\n",
              "      <td>6.6</td>\n",
              "      <td>7</td>\n",
              "      <td>1.78</td>\n",
              "      <td>2</td>\n",
              "      <td>0</td>\n",
              "      <td>1</td>\n",
              "      <td>0</td>\n",
              "      <td>0</td>\n",
              "      <td>0</td>\n",
              "      <td>0</td>\n",
              "      <td>0</td>\n",
              "      <td>0</td>\n",
              "      <td>0</td>\n",
              "      <td>0</td>\n",
              "      <td>0</td>\n",
              "      <td>0</td>\n",
              "      <td>0</td>\n",
              "      <td>0</td>\n",
              "      <td>0</td>\n",
              "      <td>0</td>\n",
              "      <td>0</td>\n",
              "      <td>0</td>\n",
              "      <td>0</td>\n",
              "      <td>0</td>\n",
              "      <td>0</td>\n",
              "      <td>0</td>\n",
              "      <td>0</td>\n",
              "      <td>0</td>\n",
              "      <td>0</td>\n",
              "      <td>0</td>\n",
              "      <td>0</td>\n",
              "      <td>0</td>\n",
              "      <td>0</td>\n",
              "      <td>0</td>\n",
              "      <td>0</td>\n",
              "      <td>0</td>\n",
              "      <td>0</td>\n",
              "      <td>0</td>\n",
              "      <td>0</td>\n",
              "      <td>0</td>\n",
              "      <td>0</td>\n",
              "      <td>0</td>\n",
              "      <td>0</td>\n",
              "      <td>0</td>\n",
              "      <td>0</td>\n",
              "      <td>0</td>\n",
              "      <td>0</td>\n",
              "      <td>0</td>\n",
              "      <td>0</td>\n",
              "      <td>0</td>\n",
              "      <td>0</td>\n",
              "      <td>0</td>\n",
              "      <td>0</td>\n",
              "      <td>0</td>\n",
              "      <td>0</td>\n",
              "    </tr>\n",
              "    <tr>\n",
              "      <th>4</th>\n",
              "      <td>75</td>\n",
              "      <td>True</td>\n",
              "      <td>False</td>\n",
              "      <td>0</td>\n",
              "      <td>166.7</td>\n",
              "      <td>113</td>\n",
              "      <td>28.34</td>\n",
              "      <td>148.3</td>\n",
              "      <td>122</td>\n",
              "      <td>12.61</td>\n",
              "      <td>186.9</td>\n",
              "      <td>121</td>\n",
              "      <td>8.41</td>\n",
              "      <td>10.1</td>\n",
              "      <td>3</td>\n",
              "      <td>2.73</td>\n",
              "      <td>3</td>\n",
              "      <td>0</td>\n",
              "      <td>0</td>\n",
              "      <td>0</td>\n",
              "      <td>1</td>\n",
              "      <td>0</td>\n",
              "      <td>0</td>\n",
              "      <td>0</td>\n",
              "      <td>0</td>\n",
              "      <td>0</td>\n",
              "      <td>0</td>\n",
              "      <td>0</td>\n",
              "      <td>0</td>\n",
              "      <td>0</td>\n",
              "      <td>0</td>\n",
              "      <td>0</td>\n",
              "      <td>0</td>\n",
              "      <td>0</td>\n",
              "      <td>0</td>\n",
              "      <td>0</td>\n",
              "      <td>0</td>\n",
              "      <td>0</td>\n",
              "      <td>0</td>\n",
              "      <td>0</td>\n",
              "      <td>0</td>\n",
              "      <td>0</td>\n",
              "      <td>0</td>\n",
              "      <td>0</td>\n",
              "      <td>0</td>\n",
              "      <td>0</td>\n",
              "      <td>0</td>\n",
              "      <td>0</td>\n",
              "      <td>0</td>\n",
              "      <td>0</td>\n",
              "      <td>0</td>\n",
              "      <td>0</td>\n",
              "      <td>0</td>\n",
              "      <td>0</td>\n",
              "      <td>0</td>\n",
              "      <td>0</td>\n",
              "      <td>0</td>\n",
              "      <td>0</td>\n",
              "      <td>0</td>\n",
              "      <td>0</td>\n",
              "      <td>0</td>\n",
              "      <td>0</td>\n",
              "      <td>0</td>\n",
              "      <td>0</td>\n",
              "      <td>0</td>\n",
              "      <td>0</td>\n",
              "      <td>0</td>\n",
              "      <td>0</td>\n",
              "    </tr>\n",
              "  </tbody>\n",
              "</table>\n",
              "</div>"
            ],
            "text/plain": [
              "   account_length  intl_plan  voice_mail_plan  number_vmail_messages  \\\n",
              "0             128      False             True                     25   \n",
              "1             107      False             True                     26   \n",
              "2             137      False            False                      0   \n",
              "3              84       True            False                      0   \n",
              "4              75       True            False                      0   \n",
              "\n",
              "   total_day_minutes  total_day_calls  total_day_charge  total_eve_minutes  \\\n",
              "0              265.1              110             45.07              197.4   \n",
              "1              161.6              123             27.47              195.5   \n",
              "2              243.4              114             41.38              121.2   \n",
              "3              299.4               71             50.90               61.9   \n",
              "4              166.7              113             28.34              148.3   \n",
              "\n",
              "   total_eve_calls  total_eve_charge  total_night_minutes  total_night_calls  \\\n",
              "0               99             16.78                244.7                 91   \n",
              "1              103             16.62                254.4                103   \n",
              "2              110             10.30                162.6                104   \n",
              "3               88              5.26                196.9                 89   \n",
              "4              122             12.61                186.9                121   \n",
              "\n",
              "   total_night_charge  total_intl_minutes  total_intl_calls  \\\n",
              "0               11.01                10.0                 3   \n",
              "1               11.45                13.7                 3   \n",
              "2                7.32                12.2                 5   \n",
              "3                8.86                 6.6                 7   \n",
              "4                8.41                10.1                 3   \n",
              "\n",
              "   total_intl_charge  number_customer_service_calls  state_1  state_2  \\\n",
              "0               2.70                              1        1        0   \n",
              "1               3.70                              1        0        1   \n",
              "2               3.29                              0        0        0   \n",
              "3               1.78                              2        0        1   \n",
              "4               2.73                              3        0        0   \n",
              "\n",
              "   state_3  state_4  state_5  state_6  state_7  state_8  state_9  state_10  \\\n",
              "0        0        0        0        0        0        0        0         0   \n",
              "1        0        0        0        0        0        0        0         0   \n",
              "2        1        0        0        0        0        0        0         0   \n",
              "3        0        0        0        0        0        0        0         0   \n",
              "4        0        1        0        0        0        0        0         0   \n",
              "\n",
              "   state_11  state_12  state_13  state_14  state_15  state_16  state_17  \\\n",
              "0         0         0         0         0         0         0         0   \n",
              "1         0         0         0         0         0         0         0   \n",
              "2         0         0         0         0         0         0         0   \n",
              "3         0         0         0         0         0         0         0   \n",
              "4         0         0         0         0         0         0         0   \n",
              "\n",
              "   state_18  state_19  state_20  state_21  state_22  state_23  state_24  \\\n",
              "0         0         0         0         0         0         0         0   \n",
              "1         0         0         0         0         0         0         0   \n",
              "2         0         0         0         0         0         0         0   \n",
              "3         0         0         0         0         0         0         0   \n",
              "4         0         0         0         0         0         0         0   \n",
              "\n",
              "   state_25  state_26  state_27  state_28  state_29  state_30  state_31  \\\n",
              "0         0         0         0         0         0         0         0   \n",
              "1         0         0         0         0         0         0         0   \n",
              "2         0         0         0         0         0         0         0   \n",
              "3         0         0         0         0         0         0         0   \n",
              "4         0         0         0         0         0         0         0   \n",
              "\n",
              "   state_32  state_33  state_34  state_35  state_36  state_37  state_38  \\\n",
              "0         0         0         0         0         0         0         0   \n",
              "1         0         0         0         0         0         0         0   \n",
              "2         0         0         0         0         0         0         0   \n",
              "3         0         0         0         0         0         0         0   \n",
              "4         0         0         0         0         0         0         0   \n",
              "\n",
              "   state_39  state_40  state_41  state_42  state_43  state_44  state_45  \\\n",
              "0         0         0         0         0         0         0         0   \n",
              "1         0         0         0         0         0         0         0   \n",
              "2         0         0         0         0         0         0         0   \n",
              "3         0         0         0         0         0         0         0   \n",
              "4         0         0         0         0         0         0         0   \n",
              "\n",
              "   state_46  state_47  state_48  state_49  state_50  state_51  \n",
              "0         0         0         0         0         0         0  \n",
              "1         0         0         0         0         0         0  \n",
              "2         0         0         0         0         0         0  \n",
              "3         0         0         0         0         0         0  \n",
              "4         0         0         0         0         0         0  "
            ]
          },
          "metadata": {
            "tags": []
          },
          "execution_count": 125
        }
      ]
    },
    {
      "cell_type": "code",
      "metadata": {
        "id": "dUWGflmUB71y",
        "colab_type": "code",
        "colab": {}
      },
      "source": [
        "# Use pandas\n",
        "churn_feat_space_hw1 = pd.get_dummies(churn_feat_space, columns=['state'])\n",
        "# Or use OneHotEncoder from sklearn.preprocessing"
      ],
      "execution_count": 0,
      "outputs": []
    },
    {
      "cell_type": "code",
      "metadata": {
        "id": "UZy3xo-n05or",
        "colab_type": "code",
        "outputId": "9b674e9b-63ea-4f65-c3d1-fe4570298909",
        "colab": {
          "base_uri": "https://localhost:8080/",
          "height": 224
        }
      },
      "source": [
        "churn_feat_space_hw1.head()"
      ],
      "execution_count": 0,
      "outputs": [
        {
          "output_type": "execute_result",
          "data": {
            "text/html": [
              "<div>\n",
              "<style scoped>\n",
              "    .dataframe tbody tr th:only-of-type {\n",
              "        vertical-align: middle;\n",
              "    }\n",
              "\n",
              "    .dataframe tbody tr th {\n",
              "        vertical-align: top;\n",
              "    }\n",
              "\n",
              "    .dataframe thead th {\n",
              "        text-align: right;\n",
              "    }\n",
              "</style>\n",
              "<table border=\"1\" class=\"dataframe\">\n",
              "  <thead>\n",
              "    <tr style=\"text-align: right;\">\n",
              "      <th></th>\n",
              "      <th>account_length</th>\n",
              "      <th>intl_plan</th>\n",
              "      <th>voice_mail_plan</th>\n",
              "      <th>number_vmail_messages</th>\n",
              "      <th>total_day_minutes</th>\n",
              "      <th>total_day_calls</th>\n",
              "      <th>total_day_charge</th>\n",
              "      <th>total_eve_minutes</th>\n",
              "      <th>total_eve_calls</th>\n",
              "      <th>total_eve_charge</th>\n",
              "      <th>total_night_minutes</th>\n",
              "      <th>total_night_calls</th>\n",
              "      <th>total_night_charge</th>\n",
              "      <th>total_intl_minutes</th>\n",
              "      <th>total_intl_calls</th>\n",
              "      <th>total_intl_charge</th>\n",
              "      <th>number_customer_service_calls</th>\n",
              "      <th>state_AK</th>\n",
              "      <th>state_AL</th>\n",
              "      <th>state_AR</th>\n",
              "      <th>state_AZ</th>\n",
              "      <th>state_CA</th>\n",
              "      <th>state_CO</th>\n",
              "      <th>state_CT</th>\n",
              "      <th>state_DC</th>\n",
              "      <th>state_DE</th>\n",
              "      <th>state_FL</th>\n",
              "      <th>state_GA</th>\n",
              "      <th>state_HI</th>\n",
              "      <th>state_IA</th>\n",
              "      <th>state_ID</th>\n",
              "      <th>state_IL</th>\n",
              "      <th>state_IN</th>\n",
              "      <th>state_KS</th>\n",
              "      <th>state_KY</th>\n",
              "      <th>state_LA</th>\n",
              "      <th>state_MA</th>\n",
              "      <th>state_MD</th>\n",
              "      <th>state_ME</th>\n",
              "      <th>state_MI</th>\n",
              "      <th>state_MN</th>\n",
              "      <th>state_MO</th>\n",
              "      <th>state_MS</th>\n",
              "      <th>state_MT</th>\n",
              "      <th>state_NC</th>\n",
              "      <th>state_ND</th>\n",
              "      <th>state_NE</th>\n",
              "      <th>state_NH</th>\n",
              "      <th>state_NJ</th>\n",
              "      <th>state_NM</th>\n",
              "      <th>state_NV</th>\n",
              "      <th>state_NY</th>\n",
              "      <th>state_OH</th>\n",
              "      <th>state_OK</th>\n",
              "      <th>state_OR</th>\n",
              "      <th>state_PA</th>\n",
              "      <th>state_RI</th>\n",
              "      <th>state_SC</th>\n",
              "      <th>state_SD</th>\n",
              "      <th>state_TN</th>\n",
              "      <th>state_TX</th>\n",
              "      <th>state_UT</th>\n",
              "      <th>state_VA</th>\n",
              "      <th>state_VT</th>\n",
              "      <th>state_WA</th>\n",
              "      <th>state_WI</th>\n",
              "      <th>state_WV</th>\n",
              "      <th>state_WY</th>\n",
              "    </tr>\n",
              "  </thead>\n",
              "  <tbody>\n",
              "    <tr>\n",
              "      <th>0</th>\n",
              "      <td>128</td>\n",
              "      <td>False</td>\n",
              "      <td>True</td>\n",
              "      <td>25</td>\n",
              "      <td>265.1</td>\n",
              "      <td>110</td>\n",
              "      <td>45.07</td>\n",
              "      <td>197.4</td>\n",
              "      <td>99</td>\n",
              "      <td>16.78</td>\n",
              "      <td>244.7</td>\n",
              "      <td>91</td>\n",
              "      <td>11.01</td>\n",
              "      <td>10.0</td>\n",
              "      <td>3</td>\n",
              "      <td>2.70</td>\n",
              "      <td>1</td>\n",
              "      <td>0</td>\n",
              "      <td>0</td>\n",
              "      <td>0</td>\n",
              "      <td>0</td>\n",
              "      <td>0</td>\n",
              "      <td>0</td>\n",
              "      <td>0</td>\n",
              "      <td>0</td>\n",
              "      <td>0</td>\n",
              "      <td>0</td>\n",
              "      <td>0</td>\n",
              "      <td>0</td>\n",
              "      <td>0</td>\n",
              "      <td>0</td>\n",
              "      <td>0</td>\n",
              "      <td>0</td>\n",
              "      <td>1</td>\n",
              "      <td>0</td>\n",
              "      <td>0</td>\n",
              "      <td>0</td>\n",
              "      <td>0</td>\n",
              "      <td>0</td>\n",
              "      <td>0</td>\n",
              "      <td>0</td>\n",
              "      <td>0</td>\n",
              "      <td>0</td>\n",
              "      <td>0</td>\n",
              "      <td>0</td>\n",
              "      <td>0</td>\n",
              "      <td>0</td>\n",
              "      <td>0</td>\n",
              "      <td>0</td>\n",
              "      <td>0</td>\n",
              "      <td>0</td>\n",
              "      <td>0</td>\n",
              "      <td>0</td>\n",
              "      <td>0</td>\n",
              "      <td>0</td>\n",
              "      <td>0</td>\n",
              "      <td>0</td>\n",
              "      <td>0</td>\n",
              "      <td>0</td>\n",
              "      <td>0</td>\n",
              "      <td>0</td>\n",
              "      <td>0</td>\n",
              "      <td>0</td>\n",
              "      <td>0</td>\n",
              "      <td>0</td>\n",
              "      <td>0</td>\n",
              "      <td>0</td>\n",
              "      <td>0</td>\n",
              "    </tr>\n",
              "    <tr>\n",
              "      <th>1</th>\n",
              "      <td>107</td>\n",
              "      <td>False</td>\n",
              "      <td>True</td>\n",
              "      <td>26</td>\n",
              "      <td>161.6</td>\n",
              "      <td>123</td>\n",
              "      <td>27.47</td>\n",
              "      <td>195.5</td>\n",
              "      <td>103</td>\n",
              "      <td>16.62</td>\n",
              "      <td>254.4</td>\n",
              "      <td>103</td>\n",
              "      <td>11.45</td>\n",
              "      <td>13.7</td>\n",
              "      <td>3</td>\n",
              "      <td>3.70</td>\n",
              "      <td>1</td>\n",
              "      <td>0</td>\n",
              "      <td>0</td>\n",
              "      <td>0</td>\n",
              "      <td>0</td>\n",
              "      <td>0</td>\n",
              "      <td>0</td>\n",
              "      <td>0</td>\n",
              "      <td>0</td>\n",
              "      <td>0</td>\n",
              "      <td>0</td>\n",
              "      <td>0</td>\n",
              "      <td>0</td>\n",
              "      <td>0</td>\n",
              "      <td>0</td>\n",
              "      <td>0</td>\n",
              "      <td>0</td>\n",
              "      <td>0</td>\n",
              "      <td>0</td>\n",
              "      <td>0</td>\n",
              "      <td>0</td>\n",
              "      <td>0</td>\n",
              "      <td>0</td>\n",
              "      <td>0</td>\n",
              "      <td>0</td>\n",
              "      <td>0</td>\n",
              "      <td>0</td>\n",
              "      <td>0</td>\n",
              "      <td>0</td>\n",
              "      <td>0</td>\n",
              "      <td>0</td>\n",
              "      <td>0</td>\n",
              "      <td>0</td>\n",
              "      <td>0</td>\n",
              "      <td>0</td>\n",
              "      <td>0</td>\n",
              "      <td>1</td>\n",
              "      <td>0</td>\n",
              "      <td>0</td>\n",
              "      <td>0</td>\n",
              "      <td>0</td>\n",
              "      <td>0</td>\n",
              "      <td>0</td>\n",
              "      <td>0</td>\n",
              "      <td>0</td>\n",
              "      <td>0</td>\n",
              "      <td>0</td>\n",
              "      <td>0</td>\n",
              "      <td>0</td>\n",
              "      <td>0</td>\n",
              "      <td>0</td>\n",
              "      <td>0</td>\n",
              "    </tr>\n",
              "    <tr>\n",
              "      <th>2</th>\n",
              "      <td>137</td>\n",
              "      <td>False</td>\n",
              "      <td>False</td>\n",
              "      <td>0</td>\n",
              "      <td>243.4</td>\n",
              "      <td>114</td>\n",
              "      <td>41.38</td>\n",
              "      <td>121.2</td>\n",
              "      <td>110</td>\n",
              "      <td>10.30</td>\n",
              "      <td>162.6</td>\n",
              "      <td>104</td>\n",
              "      <td>7.32</td>\n",
              "      <td>12.2</td>\n",
              "      <td>5</td>\n",
              "      <td>3.29</td>\n",
              "      <td>0</td>\n",
              "      <td>0</td>\n",
              "      <td>0</td>\n",
              "      <td>0</td>\n",
              "      <td>0</td>\n",
              "      <td>0</td>\n",
              "      <td>0</td>\n",
              "      <td>0</td>\n",
              "      <td>0</td>\n",
              "      <td>0</td>\n",
              "      <td>0</td>\n",
              "      <td>0</td>\n",
              "      <td>0</td>\n",
              "      <td>0</td>\n",
              "      <td>0</td>\n",
              "      <td>0</td>\n",
              "      <td>0</td>\n",
              "      <td>0</td>\n",
              "      <td>0</td>\n",
              "      <td>0</td>\n",
              "      <td>0</td>\n",
              "      <td>0</td>\n",
              "      <td>0</td>\n",
              "      <td>0</td>\n",
              "      <td>0</td>\n",
              "      <td>0</td>\n",
              "      <td>0</td>\n",
              "      <td>0</td>\n",
              "      <td>0</td>\n",
              "      <td>0</td>\n",
              "      <td>0</td>\n",
              "      <td>0</td>\n",
              "      <td>1</td>\n",
              "      <td>0</td>\n",
              "      <td>0</td>\n",
              "      <td>0</td>\n",
              "      <td>0</td>\n",
              "      <td>0</td>\n",
              "      <td>0</td>\n",
              "      <td>0</td>\n",
              "      <td>0</td>\n",
              "      <td>0</td>\n",
              "      <td>0</td>\n",
              "      <td>0</td>\n",
              "      <td>0</td>\n",
              "      <td>0</td>\n",
              "      <td>0</td>\n",
              "      <td>0</td>\n",
              "      <td>0</td>\n",
              "      <td>0</td>\n",
              "      <td>0</td>\n",
              "      <td>0</td>\n",
              "    </tr>\n",
              "    <tr>\n",
              "      <th>3</th>\n",
              "      <td>84</td>\n",
              "      <td>True</td>\n",
              "      <td>False</td>\n",
              "      <td>0</td>\n",
              "      <td>299.4</td>\n",
              "      <td>71</td>\n",
              "      <td>50.90</td>\n",
              "      <td>61.9</td>\n",
              "      <td>88</td>\n",
              "      <td>5.26</td>\n",
              "      <td>196.9</td>\n",
              "      <td>89</td>\n",
              "      <td>8.86</td>\n",
              "      <td>6.6</td>\n",
              "      <td>7</td>\n",
              "      <td>1.78</td>\n",
              "      <td>2</td>\n",
              "      <td>0</td>\n",
              "      <td>0</td>\n",
              "      <td>0</td>\n",
              "      <td>0</td>\n",
              "      <td>0</td>\n",
              "      <td>0</td>\n",
              "      <td>0</td>\n",
              "      <td>0</td>\n",
              "      <td>0</td>\n",
              "      <td>0</td>\n",
              "      <td>0</td>\n",
              "      <td>0</td>\n",
              "      <td>0</td>\n",
              "      <td>0</td>\n",
              "      <td>0</td>\n",
              "      <td>0</td>\n",
              "      <td>0</td>\n",
              "      <td>0</td>\n",
              "      <td>0</td>\n",
              "      <td>0</td>\n",
              "      <td>0</td>\n",
              "      <td>0</td>\n",
              "      <td>0</td>\n",
              "      <td>0</td>\n",
              "      <td>0</td>\n",
              "      <td>0</td>\n",
              "      <td>0</td>\n",
              "      <td>0</td>\n",
              "      <td>0</td>\n",
              "      <td>0</td>\n",
              "      <td>0</td>\n",
              "      <td>0</td>\n",
              "      <td>0</td>\n",
              "      <td>0</td>\n",
              "      <td>0</td>\n",
              "      <td>1</td>\n",
              "      <td>0</td>\n",
              "      <td>0</td>\n",
              "      <td>0</td>\n",
              "      <td>0</td>\n",
              "      <td>0</td>\n",
              "      <td>0</td>\n",
              "      <td>0</td>\n",
              "      <td>0</td>\n",
              "      <td>0</td>\n",
              "      <td>0</td>\n",
              "      <td>0</td>\n",
              "      <td>0</td>\n",
              "      <td>0</td>\n",
              "      <td>0</td>\n",
              "      <td>0</td>\n",
              "    </tr>\n",
              "    <tr>\n",
              "      <th>4</th>\n",
              "      <td>75</td>\n",
              "      <td>True</td>\n",
              "      <td>False</td>\n",
              "      <td>0</td>\n",
              "      <td>166.7</td>\n",
              "      <td>113</td>\n",
              "      <td>28.34</td>\n",
              "      <td>148.3</td>\n",
              "      <td>122</td>\n",
              "      <td>12.61</td>\n",
              "      <td>186.9</td>\n",
              "      <td>121</td>\n",
              "      <td>8.41</td>\n",
              "      <td>10.1</td>\n",
              "      <td>3</td>\n",
              "      <td>2.73</td>\n",
              "      <td>3</td>\n",
              "      <td>0</td>\n",
              "      <td>0</td>\n",
              "      <td>0</td>\n",
              "      <td>0</td>\n",
              "      <td>0</td>\n",
              "      <td>0</td>\n",
              "      <td>0</td>\n",
              "      <td>0</td>\n",
              "      <td>0</td>\n",
              "      <td>0</td>\n",
              "      <td>0</td>\n",
              "      <td>0</td>\n",
              "      <td>0</td>\n",
              "      <td>0</td>\n",
              "      <td>0</td>\n",
              "      <td>0</td>\n",
              "      <td>0</td>\n",
              "      <td>0</td>\n",
              "      <td>0</td>\n",
              "      <td>0</td>\n",
              "      <td>0</td>\n",
              "      <td>0</td>\n",
              "      <td>0</td>\n",
              "      <td>0</td>\n",
              "      <td>0</td>\n",
              "      <td>0</td>\n",
              "      <td>0</td>\n",
              "      <td>0</td>\n",
              "      <td>0</td>\n",
              "      <td>0</td>\n",
              "      <td>0</td>\n",
              "      <td>0</td>\n",
              "      <td>0</td>\n",
              "      <td>0</td>\n",
              "      <td>0</td>\n",
              "      <td>0</td>\n",
              "      <td>1</td>\n",
              "      <td>0</td>\n",
              "      <td>0</td>\n",
              "      <td>0</td>\n",
              "      <td>0</td>\n",
              "      <td>0</td>\n",
              "      <td>0</td>\n",
              "      <td>0</td>\n",
              "      <td>0</td>\n",
              "      <td>0</td>\n",
              "      <td>0</td>\n",
              "      <td>0</td>\n",
              "      <td>0</td>\n",
              "      <td>0</td>\n",
              "      <td>0</td>\n",
              "    </tr>\n",
              "  </tbody>\n",
              "</table>\n",
              "</div>"
            ],
            "text/plain": [
              "   account_length  intl_plan  voice_mail_plan  number_vmail_messages  \\\n",
              "0             128      False             True                     25   \n",
              "1             107      False             True                     26   \n",
              "2             137      False            False                      0   \n",
              "3              84       True            False                      0   \n",
              "4              75       True            False                      0   \n",
              "\n",
              "   total_day_minutes  total_day_calls  total_day_charge  total_eve_minutes  \\\n",
              "0              265.1              110             45.07              197.4   \n",
              "1              161.6              123             27.47              195.5   \n",
              "2              243.4              114             41.38              121.2   \n",
              "3              299.4               71             50.90               61.9   \n",
              "4              166.7              113             28.34              148.3   \n",
              "\n",
              "   total_eve_calls  total_eve_charge  total_night_minutes  total_night_calls  \\\n",
              "0               99             16.78                244.7                 91   \n",
              "1              103             16.62                254.4                103   \n",
              "2              110             10.30                162.6                104   \n",
              "3               88              5.26                196.9                 89   \n",
              "4              122             12.61                186.9                121   \n",
              "\n",
              "   total_night_charge  total_intl_minutes  total_intl_calls  \\\n",
              "0               11.01                10.0                 3   \n",
              "1               11.45                13.7                 3   \n",
              "2                7.32                12.2                 5   \n",
              "3                8.86                 6.6                 7   \n",
              "4                8.41                10.1                 3   \n",
              "\n",
              "   total_intl_charge  number_customer_service_calls  state_AK  state_AL  \\\n",
              "0               2.70                              1         0         0   \n",
              "1               3.70                              1         0         0   \n",
              "2               3.29                              0         0         0   \n",
              "3               1.78                              2         0         0   \n",
              "4               2.73                              3         0         0   \n",
              "\n",
              "   state_AR  state_AZ  state_CA  state_CO  state_CT  state_DC  state_DE  \\\n",
              "0         0         0         0         0         0         0         0   \n",
              "1         0         0         0         0         0         0         0   \n",
              "2         0         0         0         0         0         0         0   \n",
              "3         0         0         0         0         0         0         0   \n",
              "4         0         0         0         0         0         0         0   \n",
              "\n",
              "   state_FL  state_GA  state_HI  state_IA  state_ID  state_IL  state_IN  \\\n",
              "0         0         0         0         0         0         0         0   \n",
              "1         0         0         0         0         0         0         0   \n",
              "2         0         0         0         0         0         0         0   \n",
              "3         0         0         0         0         0         0         0   \n",
              "4         0         0         0         0         0         0         0   \n",
              "\n",
              "   state_KS  state_KY  state_LA  state_MA  state_MD  state_ME  state_MI  \\\n",
              "0         1         0         0         0         0         0         0   \n",
              "1         0         0         0         0         0         0         0   \n",
              "2         0         0         0         0         0         0         0   \n",
              "3         0         0         0         0         0         0         0   \n",
              "4         0         0         0         0         0         0         0   \n",
              "\n",
              "   state_MN  state_MO  state_MS  state_MT  state_NC  state_ND  state_NE  \\\n",
              "0         0         0         0         0         0         0         0   \n",
              "1         0         0         0         0         0         0         0   \n",
              "2         0         0         0         0         0         0         0   \n",
              "3         0         0         0         0         0         0         0   \n",
              "4         0         0         0         0         0         0         0   \n",
              "\n",
              "   state_NH  state_NJ  state_NM  state_NV  state_NY  state_OH  state_OK  \\\n",
              "0         0         0         0         0         0         0         0   \n",
              "1         0         0         0         0         0         1         0   \n",
              "2         0         1         0         0         0         0         0   \n",
              "3         0         0         0         0         0         1         0   \n",
              "4         0         0         0         0         0         0         1   \n",
              "\n",
              "   state_OR  state_PA  state_RI  state_SC  state_SD  state_TN  state_TX  \\\n",
              "0         0         0         0         0         0         0         0   \n",
              "1         0         0         0         0         0         0         0   \n",
              "2         0         0         0         0         0         0         0   \n",
              "3         0         0         0         0         0         0         0   \n",
              "4         0         0         0         0         0         0         0   \n",
              "\n",
              "   state_UT  state_VA  state_VT  state_WA  state_WI  state_WV  state_WY  \n",
              "0         0         0         0         0         0         0         0  \n",
              "1         0         0         0         0         0         0         0  \n",
              "2         0         0         0         0         0         0         0  \n",
              "3         0         0         0         0         0         0         0  \n",
              "4         0         0         0         0         0         0         0  "
            ]
          },
          "metadata": {
            "tags": []
          },
          "execution_count": 121
        }
      ]
    },
    {
      "cell_type": "markdown",
      "metadata": {
        "id": "q3x9ySX_i0Nd",
        "colab_type": "text"
      },
      "source": [
        "# Part 3: Model Training and Result Evaluation"
      ]
    },
    {
      "cell_type": "markdown",
      "metadata": {
        "id": "77OjmSl9i0Nf",
        "colab_type": "text"
      },
      "source": [
        "### Part 3.1: Split dataset"
      ]
    },
    {
      "cell_type": "code",
      "metadata": {
        "id": "Uay8Md5li0Nh",
        "colab_type": "code",
        "outputId": "160185da-4735-4626-9498-c664fb0d8de0",
        "colab": {
          "base_uri": "https://localhost:8080/",
          "height": 68
        }
      },
      "source": [
        "from sklearn import model_selection\n",
        "X_train, X_test, y_train, y_test = model_selection.train_test_split(X, y, test_size=0.2) # straify = y; \n",
        "\n",
        "print('training data has %d observation with %d features'% X_train.shape)\n",
        "print('test data has %d observation with %d features'% X_test.shape)\n",
        "print(y)"
      ],
      "execution_count": 0,
      "outputs": [
        {
          "output_type": "stream",
          "text": [
            "training data has 4000 observation with 17 features\n",
            "test data has 1000 observation with 17 features\n",
            "[0 0 0 ... 0 0 0]\n"
          ],
          "name": "stdout"
        }
      ]
    },
    {
      "cell_type": "markdown",
      "metadata": {
        "id": "c4UTtCQTi0Nl",
        "colab_type": "text"
      },
      "source": [
        "### Part 3.2: Model Training and Selection"
      ]
    },
    {
      "cell_type": "code",
      "metadata": {
        "id": "EAhSxINLi0Nl",
        "colab_type": "code",
        "cellView": "code",
        "colab": {}
      },
      "source": [
        "#@title Default title text\n",
        "from sklearn.ensemble import RandomForestClassifier\n",
        "from sklearn.neighbors import KNeighborsClassifier \n",
        "from sklearn.linear_model import LogisticRegression\n",
        "from sklearn.svm import SVC\n",
        "\n",
        "classifier_logistic = LogisticRegression()\n",
        "classifier_KNN = KNeighborsClassifier()\n",
        "classifier_RF = RandomForestClassifier()\n",
        "classifier_SVM = SVC(probability=True)"
      ],
      "execution_count": 0,
      "outputs": []
    },
    {
      "cell_type": "markdown",
      "metadata": {
        "id": "NaoJBwEkDhjO",
        "colab_type": "text"
      },
      "source": [
        "####Logistic Regression, KNN and Random Forest\n",
        "\n"
      ]
    },
    {
      "cell_type": "code",
      "metadata": {
        "id": "nuZdwOLhArhZ",
        "colab_type": "code",
        "outputId": "991a42b7-647d-48a8-93e8-318d11555d80",
        "colab": {
          "base_uri": "https://localhost:8080/",
          "height": 102
        }
      },
      "source": [
        "classifier_logistic.fit(X_train, y_train)"
      ],
      "execution_count": 0,
      "outputs": [
        {
          "output_type": "execute_result",
          "data": {
            "text/plain": [
              "LogisticRegression(C=1.0, class_weight=None, dual=False, fit_intercept=True,\n",
              "                   intercept_scaling=1, l1_ratio=None, max_iter=100,\n",
              "                   multi_class='warn', n_jobs=None, penalty='l2',\n",
              "                   random_state=None, solver='warn', tol=0.0001, verbose=0,\n",
              "                   warm_start=False)"
            ]
          },
          "metadata": {
            "tags": []
          },
          "execution_count": 220
        }
      ]
    },
    {
      "cell_type": "code",
      "metadata": {
        "id": "_6kWMsMEBBPq",
        "colab_type": "code",
        "outputId": "ef74069d-73d8-49a6-e45f-4ba4442d7c7d",
        "colab": {
          "base_uri": "https://localhost:8080/",
          "height": 799
        }
      },
      "source": [
        "classifier_logistic.predict(X_test)"
      ],
      "execution_count": 0,
      "outputs": [
        {
          "output_type": "execute_result",
          "data": {
            "text/plain": [
              "array([0, 0, 0, 0, 1, 0, 0, 0, 0, 0, 0, 0, 0, 0, 0, 0, 0, 0, 0, 0, 0, 0,\n",
              "       0, 0, 0, 0, 0, 0, 0, 0, 0, 0, 0, 0, 0, 0, 1, 1, 0, 0, 0, 0, 0, 0,\n",
              "       0, 0, 0, 0, 0, 0, 0, 0, 0, 0, 0, 1, 0, 0, 0, 0, 0, 0, 0, 0, 0, 0,\n",
              "       0, 0, 0, 0, 0, 0, 0, 1, 0, 0, 0, 0, 0, 0, 0, 0, 0, 0, 0, 0, 0, 1,\n",
              "       0, 0, 0, 0, 0, 0, 0, 0, 0, 0, 0, 0, 0, 0, 0, 0, 0, 0, 0, 0, 0, 0,\n",
              "       0, 0, 0, 0, 0, 0, 0, 0, 1, 0, 0, 0, 0, 0, 0, 0, 0, 0, 0, 0, 0, 0,\n",
              "       0, 0, 0, 0, 0, 0, 0, 0, 0, 0, 0, 0, 0, 0, 0, 0, 0, 0, 0, 0, 0, 0,\n",
              "       0, 1, 0, 0, 0, 0, 0, 0, 0, 0, 0, 0, 0, 0, 0, 0, 0, 1, 0, 0, 0, 0,\n",
              "       0, 0, 0, 0, 0, 0, 0, 0, 0, 0, 0, 0, 0, 0, 0, 0, 0, 0, 0, 0, 0, 0,\n",
              "       0, 0, 0, 0, 1, 0, 0, 0, 0, 0, 0, 0, 0, 0, 0, 0, 0, 0, 0, 0, 0, 0,\n",
              "       0, 0, 0, 0, 0, 0, 0, 0, 0, 0, 0, 0, 0, 0, 1, 0, 0, 1, 0, 0, 0, 0,\n",
              "       0, 0, 0, 0, 0, 0, 0, 0, 0, 0, 0, 0, 0, 0, 0, 0, 0, 0, 0, 0, 0, 0,\n",
              "       0, 0, 0, 0, 0, 0, 0, 0, 0, 0, 1, 0, 0, 0, 0, 0, 0, 0, 0, 0, 0, 0,\n",
              "       0, 0, 0, 0, 0, 0, 0, 0, 0, 0, 1, 0, 1, 0, 0, 0, 0, 0, 0, 0, 0, 0,\n",
              "       0, 0, 0, 0, 0, 0, 0, 0, 0, 0, 0, 0, 0, 0, 0, 0, 0, 0, 0, 0, 0, 0,\n",
              "       0, 0, 0, 0, 0, 0, 0, 0, 0, 0, 0, 0, 0, 0, 0, 0, 0, 0, 0, 0, 0, 0,\n",
              "       0, 0, 0, 0, 0, 0, 0, 0, 0, 0, 0, 0, 0, 0, 0, 0, 0, 0, 0, 0, 0, 0,\n",
              "       0, 0, 0, 0, 0, 0, 0, 0, 0, 0, 0, 0, 0, 0, 0, 0, 0, 0, 0, 0, 0, 0,\n",
              "       0, 0, 0, 0, 1, 0, 0, 0, 0, 0, 0, 0, 0, 0, 0, 0, 0, 0, 0, 0, 0, 1,\n",
              "       0, 1, 0, 0, 0, 0, 0, 0, 0, 0, 0, 0, 0, 0, 0, 0, 0, 0, 0, 0, 0, 0,\n",
              "       0, 0, 0, 0, 0, 1, 0, 0, 0, 0, 0, 0, 0, 0, 0, 0, 0, 0, 0, 0, 0, 0,\n",
              "       0, 0, 0, 0, 0, 0, 0, 0, 0, 0, 0, 0, 0, 0, 0, 0, 0, 0, 0, 0, 0, 0,\n",
              "       0, 0, 0, 0, 0, 0, 0, 0, 0, 0, 0, 0, 0, 0, 0, 0, 0, 0, 0, 0, 0, 0,\n",
              "       0, 0, 1, 0, 0, 0, 0, 0, 0, 0, 0, 0, 0, 0, 0, 0, 0, 0, 0, 0, 0, 0,\n",
              "       0, 0, 0, 0, 0, 0, 0, 0, 0, 0, 0, 0, 0, 0, 1, 0, 1, 0, 0, 0, 0, 1,\n",
              "       0, 0, 0, 0, 0, 0, 0, 0, 0, 0, 0, 0, 0, 0, 0, 0, 0, 0, 0, 0, 0, 0,\n",
              "       0, 0, 0, 0, 0, 0, 0, 0, 0, 1, 0, 0, 0, 0, 0, 1, 0, 0, 0, 0, 0, 0,\n",
              "       0, 0, 0, 0, 0, 0, 0, 0, 0, 0, 0, 1, 0, 0, 0, 1, 0, 0, 0, 0, 0, 0,\n",
              "       0, 0, 0, 0, 0, 0, 0, 0, 0, 0, 0, 0, 0, 0, 0, 0, 0, 0, 0, 0, 0, 0,\n",
              "       0, 0, 0, 0, 0, 0, 0, 0, 0, 0, 0, 0, 0, 0, 0, 0, 0, 0, 0, 0, 0, 0,\n",
              "       0, 0, 0, 0, 0, 0, 0, 0, 0, 0, 0, 0, 1, 0, 0, 0, 0, 0, 0, 0, 0, 0,\n",
              "       0, 0, 0, 0, 0, 0, 0, 0, 0, 0, 0, 0, 0, 1, 0, 0, 0, 0, 0, 0, 0, 0,\n",
              "       0, 1, 0, 0, 0, 0, 0, 0, 0, 0, 0, 0, 1, 0, 0, 0, 0, 0, 0, 0, 0, 0,\n",
              "       0, 0, 0, 0, 0, 0, 0, 0, 0, 0, 0, 0, 0, 0, 0, 0, 0, 0, 0, 0, 0, 0,\n",
              "       0, 0, 0, 0, 0, 0, 0, 0, 0, 0, 0, 0, 0, 0, 0, 0, 0, 0, 0, 0, 0, 0,\n",
              "       0, 0, 0, 0, 0, 0, 0, 0, 0, 0, 0, 0, 0, 0, 0, 0, 0, 0, 0, 0, 0, 0,\n",
              "       0, 0, 0, 0, 0, 0, 0, 0, 0, 0, 0, 0, 0, 0, 0, 0, 0, 0, 0, 0, 0, 0,\n",
              "       0, 0, 0, 0, 1, 0, 0, 0, 0, 0, 0, 0, 0, 0, 0, 0, 0, 0, 0, 0, 0, 0,\n",
              "       0, 1, 0, 0, 0, 0, 0, 0, 0, 0, 0, 0, 0, 0, 0, 0, 0, 0, 0, 0, 0, 0,\n",
              "       0, 0, 0, 0, 0, 0, 0, 0, 0, 0, 0, 0, 0, 0, 0, 0, 0, 0, 0, 1, 0, 0,\n",
              "       0, 0, 0, 0, 0, 1, 0, 0, 0, 0, 0, 0, 0, 0, 0, 0, 0, 0, 0, 0, 0, 0,\n",
              "       0, 0, 0, 0, 0, 0, 0, 0, 0, 1, 0, 0, 0, 0, 0, 0, 0, 0, 0, 0, 0, 0,\n",
              "       0, 0, 0, 0, 0, 0, 0, 0, 0, 0, 0, 1, 0, 0, 0, 0, 0, 0, 0, 0, 0, 1,\n",
              "       0, 0, 0, 0, 0, 1, 0, 0, 0, 0, 0, 0, 0, 0, 0, 0, 0, 0, 0, 1, 0, 1,\n",
              "       1, 0, 0, 0, 0, 0, 0, 0, 0, 0, 0, 1, 0, 0, 0, 0, 0, 0, 0, 0, 0, 0,\n",
              "       0, 0, 0, 0, 0, 0, 0, 0, 0, 0])"
            ]
          },
          "metadata": {
            "tags": []
          },
          "execution_count": 221
        }
      ]
    },
    {
      "cell_type": "code",
      "metadata": {
        "id": "9Sgf2y0tBI1X",
        "colab_type": "code",
        "outputId": "dff02827-0cc1-445a-f42b-cd569ad5bfed",
        "colab": {
          "base_uri": "https://localhost:8080/",
          "height": 34
        }
      },
      "source": [
        "classifier_logistic.score(X_test,y_test)"
      ],
      "execution_count": 0,
      "outputs": [
        {
          "output_type": "execute_result",
          "data": {
            "text/plain": [
              "0.857"
            ]
          },
          "metadata": {
            "tags": []
          },
          "execution_count": 222
        }
      ]
    },
    {
      "cell_type": "code",
      "metadata": {
        "id": "1OCgNSNri0Nn",
        "colab_type": "code",
        "outputId": "1d9fed2a-19fa-4e9c-a44a-2d630a7d70b7",
        "colab": {
          "base_uri": "https://localhost:8080/",
          "height": 68
        }
      },
      "source": [
        "model_names = ['Logistic Regression','KNN','Random Forest']\n",
        "model_list = [classifier_logistic, classifier_KNN, classifier_RF]\n",
        "count = 0\n",
        "for classifier in model_list:\n",
        "    cv_score = model_selection.cross_val_score(classifier, X_train, y_train, cv=5)\n",
        "    print('Model accuracy of %s is: %.3f'%(model_names[count],cv_score.mean()))\n",
        "    count += 1\n",
        "    \n",
        "# Cross-validation:\n",
        "#result = []\n",
        "#for i in range(5):\n",
        "#  data_split\n",
        "#  classifier_logistic.fit(X_s, y_s)\n",
        "#  result.append(classifier_logistic.score(X_s_test, y_s_test))"
      ],
      "execution_count": 0,
      "outputs": [
        {
          "output_type": "stream",
          "text": [
            "Model accuracy of Logistic Regression is: 0.868\n",
            "Model accuracy of KNN is: 0.905\n",
            "Model accuracy of Random Forest is: 0.953\n"
          ],
          "name": "stdout"
        }
      ]
    },
    {
      "cell_type": "markdown",
      "metadata": {
        "id": "G1GCzaPxi0Np",
        "colab_type": "text"
      },
      "source": [
        "####SVM"
      ]
    },
    {
      "cell_type": "code",
      "metadata": {
        "id": "UgpqEx_DOoDj",
        "colab_type": "code",
        "outputId": "27832144-fdc1-46f1-a04b-6ebedc052ff8",
        "colab": {
          "base_uri": "https://localhost:8080/",
          "height": 85
        }
      },
      "source": [
        "classifier_SVM.fit(X_train, y_train)"
      ],
      "execution_count": 0,
      "outputs": [
        {
          "output_type": "execute_result",
          "data": {
            "text/plain": [
              "SVC(C=1.0, cache_size=200, class_weight=None, coef0=0.0,\n",
              "    decision_function_shape='ovr', degree=3, gamma='auto_deprecated',\n",
              "    kernel='rbf', max_iter=-1, probability=True, random_state=None,\n",
              "    shrinking=True, tol=0.001, verbose=False)"
            ]
          },
          "metadata": {
            "tags": []
          },
          "execution_count": 271
        }
      ]
    },
    {
      "cell_type": "code",
      "metadata": {
        "id": "wftSO63QwdMG",
        "colab_type": "code",
        "outputId": "e12d06f6-4a78-45f8-8ce4-eb9bfc3a4c86",
        "colab": {
          "base_uri": "https://localhost:8080/",
          "height": 799
        }
      },
      "source": [
        "classifier_SVM.predict(X_test)"
      ],
      "execution_count": 0,
      "outputs": [
        {
          "output_type": "execute_result",
          "data": {
            "text/plain": [
              "array([0, 0, 1, 0, 0, 0, 0, 0, 1, 0, 0, 0, 0, 0, 0, 0, 0, 0, 1, 0, 0, 0,\n",
              "       0, 1, 0, 0, 0, 0, 0, 0, 0, 0, 0, 0, 0, 0, 0, 1, 0, 1, 0, 0, 0, 0,\n",
              "       0, 0, 0, 1, 0, 0, 1, 0, 0, 0, 0, 0, 0, 0, 0, 0, 1, 0, 0, 0, 0, 0,\n",
              "       0, 0, 0, 1, 0, 0, 0, 0, 0, 0, 0, 0, 0, 0, 0, 0, 0, 0, 0, 0, 0, 1,\n",
              "       0, 0, 0, 0, 1, 0, 0, 0, 0, 0, 0, 0, 0, 0, 0, 0, 0, 0, 0, 0, 0, 0,\n",
              "       0, 0, 0, 0, 0, 0, 0, 0, 1, 0, 0, 0, 0, 0, 0, 0, 0, 0, 0, 1, 0, 0,\n",
              "       0, 0, 0, 0, 0, 0, 0, 0, 0, 1, 0, 0, 0, 0, 0, 0, 0, 0, 0, 0, 0, 0,\n",
              "       0, 1, 0, 0, 0, 0, 0, 0, 0, 0, 0, 0, 0, 0, 0, 0, 0, 0, 0, 0, 0, 0,\n",
              "       0, 0, 0, 0, 0, 0, 0, 0, 0, 0, 0, 0, 0, 0, 0, 0, 0, 0, 1, 0, 0, 0,\n",
              "       0, 0, 0, 0, 1, 0, 0, 0, 0, 0, 0, 0, 0, 0, 0, 0, 0, 0, 0, 0, 0, 0,\n",
              "       0, 0, 0, 1, 0, 0, 0, 0, 1, 0, 0, 0, 0, 0, 1, 1, 0, 0, 0, 0, 0, 0,\n",
              "       1, 0, 0, 0, 0, 1, 0, 0, 0, 0, 0, 0, 0, 0, 0, 0, 1, 0, 0, 0, 0, 0,\n",
              "       0, 0, 0, 0, 0, 0, 0, 0, 0, 0, 0, 0, 0, 0, 0, 0, 0, 0, 0, 0, 0, 0,\n",
              "       0, 0, 0, 0, 0, 0, 0, 0, 0, 0, 1, 0, 0, 0, 0, 0, 0, 0, 0, 0, 0, 1,\n",
              "       0, 0, 0, 0, 0, 0, 1, 0, 0, 0, 0, 0, 0, 0, 0, 0, 1, 0, 0, 0, 0, 0,\n",
              "       0, 1, 1, 0, 0, 0, 0, 0, 1, 0, 1, 0, 0, 0, 0, 0, 0, 0, 0, 0, 0, 0,\n",
              "       0, 0, 0, 1, 0, 0, 0, 0, 0, 0, 0, 0, 0, 1, 0, 0, 0, 0, 0, 0, 0, 0,\n",
              "       0, 0, 0, 0, 0, 0, 0, 0, 0, 0, 0, 0, 0, 0, 0, 0, 0, 0, 0, 0, 0, 0,\n",
              "       0, 0, 1, 0, 1, 0, 0, 0, 0, 0, 1, 0, 0, 0, 0, 1, 0, 1, 0, 0, 0, 1,\n",
              "       0, 1, 0, 0, 0, 0, 1, 0, 0, 0, 1, 0, 0, 0, 0, 0, 0, 0, 0, 0, 0, 0,\n",
              "       0, 0, 0, 0, 0, 0, 0, 0, 0, 0, 0, 0, 0, 0, 0, 0, 0, 0, 0, 0, 0, 0,\n",
              "       0, 0, 0, 0, 0, 0, 0, 0, 0, 0, 0, 0, 0, 0, 1, 0, 0, 0, 0, 1, 0, 0,\n",
              "       0, 0, 0, 0, 0, 0, 0, 0, 0, 0, 0, 0, 0, 0, 0, 0, 0, 1, 0, 0, 0, 0,\n",
              "       0, 0, 0, 0, 0, 0, 1, 0, 0, 0, 0, 0, 0, 0, 0, 0, 0, 0, 0, 1, 0, 0,\n",
              "       0, 0, 0, 0, 0, 0, 0, 0, 0, 0, 0, 0, 0, 0, 1, 0, 1, 0, 0, 0, 0, 1,\n",
              "       0, 0, 0, 0, 0, 0, 0, 0, 0, 0, 0, 0, 0, 0, 0, 0, 0, 0, 0, 0, 0, 0,\n",
              "       1, 0, 0, 0, 0, 0, 0, 0, 0, 1, 0, 0, 0, 0, 0, 1, 0, 0, 0, 0, 0, 0,\n",
              "       0, 0, 0, 0, 0, 0, 0, 0, 0, 0, 0, 0, 0, 0, 0, 0, 0, 1, 0, 0, 0, 0,\n",
              "       0, 0, 0, 0, 0, 0, 0, 0, 0, 0, 0, 0, 0, 0, 0, 0, 0, 0, 1, 0, 0, 0,\n",
              "       0, 0, 0, 0, 0, 0, 0, 0, 1, 0, 0, 0, 0, 0, 0, 0, 0, 0, 0, 0, 0, 0,\n",
              "       0, 0, 0, 0, 0, 0, 0, 0, 0, 0, 0, 0, 0, 0, 0, 0, 0, 0, 0, 0, 0, 0,\n",
              "       0, 1, 0, 0, 0, 0, 0, 0, 0, 0, 0, 0, 0, 1, 0, 0, 0, 0, 0, 0, 0, 0,\n",
              "       0, 1, 0, 0, 0, 0, 0, 0, 0, 0, 0, 0, 1, 0, 0, 0, 0, 0, 0, 0, 0, 0,\n",
              "       0, 0, 0, 0, 0, 0, 0, 0, 0, 0, 0, 0, 0, 0, 0, 0, 0, 0, 0, 0, 0, 0,\n",
              "       0, 0, 1, 0, 0, 0, 0, 0, 0, 0, 0, 0, 0, 0, 0, 0, 0, 0, 1, 0, 0, 0,\n",
              "       0, 1, 0, 0, 0, 0, 0, 0, 0, 0, 0, 0, 0, 0, 0, 0, 1, 0, 0, 0, 0, 0,\n",
              "       0, 0, 0, 0, 0, 0, 0, 0, 1, 0, 0, 1, 0, 0, 0, 0, 0, 0, 0, 0, 0, 0,\n",
              "       0, 0, 0, 0, 1, 0, 0, 0, 0, 0, 0, 1, 0, 0, 0, 1, 0, 0, 1, 0, 0, 1,\n",
              "       0, 1, 0, 0, 0, 0, 1, 0, 0, 1, 0, 0, 0, 0, 0, 0, 0, 1, 1, 0, 0, 0,\n",
              "       0, 0, 0, 0, 0, 0, 0, 0, 0, 0, 0, 0, 0, 0, 0, 0, 0, 0, 0, 1, 0, 0,\n",
              "       0, 0, 0, 0, 1, 0, 0, 0, 0, 0, 0, 0, 0, 0, 1, 0, 0, 0, 0, 0, 0, 0,\n",
              "       0, 0, 0, 0, 1, 0, 0, 0, 0, 1, 0, 0, 1, 0, 0, 0, 0, 0, 0, 0, 0, 0,\n",
              "       0, 0, 0, 0, 0, 0, 0, 0, 0, 0, 0, 0, 1, 0, 0, 0, 0, 0, 0, 0, 0, 0,\n",
              "       1, 0, 0, 0, 0, 0, 0, 0, 0, 0, 0, 0, 0, 0, 0, 0, 0, 0, 0, 1, 0, 1,\n",
              "       1, 0, 0, 1, 0, 0, 0, 0, 0, 1, 0, 0, 0, 0, 0, 1, 0, 1, 0, 0, 0, 0,\n",
              "       1, 1, 0, 0, 0, 0, 0, 0, 0, 0])"
            ]
          },
          "metadata": {
            "tags": []
          },
          "execution_count": 272
        }
      ]
    },
    {
      "cell_type": "code",
      "metadata": {
        "id": "UB8MwZiSwes6",
        "colab_type": "code",
        "outputId": "55afce18-49a1-4ffc-888b-13846b8aad63",
        "colab": {
          "base_uri": "https://localhost:8080/",
          "height": 34
        }
      },
      "source": [
        "classifier_SVM.score(X_test,y_test)"
      ],
      "execution_count": 0,
      "outputs": [
        {
          "output_type": "execute_result",
          "data": {
            "text/plain": [
              "0.923"
            ]
          },
          "metadata": {
            "tags": []
          },
          "execution_count": 273
        }
      ]
    },
    {
      "cell_type": "markdown",
      "metadata": {
        "id": "7J-23z78i0Ns",
        "colab_type": "text"
      },
      "source": [
        "###Part 3.3: Use Grid Search to Find Optimal Hyperparameters"
      ]
    },
    {
      "cell_type": "code",
      "metadata": {
        "id": "Hpe9PEAAi0Nt",
        "colab_type": "code",
        "colab": {}
      },
      "source": [
        "from sklearn.model_selection import GridSearchCV\n",
        "def print_grid_search_metrics(gs):\n",
        "    print (\"Best score: %0.3f\" % gs.best_score_)\n",
        "    print (\"Best parameters set:\")\n",
        "    best_parameters = gs.best_params_\n",
        "    #print (best_parameters)\n",
        "    for param_name in sorted(parameters.keys()):\n",
        "        print(\"\\t%s: %r\" % (param_name, best_parameters[param_name]))"
      ],
      "execution_count": 0,
      "outputs": []
    },
    {
      "cell_type": "markdown",
      "metadata": {
        "id": "qvYo9I5Ti0Nv",
        "colab_type": "text"
      },
      "source": [
        "#### Part 3.3.1: Find Optimal Hyperparameters: Logistic Regression"
      ]
    },
    {
      "cell_type": "code",
      "metadata": {
        "scrolled": true,
        "id": "wOc48syxi0Nx",
        "colab_type": "code",
        "outputId": "feeb4518-2619-482f-c13f-18cf034851c2",
        "colab": {
          "base_uri": "https://localhost:8080/",
          "height": 238
        }
      },
      "source": [
        "parameters = {\n",
        "    'penalty':('l1', 'l2'), \n",
        "    'C':(1, 5, 10)\n",
        "}\n",
        "Grid_LR = GridSearchCV(LogisticRegression(),parameters, cv=5)\n",
        "Grid_LR.fit(X_train, y_train)"
      ],
      "execution_count": 0,
      "outputs": [
        {
          "output_type": "execute_result",
          "data": {
            "text/plain": [
              "GridSearchCV(cv=5, error_score='raise-deprecating',\n",
              "             estimator=LogisticRegression(C=1.0, class_weight=None, dual=False,\n",
              "                                          fit_intercept=True,\n",
              "                                          intercept_scaling=1, l1_ratio=None,\n",
              "                                          max_iter=100, multi_class='warn',\n",
              "                                          n_jobs=None, penalty='l2',\n",
              "                                          random_state=None, solver='warn',\n",
              "                                          tol=0.0001, verbose=0,\n",
              "                                          warm_start=False),\n",
              "             iid='warn', n_jobs=None,\n",
              "             param_grid={'C': (1, 5, 10), 'penalty': ('l1', 'l2')},\n",
              "             pre_dispatch='2*n_jobs', refit=True, return_train_score=False,\n",
              "             scoring=None, verbose=0)"
            ]
          },
          "metadata": {
            "tags": []
          },
          "execution_count": 230
        }
      ]
    },
    {
      "cell_type": "code",
      "metadata": {
        "id": "nN5rU0e-i0N1",
        "colab_type": "code",
        "outputId": "1865cbe8-95cf-4aaa-d4f3-133db930f8bf",
        "colab": {
          "base_uri": "https://localhost:8080/",
          "height": 85
        }
      },
      "source": [
        "print_grid_search_metrics(Grid_LR)"
      ],
      "execution_count": 0,
      "outputs": [
        {
          "output_type": "stream",
          "text": [
            "Best score: 0.868\n",
            "Best parameters set:\n",
            "\tC: 1\n",
            "\tpenalty: 'l2'\n"
          ],
          "name": "stdout"
        }
      ]
    },
    {
      "cell_type": "code",
      "metadata": {
        "id": "TtkDsXgui0N3",
        "colab_type": "code",
        "outputId": "a4268f7d-3fb8-4f2e-90ec-729069ed35bc",
        "colab": {
          "base_uri": "https://localhost:8080/",
          "height": 102
        }
      },
      "source": [
        "best_LR_model = Grid_LR.best_estimator_\n",
        "print (best_LR_model)"
      ],
      "execution_count": 0,
      "outputs": [
        {
          "output_type": "stream",
          "text": [
            "LogisticRegression(C=1, class_weight=None, dual=False, fit_intercept=True,\n",
            "                   intercept_scaling=1, l1_ratio=None, max_iter=100,\n",
            "                   multi_class='warn', n_jobs=None, penalty='l2',\n",
            "                   random_state=None, solver='warn', tol=0.0001, verbose=0,\n",
            "                   warm_start=False)\n"
          ],
          "name": "stdout"
        }
      ]
    },
    {
      "cell_type": "markdown",
      "metadata": {
        "id": "9u9YFedOi0N6",
        "colab_type": "text"
      },
      "source": [
        "#### Part 3.3.2: Find Optimal Hyperparameters: KNN"
      ]
    },
    {
      "cell_type": "code",
      "metadata": {
        "id": "o78422XVi0N6",
        "colab_type": "code",
        "outputId": "2c684a43-e91b-45e9-a0a3-f019dfc4f976",
        "colab": {
          "base_uri": "https://localhost:8080/",
          "height": 170
        }
      },
      "source": [
        "parameters = {\n",
        "    'n_neighbors':[3,5,7,10]\n",
        "}\n",
        "Grid_KNN = GridSearchCV(KNeighborsClassifier(),parameters, cv=5)\n",
        "Grid_KNN.fit(X_train, y_train)"
      ],
      "execution_count": 0,
      "outputs": [
        {
          "output_type": "execute_result",
          "data": {
            "text/plain": [
              "GridSearchCV(cv=5, error_score='raise-deprecating',\n",
              "             estimator=KNeighborsClassifier(algorithm='auto', leaf_size=30,\n",
              "                                            metric='minkowski',\n",
              "                                            metric_params=None, n_jobs=None,\n",
              "                                            n_neighbors=5, p=2,\n",
              "                                            weights='uniform'),\n",
              "             iid='warn', n_jobs=None, param_grid={'n_neighbors': [3, 5, 7, 10]},\n",
              "             pre_dispatch='2*n_jobs', refit=True, return_train_score=False,\n",
              "             scoring=None, verbose=0)"
            ]
          },
          "metadata": {
            "tags": []
          },
          "execution_count": 233
        }
      ]
    },
    {
      "cell_type": "code",
      "metadata": {
        "scrolled": true,
        "id": "ydaRZVAIi0N_",
        "colab_type": "code",
        "outputId": "1c9d0516-543d-4167-f8dc-cfe777c3faf6",
        "colab": {
          "base_uri": "https://localhost:8080/",
          "height": 68
        }
      },
      "source": [
        "print_grid_search_metrics(Grid_KNN)"
      ],
      "execution_count": 0,
      "outputs": [
        {
          "output_type": "stream",
          "text": [
            "Best score: 0.905\n",
            "Best parameters set:\n",
            "\tn_neighbors: 5\n"
          ],
          "name": "stdout"
        }
      ]
    },
    {
      "cell_type": "code",
      "metadata": {
        "id": "hIm7_zrnNnoy",
        "colab_type": "code",
        "colab": {}
      },
      "source": [
        "best_KNN_model = Grid_KNN.best_estimator_"
      ],
      "execution_count": 0,
      "outputs": []
    },
    {
      "cell_type": "markdown",
      "metadata": {
        "id": "nKn_oKLSi0OB",
        "colab_type": "text"
      },
      "source": [
        "#### Part 3.3.3: Find Optimal Hyperparameters: Random Forest\n"
      ]
    },
    {
      "cell_type": "code",
      "metadata": {
        "id": "NniAZIPfi0OC",
        "colab_type": "code",
        "outputId": "01f68c54-57a0-4563-c92b-0043667cf516",
        "colab": {
          "base_uri": "https://localhost:8080/",
          "height": 306
        }
      },
      "source": [
        "parameters = {\n",
        "    'n_estimators': [40,60,80]\n",
        "}\n",
        "Grid_RF = GridSearchCV(RandomForestClassifier(),parameters, cv=5)\n",
        "Grid_RF.fit(X_train, y_train)"
      ],
      "execution_count": 0,
      "outputs": [
        {
          "output_type": "execute_result",
          "data": {
            "text/plain": [
              "GridSearchCV(cv=5, error_score='raise-deprecating',\n",
              "             estimator=RandomForestClassifier(bootstrap=True, class_weight=None,\n",
              "                                              criterion='gini', max_depth=None,\n",
              "                                              max_features='auto',\n",
              "                                              max_leaf_nodes=None,\n",
              "                                              min_impurity_decrease=0.0,\n",
              "                                              min_impurity_split=None,\n",
              "                                              min_samples_leaf=1,\n",
              "                                              min_samples_split=2,\n",
              "                                              min_weight_fraction_leaf=0.0,\n",
              "                                              n_estimators='warn', n_jobs=None,\n",
              "                                              oob_score=False,\n",
              "                                              random_state=None, verbose=0,\n",
              "                                              warm_start=False),\n",
              "             iid='warn', n_jobs=None, param_grid={'n_estimators': [40, 60, 80]},\n",
              "             pre_dispatch='2*n_jobs', refit=True, return_train_score=False,\n",
              "             scoring=None, verbose=0)"
            ]
          },
          "metadata": {
            "tags": []
          },
          "execution_count": 235
        }
      ]
    },
    {
      "cell_type": "code",
      "metadata": {
        "scrolled": true,
        "id": "ScPiI-Bfi0OE",
        "colab_type": "code",
        "outputId": "3c7350f4-1ee6-4417-a665-0a803c69ed9b",
        "colab": {
          "base_uri": "https://localhost:8080/",
          "height": 68
        }
      },
      "source": [
        "print_grid_search_metrics(Grid_RF)"
      ],
      "execution_count": 0,
      "outputs": [
        {
          "output_type": "stream",
          "text": [
            "Best score: 0.959\n",
            "Best parameters set:\n",
            "\tn_estimators: 80\n"
          ],
          "name": "stdout"
        }
      ]
    },
    {
      "cell_type": "code",
      "metadata": {
        "id": "xJgfri_Mi0OG",
        "colab_type": "code",
        "colab": {}
      },
      "source": [
        "best_RF_model = Grid_RF.best_estimator_"
      ],
      "execution_count": 0,
      "outputs": []
    },
    {
      "cell_type": "markdown",
      "metadata": {
        "id": "bwAahgUTGv6-",
        "colab_type": "text"
      },
      "source": [
        "#### Part 3.3.4: Find Optimal Hyperparameters: SVM"
      ]
    },
    {
      "cell_type": "code",
      "metadata": {
        "id": "dUqQv6qgG3T9",
        "colab_type": "code",
        "outputId": "ad4ef1af-a60c-4056-fa07-e89ad895551d",
        "colab": {
          "base_uri": "https://localhost:8080/",
          "height": 187
        }
      },
      "source": [
        "parameters = {\n",
        "    'C': [1,5,10],\n",
        "    'kernel': ['rbf', 'sigmoid']\n",
        "}\n",
        "Grid_SVM = GridSearchCV(SVC(probability=True),parameters, cv=5)\n",
        "Grid_SVM.fit(X_train, y_train)"
      ],
      "execution_count": 0,
      "outputs": [
        {
          "output_type": "execute_result",
          "data": {
            "text/plain": [
              "GridSearchCV(cv=5, error_score='raise-deprecating',\n",
              "             estimator=SVC(C=1.0, cache_size=200, class_weight=None, coef0=0.0,\n",
              "                           decision_function_shape='ovr', degree=3,\n",
              "                           gamma='auto_deprecated', kernel='rbf', max_iter=-1,\n",
              "                           probability=True, random_state=None, shrinking=True,\n",
              "                           tol=0.001, verbose=False),\n",
              "             iid='warn', n_jobs=None,\n",
              "             param_grid={'C': [1, 5, 10], 'kernel': ['rbf', 'sigmoid']},\n",
              "             pre_dispatch='2*n_jobs', refit=True, return_train_score=False,\n",
              "             scoring=None, verbose=0)"
            ]
          },
          "metadata": {
            "tags": []
          },
          "execution_count": 291
        }
      ]
    },
    {
      "cell_type": "code",
      "metadata": {
        "id": "9E__Yf7kLBQ4",
        "colab_type": "code",
        "outputId": "6b4f9284-ba1d-4d08-e080-a1f0672983cd",
        "colab": {
          "base_uri": "https://localhost:8080/",
          "height": 85
        }
      },
      "source": [
        "print_grid_search_metrics(Grid_SVM)"
      ],
      "execution_count": 0,
      "outputs": [
        {
          "output_type": "stream",
          "text": [
            "Best score: 0.937\n",
            "Best parameters set:\n",
            "\tC: 5\n",
            "\tkernel: 'rbf'\n"
          ],
          "name": "stdout"
        }
      ]
    },
    {
      "cell_type": "code",
      "metadata": {
        "id": "zro1b6EPLGDA",
        "colab_type": "code",
        "colab": {}
      },
      "source": [
        "best_SVM_model = Grid_SVM.best_estimator_"
      ],
      "execution_count": 0,
      "outputs": []
    },
    {
      "cell_type": "markdown",
      "metadata": {
        "id": "xxDAOrGIi0OI",
        "colab_type": "text"
      },
      "source": [
        "### Part 3.4: Model Evaluation\n",
        "\n",
        "TP: correctly labeled real churn\n",
        "\n",
        "Precision(PPV, positive predictive value): tp / (tp + fp);\n",
        "Total number of true predictive churn divided by the total number of predictive churn;\n",
        "High Precision means low fp, not many return users were predicted as churn users. \n",
        "\n",
        "\n",
        "Recall(sensitivity, hit rate, true positive rate): tp / (tp + fn)\n",
        "Predict most postive or churn user correctly. High recall means low fn, not many churn users were predicted as return users."
      ]
    },
    {
      "cell_type": "markdown",
      "metadata": {
        "id": "7bYrspmdV7c8",
        "colab_type": "text"
      },
      "source": [
        "#### Part 3.4.1: Confusion Matrix"
      ]
    },
    {
      "cell_type": "code",
      "metadata": {
        "id": "o-tP94iFi0OI",
        "colab_type": "code",
        "colab": {}
      },
      "source": [
        "from sklearn.metrics import confusion_matrix\n",
        "from sklearn.metrics import classification_report\n",
        "from sklearn.metrics import precision_score\n",
        "from sklearn.metrics import recall_score\n",
        "\n",
        "def cal_evaluation(classifier, cm):\n",
        "    tn = cm[0][0]\n",
        "    fp = cm[0][1]\n",
        "    fn = cm[1][0]\n",
        "    tp = cm[1][1]\n",
        "    accuracy  = (tp + tn) / (tp + fp + fn + tn + 0.0)\n",
        "    precision = tp / (tp + fp + 0.0)\n",
        "    recall = tp / (tp + fn + 0.0)\n",
        "    print (classifier)\n",
        "    print (\"Accuracy is: %0.3f\" % accuracy)\n",
        "    print (\"precision is: %0.3f\" % precision)\n",
        "    print (\"recall is: %0.3f\" % recall)\n",
        "\n",
        "def draw_confusion_matrices(confusion_matricies):\n",
        "    class_names = ['Not','Churn']\n",
        "    for cm in confusion_matrices:\n",
        "        classifier, cm = cm[0], cm[1]\n",
        "        cal_evaluation(classifier, cm)\n",
        "        fig = plt.figure()\n",
        "        ax = fig.add_subplot(111)\n",
        "        cax = ax.matshow(cm, interpolation='nearest',cmap=plt.get_cmap('Reds'))\n",
        "        plt.title('Confusion matrix for %s' % classifier)\n",
        "        fig.colorbar(cax)\n",
        "        ax.set_xticklabels([''] + class_names)\n",
        "        ax.set_yticklabels([''] + class_names)\n",
        "        plt.xlabel('Predicted')\n",
        "        plt.ylabel('True')\n",
        "        plt.show()"
      ],
      "execution_count": 0,
      "outputs": []
    },
    {
      "cell_type": "code",
      "metadata": {
        "id": "OpSGaN49i0OL",
        "colab_type": "code",
        "outputId": "68e9f965-8398-42c1-82e1-a6d601c85447",
        "colab": {
          "base_uri": "https://localhost:8080/",
          "height": 1000
        }
      },
      "source": [
        "%matplotlib inline\n",
        "\n",
        "confusion_matrices = [\n",
        "    (\"Random Forest\", confusion_matrix(y_test,best_RF_model.predict(X_test))),\n",
        "    (\"Logistic Regression\", confusion_matrix(y_test,best_LR_model.predict(X_test))),\n",
        "    (\"KNN\", confusion_matrix(y_test,best_KNN_model.predict(X_test))),\n",
        "    (\"SVM\", confusion_matrix(y_test,best_SVM_model.predict(X_test))),\n",
        "]\n",
        "\n",
        "draw_confusion_matrices(confusion_matrices)"
      ],
      "execution_count": 0,
      "outputs": [
        {
          "output_type": "stream",
          "text": [
            "Random Forest\n",
            "Accuracy is: 0.953\n",
            "precision is: 0.937\n",
            "recall is: 0.753\n"
          ],
          "name": "stdout"
        },
        {
          "output_type": "display_data",
          "data": {
            "image/png": "iVBORw0KGgoAAAANSUhEUgAAAVAAAAEQCAYAAADmsCy1AAAABHNCSVQICAgIfAhkiAAAAAlwSFlz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\n",
            "text/plain": [
              "<Figure size 432x288 with 2 Axes>"
            ]
          },
          "metadata": {
            "tags": []
          }
        },
        {
          "output_type": "stream",
          "text": [
            "Logistic Regression\n",
            "Accuracy is: 0.857\n",
            "precision is: 0.674\n",
            "recall is: 0.184\n"
          ],
          "name": "stdout"
        },
        {
          "output_type": "display_data",
          "data": {
            "image/png": "iVBORw0KGgoAAAANSUhEUgAAAVAAAAEQCAYAAADmsCy1AAAABHNCSVQICAgIfAhkiAAAAAlwSFlz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\n",
            "text/plain": [
              "<Figure size 432x288 with 2 Axes>"
            ]
          },
          "metadata": {
            "tags": []
          }
        },
        {
          "output_type": "stream",
          "text": [
            "KNN\n",
            "Accuracy is: 0.881\n",
            "precision is: 0.810\n",
            "recall is: 0.323\n"
          ],
          "name": "stdout"
        },
        {
          "output_type": "display_data",
          "data": {
            "image/png": "iVBORw0KGgoAAAANSUhEUgAAAVAAAAEQCAYAAADmsCy1AAAABHNCSVQICAgIfAhkiAAAAAlwSFlz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\n6P8D7A6ui1O0R1cAAAAASUVORK5CYII=\n",
            "text/plain": [
              "<Figure size 432x288 with 2 Axes>"
            ]
          },
          "metadata": {
            "tags": []
          }
        },
        {
          "output_type": "stream",
          "text": [
            "SVM\n",
            "Accuracy is: 0.929\n",
            "precision is: 0.885\n",
            "recall is: 0.633\n"
          ],
          "name": "stdout"
        },
        {
          "output_type": "display_data",
          "data": {
            "image/png": "iVBORw0KGgoAAAANSUhEUgAAAVAAAAEQCAYAAADmsCy1AAAABHNCSVQICAgIfAhkiAAAAAlwSFlz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\nAGpmVpADqJlZQQ6gZmYF/X963Hii+c1jKAAAAABJRU5ErkJggg==\n",
            "text/plain": [
              "<Figure size 432x288 with 2 Axes>"
            ]
          },
          "metadata": {
            "tags": []
          }
        }
      ]
    },
    {
      "cell_type": "markdown",
      "metadata": {
        "id": "jx_3XkgKi0OW",
        "colab_type": "text"
      },
      "source": [
        "RandomForestClassifier, KNeighborsClassifier and LogisticRegression have predict_prob() function "
      ]
    },
    {
      "cell_type": "markdown",
      "metadata": {
        "id": "-Os_ZLTvi0OX",
        "colab_type": "text"
      },
      "source": [
        "#### Part 3.4.2: ROC & AUC"
      ]
    },
    {
      "cell_type": "markdown",
      "metadata": {
        "id": "Ne1o2aM9VMmp",
        "colab_type": "text"
      },
      "source": [
        "Randome Forest"
      ]
    },
    {
      "cell_type": "code",
      "metadata": {
        "id": "UypvQMVBi0OY",
        "colab_type": "code",
        "outputId": "3b830608-fbeb-4f2a-b7d1-48011d8d8914",
        "colab": {
          "base_uri": "https://localhost:8080/",
          "height": 136
        }
      },
      "source": [
        "from sklearn.metrics import roc_curve\n",
        "from sklearn import metrics\n",
        "y_pred_rf = best_RF_model.predict_proba(X_test)[:, 1]\n",
        "print (best_RF_model.predict_proba(X_test))\n",
        "fpr_rf, tpr_rf, _ = roc_curve(y_test, y_pred_rf)"
      ],
      "execution_count": 0,
      "outputs": [
        {
          "output_type": "stream",
          "text": [
            "[[0.975  0.025 ]\n",
            " [0.625  0.375 ]\n",
            " [0.05   0.95  ]\n",
            " ...\n",
            " [0.7875 0.2125]\n",
            " [0.975  0.025 ]\n",
            " [0.975  0.025 ]]\n"
          ],
          "name": "stdout"
        }
      ]
    },
    {
      "cell_type": "code",
      "metadata": {
        "id": "s3PR-PdPi0Ob",
        "colab_type": "code",
        "outputId": "88c51a5c-1e97-4940-f5e4-2e9f5a531c2c",
        "colab": {
          "base_uri": "https://localhost:8080/",
          "height": 295
        }
      },
      "source": [
        "plt.figure(1)\n",
        "plt.plot([0, 1], [0, 1], 'k--')\n",
        "plt.plot(fpr_rf, tpr_rf, label='RF')\n",
        "plt.xlabel('False positive rate')\n",
        "plt.ylabel('True positive rate')\n",
        "plt.title('ROC curve - RF model')\n",
        "plt.legend(loc='best')\n",
        "plt.show()"
      ],
      "execution_count": 0,
      "outputs": [
        {
          "output_type": "display_data",
          "data": {
            "image/png": "iVBORw0KGgoAAAANSUhEUgAAAYIAAAEWCAYAAABrDZDcAAAABHNCSVQICAgIfAhkiAAAAAlwSFlz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\nBMYYE+EsERhjTIT7f4MAt3L3dV11AAAAAElFTkSuQmCC\n",
            "text/plain": [
              "<Figure size 432x288 with 1 Axes>"
            ]
          },
          "metadata": {
            "tags": []
          }
        }
      ]
    },
    {
      "cell_type": "code",
      "metadata": {
        "id": "R89IUMYDi0Oe",
        "colab_type": "code",
        "outputId": "8d1f77ae-d10c-4aeb-d870-4bba0aa875fc",
        "colab": {
          "base_uri": "https://localhost:8080/",
          "height": 34
        }
      },
      "source": [
        "from sklearn import metrics\n",
        "metrics.auc(fpr_rf,tpr_rf) #auc = area under curve; The higher the auc, the better the prediction"
      ],
      "execution_count": 0,
      "outputs": [
        {
          "output_type": "execute_result",
          "data": {
            "text/plain": [
              "0.9055030217384767"
            ]
          },
          "metadata": {
            "tags": []
          },
          "execution_count": 298
        }
      ]
    },
    {
      "cell_type": "markdown",
      "metadata": {
        "id": "-1DVqnJVi0Oh",
        "colab_type": "text"
      },
      "source": [
        "Logistic Regression"
      ]
    },
    {
      "cell_type": "code",
      "metadata": {
        "id": "t-q5XJPoi0Oi",
        "colab_type": "code",
        "colab": {}
      },
      "source": [
        "y_pred_lr = best_LR_model.predict_proba(X_test)[:, 1]\n",
        "fpr_lr, tpr_lr, _ = roc_curve(y_test, y_pred_lr)"
      ],
      "execution_count": 0,
      "outputs": []
    },
    {
      "cell_type": "code",
      "metadata": {
        "id": "KZSrN-1Mi0Ok",
        "colab_type": "code",
        "outputId": "aec95a34-1419-4c6f-8c13-b2a96d289443",
        "colab": {
          "base_uri": "https://localhost:8080/",
          "height": 295
        }
      },
      "source": [
        "plt.figure(1)\n",
        "plt.plot([0, 1], [0, 1], 'k--')\n",
        "plt.plot(fpr_lr, tpr_lr, label='LR')\n",
        "plt.xlabel('False positive rate')\n",
        "plt.ylabel('True positive rate')\n",
        "plt.title('ROC curve - LR Model')\n",
        "plt.legend(loc='best')\n",
        "plt.show()"
      ],
      "execution_count": 0,
      "outputs": [
        {
          "output_type": "display_data",
          "data": {
            "image/png": "iVBORw0KGgoAAAANSUhEUgAAAYIAAAEWCAYAAABrDZDcAAAABHNCSVQICAgIfAhkiAAAAAlwSFlz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\nAQAAAABJRU5ErkJggg==\n",
            "text/plain": [
              "<Figure size 432x288 with 1 Axes>"
            ]
          },
          "metadata": {
            "tags": []
          }
        }
      ]
    },
    {
      "cell_type": "code",
      "metadata": {
        "id": "LHAyxishi0On",
        "colab_type": "code",
        "outputId": "57119c09-c053-4ac8-adfc-210bdf05d2f4",
        "colab": {
          "base_uri": "https://localhost:8080/",
          "height": 34
        }
      },
      "source": [
        "metrics.auc(fpr_lr,tpr_lr)"
      ],
      "execution_count": 0,
      "outputs": [
        {
          "output_type": "execute_result",
          "data": {
            "text/plain": [
              "0.8112089960612167"
            ]
          },
          "metadata": {
            "tags": []
          },
          "execution_count": 301
        }
      ]
    },
    {
      "cell_type": "markdown",
      "metadata": {
        "id": "JqIrs-I2O_Go",
        "colab_type": "text"
      },
      "source": [
        "KNN"
      ]
    },
    {
      "cell_type": "code",
      "metadata": {
        "id": "jGF8xwTjPCIh",
        "colab_type": "code",
        "colab": {}
      },
      "source": [
        "y_pred_knn = best_KNN_model.predict_proba(X_test)[:, 1]\n",
        "fpr_knn, tpr_knn, _ = roc_curve(y_test, y_pred_knn)"
      ],
      "execution_count": 0,
      "outputs": []
    },
    {
      "cell_type": "code",
      "metadata": {
        "id": "f4Z42luaPqwD",
        "colab_type": "code",
        "outputId": "0ea184a6-8651-4b5b-85d0-ac7eef0d34ae",
        "colab": {
          "base_uri": "https://localhost:8080/",
          "height": 295
        }
      },
      "source": [
        "plt.figure(1)\n",
        "plt.plot([0, 1], [0, 1], 'k--')\n",
        "plt.plot(fpr_knn, tpr_knn, label='KNN')\n",
        "plt.xlabel('False positive rate')\n",
        "plt.ylabel('True positive rate')\n",
        "plt.title('ROC curve - KNN Model')\n",
        "plt.legend(loc='best')\n",
        "plt.show()"
      ],
      "execution_count": 0,
      "outputs": [
        {
          "output_type": "display_data",
          "data": {
            "image/png": "iVBORw0KGgoAAAANSUhEUgAAAYIAAAEWCAYAAABrDZDcAAAABHNCSVQICAgIfAhkiAAAAAlwSFlz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\nQtz/A0bc4bCZFNYOAAAAAElFTkSuQmCC\n",
            "text/plain": [
              "<Figure size 432x288 with 1 Axes>"
            ]
          },
          "metadata": {
            "tags": []
          }
        }
      ]
    },
    {
      "cell_type": "code",
      "metadata": {
        "id": "N6eiruD1QKLz",
        "colab_type": "code",
        "outputId": "9dae1c37-7f0c-4d21-b445-4883afeb52d2",
        "colab": {
          "base_uri": "https://localhost:8080/",
          "height": 34
        }
      },
      "source": [
        "metrics.auc(fpr_knn,tpr_knn)"
      ],
      "execution_count": 0,
      "outputs": [
        {
          "output_type": "execute_result",
          "data": {
            "text/plain": [
              "0.8254495023903305"
            ]
          },
          "metadata": {
            "tags": []
          },
          "execution_count": 304
        }
      ]
    },
    {
      "cell_type": "markdown",
      "metadata": {
        "id": "mk5vvXP7QN68",
        "colab_type": "text"
      },
      "source": [
        "SVM"
      ]
    },
    {
      "cell_type": "code",
      "metadata": {
        "id": "_NDBn_IuQQgS",
        "colab_type": "code",
        "colab": {}
      },
      "source": [
        "y_pred_svm = best_SVM_model.predict_proba(X_test)[:, 1]\n",
        "fpr_svm, tpr_svm, _ = roc_curve(y_test, y_pred_svm)"
      ],
      "execution_count": 0,
      "outputs": []
    },
    {
      "cell_type": "code",
      "metadata": {
        "id": "LK7Ae7WGQQIC",
        "colab_type": "code",
        "outputId": "d9290b81-cbd6-42cc-a801-43b802033989",
        "colab": {
          "base_uri": "https://localhost:8080/",
          "height": 295
        }
      },
      "source": [
        "plt.figure(1)\n",
        "plt.plot([0, 1], [0, 1], 'k--')\n",
        "plt.plot(fpr_svm, tpr_svm, label='SVM')\n",
        "plt.xlabel('False positive rate')\n",
        "plt.ylabel('True positive rate')\n",
        "plt.title('ROC curve - SVM Model')\n",
        "plt.legend(loc='best')\n",
        "plt.show()"
      ],
      "execution_count": 0,
      "outputs": [
        {
          "output_type": "display_data",
          "data": {
            "image/png": "iVBORw0KGgoAAAANSUhEUgAAAYIAAAEWCAYAAABrDZDcAAAABHNCSVQICAgIfAhkiAAAAAlwSFlz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\njAlzlgiMMSbM/T90lxF1DQi3NwAAAABJRU5ErkJggg==\n",
            "text/plain": [
              "<Figure size 432x288 with 1 Axes>"
            ]
          },
          "metadata": {
            "tags": []
          }
        }
      ]
    },
    {
      "cell_type": "code",
      "metadata": {
        "id": "Fi5K-8P2QP2X",
        "colab_type": "code",
        "outputId": "179fff4a-e6d4-41eb-8d99-9c566d37446d",
        "colab": {
          "base_uri": "https://localhost:8080/",
          "height": 34
        }
      },
      "source": [
        "metrics.auc(fpr_svm, tpr_svm)"
      ],
      "execution_count": 0,
      "outputs": [
        {
          "output_type": "execute_result",
          "data": {
            "text/plain": [
              "0.8977494813433957"
            ]
          },
          "metadata": {
            "tags": []
          },
          "execution_count": 307
        }
      ]
    },
    {
      "cell_type": "markdown",
      "metadata": {
        "id": "gHHurD8Ii0Oq",
        "colab_type": "text"
      },
      "source": [
        "# Part 4: Feature Selection"
      ]
    },
    {
      "cell_type": "markdown",
      "metadata": {
        "id": "dSx4TPO-i0Or",
        "colab_type": "text"
      },
      "source": [
        "### Part 4.1: Logistic Regression Model"
      ]
    },
    {
      "cell_type": "markdown",
      "metadata": {
        "id": "BtLHUixoi0Ot",
        "colab_type": "text"
      },
      "source": [
        "The corelated features that we are interested in: (total_day_minutes, total_day_charge), (total_eve_minutes, total_eve_charge), (total_intl_minutes, total_intl_charge)."
      ]
    },
    {
      "cell_type": "code",
      "metadata": {
        "id": "2qhM2S28cvpD",
        "colab_type": "code",
        "outputId": "764c11b1-4191-4330-db98-1925963f5d41",
        "colab": {
          "base_uri": "https://localhost:8080/",
          "height": 68
        }
      },
      "source": [
        "print(LRmodel_l1.coef_[0])"
      ],
      "execution_count": 0,
      "outputs": [
        {
          "output_type": "stream",
          "text": [
            "[ 0.05335874  0.61299139 -0.86573058  0.39599923  0.30890643  0.04945538\n",
            "  0.42554711  0.09783367 -0.02836379  0.25992768  0.11006208 -0.02877388\n",
            "  0.0916005   0.16154889 -0.17427645  0.08178627  0.67297665]\n"
          ],
          "name": "stdout"
        }
      ]
    },
    {
      "cell_type": "code",
      "metadata": {
        "scrolled": true,
        "id": "cQaXOIsUi0Ou",
        "colab_type": "code",
        "outputId": "58a4d7a5-c6cb-448d-8860-3376725e520f",
        "colab": {
          "base_uri": "https://localhost:8080/",
          "height": 323
        }
      },
      "source": [
        "LRmodel_l1 = LogisticRegression(penalty=\"l1\")\n",
        "LRmodel_l1.fit(X, y)\n",
        "LRmodel_l1.coef_[0] # After normalization and standarization, coef can be used as a tool to see the important of feature\n",
        "print (\"Logistic Regression (L1) Coefficients\")\n",
        "for k,v in sorted(zip(map(lambda x: round(x, 4), LRmodel_l1.coef_[0]), \\\n",
        "                      churn_feat_space.columns), key=lambda k_v:(-abs(k_v[0]),k_v[1])):\n",
        "    print (v + \": \" + str(k))"
      ],
      "execution_count": 0,
      "outputs": [
        {
          "output_type": "stream",
          "text": [
            "Logistic Regression (L1) Coefficients\n",
            "voice_mail_plan: -0.8657\n",
            "number_customer_service_calls: 0.673\n",
            "intl_plan: 0.613\n",
            "total_day_charge: 0.4255\n",
            "number_vmail_messages: 0.396\n",
            "total_day_minutes: 0.3089\n",
            "total_eve_charge: 0.2599\n",
            "total_intl_calls: -0.1743\n",
            "total_intl_minutes: 0.1615\n",
            "total_night_minutes: 0.1101\n",
            "total_eve_minutes: 0.0978\n",
            "total_night_charge: 0.0916\n",
            "total_intl_charge: 0.0818\n",
            "account_length: 0.0534\n",
            "total_day_calls: 0.0495\n",
            "total_night_calls: -0.0288\n",
            "total_eve_calls: -0.0284\n"
          ],
          "name": "stdout"
        }
      ]
    },
    {
      "cell_type": "code",
      "metadata": {
        "id": "majifZZqi0O9",
        "colab_type": "code",
        "outputId": "bbdbe386-c537-4163-a6b9-1e097ce01e32",
        "colab": {
          "base_uri": "https://localhost:8080/",
          "height": 323
        }
      },
      "source": [
        "LRmodel_l2 = LogisticRegression(penalty=\"l2\") # L2 will give us similar results if two features have high correlation\n",
        "LRmodel_l2.fit(X, y)\n",
        "LRmodel_l2.coef_[0]\n",
        "print (\"Logistic Regression (L2) Coefficients\")\n",
        "for k,v in sorted(zip(map(lambda x: round(x, 4), LRmodel_l2.coef_[0]), \\\n",
        "                      churn_feat_space.columns), key=lambda k_v:(-abs(k_v[0]),k_v[1])):\n",
        "    print (v + \": \" + str(k))"
      ],
      "execution_count": 0,
      "outputs": [
        {
          "output_type": "stream",
          "text": [
            "Logistic Regression (L2) Coefficients\n",
            "voice_mail_plan: -0.8929\n",
            "number_customer_service_calls: 0.6731\n",
            "intl_plan: 0.6132\n",
            "number_vmail_messages: 0.4234\n",
            "total_day_minutes: 0.3687\n",
            "total_day_charge: 0.3664\n",
            "total_eve_charge: 0.18\n",
            "total_eve_minutes: 0.1794\n",
            "total_intl_calls: -0.1761\n",
            "total_intl_charge: 0.1235\n",
            "total_intl_minutes: 0.1217\n",
            "total_night_minutes: 0.1028\n",
            "total_night_charge: 0.1008\n",
            "account_length: 0.0552\n",
            "total_day_calls: 0.0513\n",
            "total_night_calls: -0.0307\n",
            "total_eve_calls: -0.0304\n"
          ],
          "name": "stdout"
        }
      ]
    },
    {
      "cell_type": "markdown",
      "metadata": {
        "id": "uqs41ydLi0O_",
        "colab_type": "text"
      },
      "source": [
        "### Part 4.2: Random Forest Model"
      ]
    },
    {
      "cell_type": "code",
      "metadata": {
        "id": "MPxUM2lei0PA",
        "colab_type": "code",
        "outputId": "db14113b-98dc-475b-d5d2-331e9af1e842",
        "colab": {
          "base_uri": "https://localhost:8080/",
          "height": 323
        }
      },
      "source": [
        "forest = RandomForestClassifier()\n",
        "forest.fit(X, y)\n",
        "\n",
        "importances = forest.feature_importances_\n",
        "\n",
        "# Print the feature ranking\n",
        "print(\"Feature importance ranking by Random Forest Model:\")\n",
        "for k,v in sorted(zip(map(lambda x: round(x, 4), importances), churn_feat_space.columns), reverse=True):\n",
        "    print (v + \": \" + str(k))"
      ],
      "execution_count": 0,
      "outputs": [
        {
          "output_type": "stream",
          "text": [
            "Feature importance ranking by Random Forest Model:\n",
            "total_day_minutes: 0.1669\n",
            "total_day_charge: 0.1348\n",
            "number_customer_service_calls: 0.1122\n",
            "intl_plan: 0.0852\n",
            "total_eve_minutes: 0.0733\n",
            "total_intl_calls: 0.0502\n",
            "total_eve_charge: 0.0498\n",
            "total_intl_minutes: 0.0485\n",
            "total_night_minutes: 0.0434\n",
            "total_night_charge: 0.041\n",
            "total_day_calls: 0.0302\n",
            "total_eve_calls: 0.0295\n",
            "number_vmail_messages: 0.0293\n",
            "total_intl_charge: 0.0289\n",
            "total_night_calls: 0.0281\n",
            "account_length: 0.0272\n",
            "voice_mail_plan: 0.0217\n"
          ],
          "name": "stdout"
        }
      ]
    },
    {
      "cell_type": "markdown",
      "metadata": {
        "id": "o_VFY-wY57ri",
        "colab_type": "text"
      },
      "source": [
        "Suggestions: Send to coupon/emails to those customers who want to churn from our analysis."
      ]
    }
  ]
}
